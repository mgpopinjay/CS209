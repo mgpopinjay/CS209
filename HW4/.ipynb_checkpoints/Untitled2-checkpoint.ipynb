{
 "metadata": {
  "name": "",
  "signature": "sha256:36f8ff596d10f37aedf8b67a67b7f5ee1f5038696ac9e0721a55255e084a18d1"
 },
 "nbformat": 3,
 "nbformat_minor": 0,
 "worksheets": []
}