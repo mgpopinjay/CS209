{
 "metadata": {
  "name": "",
  "signature": "sha256:885b7817f7eb37d31cd5f209328791300357349295de0e740a1f78f86e94eb9a"
 },
 "nbformat": 3,
 "nbformat_minor": 0,
 "worksheets": [
  {
   "cells": [
    {
     "cell_type": "markdown",
     "metadata": {},
     "source": [
      "# Homework 4: Can you predict the Midterm Elections?\n",
      "\n",
      "Due: Thursday, October 30, 2014 11:59 PM\n",
      "\n",
      "<a href=https://raw.githubusercontent.com/cs109/2014/master/homework/HW4.ipynb download=HW4.ipynb> Download this assignment</a>\n",
      "\n",
      "#### Submission Instructions\n",
      "To submit your homework, create a folder named lastname_firstinitial_hw# and place your IPython notebooks, data files, and any other files in this folder. Your IPython Notebooks should be completely executed with the results visible in the notebook. We should not have to run any code. Compress the folder (please use .zip compression) and submit to the CS109 dropbox in the appropriate folder. If we cannot access your work because these directions are not followed correctly, we will not grade your work. For the competition (problem 4), we will post a link on Piazza to a Google Form for you to submit your predictions. \n",
      "\n",
      "\n",
      "---\n"
     ]
    },
    {
     "cell_type": "markdown",
     "metadata": {},
     "source": [
      "## Introduction\n",
      "\n",
      "**Add Introduction**\n",
      "\n",
      "You will use the [HuffPost Pollster API](http://elections.huffingtonpost.com/pollster/api) to extract the polls for the current 2014 Senate Midterm Elections and provide a final prediction of the result of each state.\n",
      "\n",
      "#### Data\n",
      "\n",
      "We will use the polls from the [2014 Senate Midterm Elections](http://elections.huffingtonpost.com/pollster) from the [HuffPost Pollster API](http://elections.huffingtonpost.com/pollster/api). \n",
      "\n",
      "---"
     ]
    },
    {
     "cell_type": "markdown",
     "metadata": {},
     "source": [
      "## Problem 1: Data Wrangling\n",
      "\n",
      "We will read in the polls from the [2014 Senate Midterm Elections](http://elections.huffingtonpost.com/pollster) from the [HuffPost Pollster API](http://elections.huffingtonpost.com/pollster/api) and create a dictionary of DataFrames as well a master table information for each race."
     ]
    },
    {
     "cell_type": "markdown",
     "metadata": {},
     "source": [
      "#### Problem 1(a)\n",
      "\n",
      "Read in [this JSON object](http://elections.huffingtonpost.com/pollster/api/charts/?topic=2014-senate) containing the polls for the 2014 Senate Elections using the HuffPost API. Call this JSON object `info`.  This JSON object is imported as a list in Python where each element contains the information for one race.  Use the function `type` to confirm the that `info` is a list. "
     ]
    },
    {
     "cell_type": "code",
     "collapsed": false,
     "input": [
      "# special IPython command to prepare the notebook for matplotlib\n",
      "%matplotlib inline \n",
      "\n",
      "import urllib2 # module to read in HTML\n",
      "import bs4 # BeautifulSoup: module to parse HTML and XML\n",
      "import json # \n",
      "import datetime as dt # module for manipulating dates and times\n",
      "import pandas as pd\n",
      "import numpy as np\n",
      "import requests \n",
      "from StringIO import StringIO\n"
     ],
     "language": "python",
     "metadata": {},
     "outputs": [],
     "prompt_number": 476
    },
    {
     "cell_type": "code",
     "collapsed": false,
     "input": [
      "url_str = \"http://elections.huffingtonpost.com/pollster/api/charts/?topic=2014-senate\"\n",
      "election_url = [election['url'] + '.csv' for election in requests.get(url_str).json()]\n",
      "\n",
      "data = urllib2.urlopen(url_str).read()\n",
      "info = json.loads(data.decode('utf-8'))\n",
      "\n",
      "print len(info)\n",
      "print type(info)\n"
     ],
     "language": "python",
     "metadata": {},
     "outputs": [
      {
       "output_type": "stream",
       "stream": "stdout",
       "text": [
        "36\n",
        "<type 'list'>\n"
       ]
      }
     ],
     "prompt_number": 565
    },
    {
     "cell_type": "markdown",
     "metadata": {},
     "source": [
      "#### Problem 1(b)\n",
      "\n",
      "For each element of the list in `info` extract the state. We should have one poll per state, but we do not. Why?\n",
      "\n",
      "**Hint**: Use the internet to find out information on the races in each state that has more than one entry. Eliminate entries of the list that represent races that are not happening."
     ]
    },
    {
     "cell_type": "code",
     "collapsed": false,
     "input": [
      "#remove NH's old poll entry\n",
      "info.remove('http://elections.huffingtonpost.com/pollster/2014-new-hampshire-senate-bass-vs-shaheen.csv')"
     ],
     "language": "python",
     "metadata": {},
     "outputs": [],
     "prompt_number": 525
    },
    {
     "cell_type": "markdown",
     "metadata": {},
     "source": [
      "** Your answer here: **\n",
      "\n",
      "New Hampshire has an additional entry from 2013 before Charles Bass (Rep) withdrew from the race to be replaced by Scott Brown.\n",
      "South Carolina and Oklahoma both have a special election to replace seats for senators stepping down before the end of their official terms. "
     ]
    },
    {
     "cell_type": "markdown",
     "metadata": {},
     "source": [
      "#### Problem 1(c)\n",
      "\n",
      "Create a dictionary of pandas DataFrames called `polls` keyed by the name of the election (a string). Each value in the dictionary should contain the polls for one of the races."
     ]
    },
    {
     "cell_type": "code",
     "collapsed": false,
     "input": [
      "def build_frame(url):\n",
      "    \"\"\"\n",
      "    Returns a pandas DataFrame object containing\n",
      "    the data returned from the given url\n",
      "    \"\"\"\n",
      "    source = requests.get(url).text\n",
      "    \n",
      "    # Use StringIO because pd.DataFrame.from_csv requires .read() method\n",
      "    s = StringIO(source)\n",
      "    \n",
      "    return pd.DataFrame.from_csv(s, index_col=None).convert_objects(\n",
      "            convert_dates=\"coerce\", convert_numeric=True)\n",
      "\n",
      "# Makes a dictionary of pandas DataFrames keyed on election string.\n",
      "polls = dict((election.split(\"/\")[-1][:-4], build_frame(election)) for election in election_url)\n",
      "\n",
      "#len(polls)\n",
      "#polls['2014-kentucky-senate-mcconnell-vs-grimes']\n",
      "polls.keys()\n"
     ],
     "language": "python",
     "metadata": {},
     "outputs": [
      {
       "metadata": {},
       "output_type": "pyout",
       "prompt_number": 561,
       "text": [
        "[u'2014-kentucky-senate-mcconnell-vs-grimes',\n",
        " u'2014-montana-senate-daines-vs-curtis',\n",
        " u'2014-north-carolina-senate-tillis-vs-hagan',\n",
        " u'2014-tennessee-senate-alexander-vs-ball',\n",
        " u'2014-michigan-senate-land-vs-peters',\n",
        " u'2014-wyoming-senate',\n",
        " u'2014-alaska-senate-sullivan-vs-begich',\n",
        " u'2014-oregon-senate-wehby-vs-merkley',\n",
        " u'2014-new-hampshire-senate-brown-vs-shaheen',\n",
        " u'2014-mississippi-senate-cochran-vs-childers',\n",
        " u'2014-rhode-island-senate-zaccaria-vs-reed',\n",
        " u'2014-new-jersey-senate-bell-vs-booker',\n",
        " u'2014-virginia-senate-gillespie-vs-warner',\n",
        " u'2014-south-dakota-senate-rounds-vs-weiland',\n",
        " u'2014-nebraska-senate-sasse-vs-domina',\n",
        " u'2014-iowa-senate-ernst-vs-braley',\n",
        " u'2014-oklahoma-senate-inhofe-vs-silverstein',\n",
        " u'2014-illinois-senate-oberweis-vs-durbin',\n",
        " u'2014-south-carolina-senate-graham-vs-hutto',\n",
        " u'2014-maine-senate-collins-vs-bellows',\n",
        " u'2014-west-virginia-senate-capito-vs-tennant',\n",
        " u'2014-hawaii-senate-cavasso-vs-schatz',\n",
        " u'2014-delaware-senate-wade-vs-coons',\n",
        " u'2014-massachusetts-senate-herr-vs-markey',\n",
        " u'2014-minnesota-senate-mcfadden-vs-franken',\n",
        " u'2014-louisiana-senate-cassidy-vs-landrieu',\n",
        " u'2014-georgia-senate-perdue-vs-nunn',\n",
        " u'2014-kansas-senate-roberts-vs-orman-vs-taylor',\n",
        " u'2014-oklahoma-senate-lankford-vs-johnson',\n",
        " u'2014-new-mexico-senate-weh-vs-udall',\n",
        " u'2014-idaho-senate-risch-vs-mitchell',\n",
        " u'2014-texas-senate-cornyn-vs-alameel',\n",
        " u'2014-arkansas-senate-cotton-vs-pryor',\n",
        " u'2014-south-carolina-senate-scott-vs-dickerson',\n",
        " u'2014-colorado-senate-gardner-vs-udall',\n",
        " u'2014-new-hampshire-senate-bass-vs-shaheen']"
       ]
      }
     ],
     "prompt_number": 561
    },
    {
     "cell_type": "code",
     "collapsed": false,
     "input": [
      "info[6]['estimates'][0]['party']"
     ],
     "language": "python",
     "metadata": {},
     "outputs": [
      {
       "ename": "IndexError",
       "evalue": "list index out of range",
       "output_type": "pyerr",
       "traceback": [
        "\u001b[0;31m---------------------------------------------------------------------------\u001b[0m\n\u001b[0;31mIndexError\u001b[0m                                Traceback (most recent call last)",
        "\u001b[0;32m<ipython-input-574-a6a961d541c6>\u001b[0m in \u001b[0;36m<module>\u001b[0;34m()\u001b[0m\n\u001b[0;32m----> 1\u001b[0;31m \u001b[0minfo\u001b[0m\u001b[0;34m[\u001b[0m\u001b[0;36m6\u001b[0m\u001b[0;34m]\u001b[0m\u001b[0;34m[\u001b[0m\u001b[0;34m'estimates'\u001b[0m\u001b[0;34m]\u001b[0m\u001b[0;34m[\u001b[0m\u001b[0;36m0\u001b[0m\u001b[0;34m]\u001b[0m\u001b[0;34m[\u001b[0m\u001b[0;34m'party'\u001b[0m\u001b[0;34m]\u001b[0m\u001b[0;34m\u001b[0m\u001b[0m\n\u001b[0m",
        "\u001b[0;31mIndexError\u001b[0m: list index out of range"
       ]
      }
     ],
     "prompt_number": 574
    },
    {
     "cell_type": "markdown",
     "metadata": {},
     "source": [
      "#### Problem 1(d)\n",
      "\n",
      "Now creaate a master table information containing information about each race. Create a pandas DataFrame called `candidates` with rows containing information about each race. The `candidates` DataFrame should have the following columns: \n",
      "\n",
      "1. `State` = entries should be unique\n",
      "2. `R` = name of republican candidate\n",
      "3. `D` = name of non-republican candidate (Democrate or Independent) \n",
      "4. `incumbent` = R, D or NA\n",
      "\n",
      "**Hint**: You will need a considerable amount of data wrangling for this."
     ]
    },
    {
     "cell_type": "code",
     "collapsed": true,
     "input": [
      "info[1]"
     ],
     "language": "python",
     "metadata": {},
     "outputs": [
      {
       "metadata": {},
       "output_type": "pyout",
       "prompt_number": 609,
       "text": [
        "{u'election_date': u'2014-11-04',\n",
        " u'estimates': [{u'choice': u'Cotton',\n",
        "   u'first_name': u'Tom',\n",
        "   u'incumbent': False,\n",
        "   u'last_name': u'Cotton',\n",
        "   u'lead_confidence': 99.2,\n",
        "   u'party': u'Rep',\n",
        "   u'value': 47.9},\n",
        "  {u'choice': u'Pryor',\n",
        "   u'first_name': u'Mark',\n",
        "   u'incumbent': True,\n",
        "   u'last_name': u'Pryor',\n",
        "   u'lead_confidence': 0.8,\n",
        "   u'party': u'Dem',\n",
        "   u'value': 44.0}],\n",
        " u'last_updated': u'2014-10-26T14:35:13Z',\n",
        " u'poll_count': 57,\n",
        " u'short_title': u'2014 Arkansas Senate',\n",
        " u'slug': u'2014-arkansas-senate-cotton-vs-pryor',\n",
        " u'state': u'AR',\n",
        " u'title': u'2014 Arkansas Senate: Cotton vs. Pryor',\n",
        " u'topic': u'2014-senate',\n",
        " u'url': u'http://elections.huffingtonpost.com/pollster/2014-arkansas-senate-cotton-vs-pryor'}"
       ]
      }
     ],
     "prompt_number": 609
    },
    {
     "cell_type": "code",
     "collapsed": false,
     "input": [
      "if info[33]['estimates'] == []:\n",
      "    print \"frefer\"\n",
      "info"
     ],
     "language": "python",
     "metadata": {},
     "outputs": [],
     "prompt_number": 595
    },
    {
     "cell_type": "code",
     "collapsed": false,
     "input": [
      "\n",
      "races = len(info)  \n",
      "cand = []\n",
      "\n",
      "for r in range(races):\n",
      "    states = (info[r]['state'])\n",
      "    if info[r]['estimates'] == []:\n",
      "            R = \"NA\"\n",
      "            D = \"NA\"\n",
      "            incumbent = 'NA'\n",
      "            r += 1\n",
      "    elif info[r]['estimates'][0]['party'] == 'Rep':\n",
      "            R = (info[r]['estimates'][0]['choice'])\n",
      "            D = (info[r]['estimates'][1]['choice'])\n",
      "            #if info[r]['estimates'][0]['incumbent'] == True:\n",
      "                    #incumbent = info[r]['estimates'][0]['party']\n",
      "    elif info[r]['estimates'][0]['party'] == 'Dem':\n",
      "            R = (info[r]['estimates'][1]['choice'])\n",
      "            D = (info[r]['estimates'][0]['choice'])\n",
      "            #if info[r]['estimates'][0]['incumbent'] == True: \n",
      "                    #incumbent = 'D'\n",
      "        #elif info[r]['estimates'][c]['party'] == 'Ind':\n",
      "            # = (info[r]['estimates'][c]['choice'])\n",
      "    else:\n",
      "            R = \"NA\"\n",
      "            D = \"NA\"\n",
      "    \n",
      "    if info[r]['estimates'][0]['incumbent'] == True:\n",
      "            incumbent = info[r]['estimates'][0]['party'] \n",
      "    elif info[r]['estimates'][1]['incumbent'] == True:\n",
      "            incumbent = info[r]['estimates'][1]['party'] \n",
      "            \n",
      "            #elif mt[2]['estimates'][0]['incumbent'] == True\n",
      "    #incumbent = 'D'\n",
      "#mt[2]['estimates'][0]['incumbent']\n",
      "\n",
      "    \n",
      "    cand.append([states, R, D, incumbent])\n",
      "\n",
      "cand\n",
      "heads = ['State', 'R','D','Incumbent']\n",
      "\n",
      "candidates = pd.DataFrame(cand, columns=heads)\n",
      "\n",
      "candidates"
     ],
     "language": "python",
     "metadata": {},
     "outputs": [
      {
       "html": [
        "<div style=\"max-height:1000px;max-width:1500px;overflow:auto;\">\n",
        "<table border=\"1\" class=\"dataframe\">\n",
        "  <thead>\n",
        "    <tr style=\"text-align: right;\">\n",
        "      <th></th>\n",
        "      <th>State</th>\n",
        "      <th>R</th>\n",
        "      <th>D</th>\n",
        "      <th>Incumbent</th>\n",
        "    </tr>\n",
        "  </thead>\n",
        "  <tbody>\n",
        "    <tr>\n",
        "      <th>0 </th>\n",
        "      <td> KY</td>\n",
        "      <td> McConnell</td>\n",
        "      <td>      Grimes</td>\n",
        "      <td> Rep</td>\n",
        "    </tr>\n",
        "    <tr>\n",
        "      <th>1 </th>\n",
        "      <td> AR</td>\n",
        "      <td>    Cotton</td>\n",
        "      <td>       Pryor</td>\n",
        "      <td> Dem</td>\n",
        "    </tr>\n",
        "    <tr>\n",
        "      <th>2 </th>\n",
        "      <td> MI</td>\n",
        "      <td>      Land</td>\n",
        "      <td>      Peters</td>\n",
        "      <td> Dem</td>\n",
        "    </tr>\n",
        "    <tr>\n",
        "      <th>3 </th>\n",
        "      <td> LA</td>\n",
        "      <td>   Cassidy</td>\n",
        "      <td>    Landrieu</td>\n",
        "      <td> Dem</td>\n",
        "    </tr>\n",
        "    <tr>\n",
        "      <th>4 </th>\n",
        "      <td> NH</td>\n",
        "      <td>     Brown</td>\n",
        "      <td>     Shaheen</td>\n",
        "      <td> Dem</td>\n",
        "    </tr>\n",
        "    <tr>\n",
        "      <th>5 </th>\n",
        "      <td> WV</td>\n",
        "      <td>    Capito</td>\n",
        "      <td>     Tennant</td>\n",
        "      <td> Dem</td>\n",
        "    </tr>\n",
        "    <tr>\n",
        "      <th>6 </th>\n",
        "      <td> NH</td>\n",
        "      <td>        NA</td>\n",
        "      <td>          NA</td>\n",
        "      <td> Dem</td>\n",
        "    </tr>\n",
        "    <tr>\n",
        "      <th>7 </th>\n",
        "      <td> NC</td>\n",
        "      <td>    Tillis</td>\n",
        "      <td>       Hagan</td>\n",
        "      <td> Dem</td>\n",
        "    </tr>\n",
        "    <tr>\n",
        "      <th>8 </th>\n",
        "      <td> VA</td>\n",
        "      <td> Gillespie</td>\n",
        "      <td>      Warner</td>\n",
        "      <td> Dem</td>\n",
        "    </tr>\n",
        "    <tr>\n",
        "      <th>9 </th>\n",
        "      <td> CO</td>\n",
        "      <td>   Gardner</td>\n",
        "      <td>       Udall</td>\n",
        "      <td> Dem</td>\n",
        "    </tr>\n",
        "    <tr>\n",
        "      <th>10</th>\n",
        "      <td> IL</td>\n",
        "      <td>  Oberweis</td>\n",
        "      <td>      Durbin</td>\n",
        "      <td> Dem</td>\n",
        "    </tr>\n",
        "    <tr>\n",
        "      <th>11</th>\n",
        "      <td> AK</td>\n",
        "      <td>  Sullivan</td>\n",
        "      <td>      Begich</td>\n",
        "      <td> Dem</td>\n",
        "    </tr>\n",
        "    <tr>\n",
        "      <th>12</th>\n",
        "      <td> IA</td>\n",
        "      <td>     Ernst</td>\n",
        "      <td>      Braley</td>\n",
        "      <td> Dem</td>\n",
        "    </tr>\n",
        "    <tr>\n",
        "      <th>13</th>\n",
        "      <td> MS</td>\n",
        "      <td>   Cochran</td>\n",
        "      <td>    Childers</td>\n",
        "      <td> Rep</td>\n",
        "    </tr>\n",
        "    <tr>\n",
        "      <th>14</th>\n",
        "      <td> OR</td>\n",
        "      <td>     Wehby</td>\n",
        "      <td>     Merkley</td>\n",
        "      <td> Dem</td>\n",
        "    </tr>\n",
        "    <tr>\n",
        "      <th>15</th>\n",
        "      <td> GA</td>\n",
        "      <td>    Perdue</td>\n",
        "      <td>        Nunn</td>\n",
        "      <td> Dem</td>\n",
        "    </tr>\n",
        "    <tr>\n",
        "      <th>16</th>\n",
        "      <td> NE</td>\n",
        "      <td>     Sasse</td>\n",
        "      <td>      Domina</td>\n",
        "      <td> Dem</td>\n",
        "    </tr>\n",
        "    <tr>\n",
        "      <th>17</th>\n",
        "      <td> SD</td>\n",
        "      <td>    Rounds</td>\n",
        "      <td>     Weiland</td>\n",
        "      <td> Dem</td>\n",
        "    </tr>\n",
        "    <tr>\n",
        "      <th>18</th>\n",
        "      <td> ME</td>\n",
        "      <td>   Collins</td>\n",
        "      <td>     Bellows</td>\n",
        "      <td> Rep</td>\n",
        "    </tr>\n",
        "    <tr>\n",
        "      <th>19</th>\n",
        "      <td> MN</td>\n",
        "      <td>  McFadden</td>\n",
        "      <td>     Franken</td>\n",
        "      <td> Dem</td>\n",
        "    </tr>\n",
        "    <tr>\n",
        "      <th>20</th>\n",
        "      <td> TX</td>\n",
        "      <td>    Cornyn</td>\n",
        "      <td>     Alameel</td>\n",
        "      <td> Rep</td>\n",
        "    </tr>\n",
        "    <tr>\n",
        "      <th>21</th>\n",
        "      <td> SC</td>\n",
        "      <td>    Graham</td>\n",
        "      <td>       Hutto</td>\n",
        "      <td> Rep</td>\n",
        "    </tr>\n",
        "    <tr>\n",
        "      <th>22</th>\n",
        "      <td> SC</td>\n",
        "      <td>     Scott</td>\n",
        "      <td>   Dickerson</td>\n",
        "      <td> Rep</td>\n",
        "    </tr>\n",
        "    <tr>\n",
        "      <th>23</th>\n",
        "      <td> OK</td>\n",
        "      <td>    Inhofe</td>\n",
        "      <td> Silverstein</td>\n",
        "      <td> Rep</td>\n",
        "    </tr>\n",
        "    <tr>\n",
        "      <th>24</th>\n",
        "      <td> NM</td>\n",
        "      <td>       Weh</td>\n",
        "      <td>       Udall</td>\n",
        "      <td> Dem</td>\n",
        "    </tr>\n",
        "    <tr>\n",
        "      <th>25</th>\n",
        "      <td> NJ</td>\n",
        "      <td>      Bell</td>\n",
        "      <td>      Booker</td>\n",
        "      <td> Dem</td>\n",
        "    </tr>\n",
        "    <tr>\n",
        "      <th>26</th>\n",
        "      <td> ID</td>\n",
        "      <td>     Risch</td>\n",
        "      <td>    Mitchell</td>\n",
        "      <td> Rep</td>\n",
        "    </tr>\n",
        "    <tr>\n",
        "      <th>27</th>\n",
        "      <td> TN</td>\n",
        "      <td> Alexander</td>\n",
        "      <td>        Ball</td>\n",
        "      <td> Rep</td>\n",
        "    </tr>\n",
        "    <tr>\n",
        "      <th>28</th>\n",
        "      <td> WY</td>\n",
        "      <td>      Enzi</td>\n",
        "      <td>       Hardy</td>\n",
        "      <td> Rep</td>\n",
        "    </tr>\n",
        "    <tr>\n",
        "      <th>29</th>\n",
        "      <td> KS</td>\n",
        "      <td>   Roberts</td>\n",
        "      <td>       Orman</td>\n",
        "      <td> Rep</td>\n",
        "    </tr>\n",
        "    <tr>\n",
        "      <th>30</th>\n",
        "      <td> HI</td>\n",
        "      <td>   Cavasso</td>\n",
        "      <td>      Schatz</td>\n",
        "      <td> Dem</td>\n",
        "    </tr>\n",
        "    <tr>\n",
        "      <th>31</th>\n",
        "      <td> OK</td>\n",
        "      <td>  Lankford</td>\n",
        "      <td>     Johnson</td>\n",
        "      <td> Dem</td>\n",
        "    </tr>\n",
        "    <tr>\n",
        "      <th>32</th>\n",
        "      <td> MT</td>\n",
        "      <td>    Daines</td>\n",
        "      <td>      Curtis</td>\n",
        "      <td> Dem</td>\n",
        "    </tr>\n",
        "    <tr>\n",
        "      <th>33</th>\n",
        "      <td> RI</td>\n",
        "      <td>        NA</td>\n",
        "      <td>          NA</td>\n",
        "      <td> Dem</td>\n",
        "    </tr>\n",
        "    <tr>\n",
        "      <th>34</th>\n",
        "      <td> MA</td>\n",
        "      <td>      Herr</td>\n",
        "      <td>      Markey</td>\n",
        "      <td> Dem</td>\n",
        "    </tr>\n",
        "    <tr>\n",
        "      <th>35</th>\n",
        "      <td> DE</td>\n",
        "      <td>      Wade</td>\n",
        "      <td>       Coons</td>\n",
        "      <td> Dem</td>\n",
        "    </tr>\n",
        "  </tbody>\n",
        "</table>\n",
        "</div>"
       ],
       "metadata": {},
       "output_type": "pyout",
       "prompt_number": 613,
       "text": [
        "   State          R            D Incumbent\n",
        "0     KY  McConnell       Grimes       Rep\n",
        "1     AR     Cotton        Pryor       Dem\n",
        "2     MI       Land       Peters       Dem\n",
        "3     LA    Cassidy     Landrieu       Dem\n",
        "4     NH      Brown      Shaheen       Dem\n",
        "5     WV     Capito      Tennant       Dem\n",
        "6     NH         NA           NA       Dem\n",
        "7     NC     Tillis        Hagan       Dem\n",
        "8     VA  Gillespie       Warner       Dem\n",
        "9     CO    Gardner        Udall       Dem\n",
        "10    IL   Oberweis       Durbin       Dem\n",
        "11    AK   Sullivan       Begich       Dem\n",
        "12    IA      Ernst       Braley       Dem\n",
        "13    MS    Cochran     Childers       Rep\n",
        "14    OR      Wehby      Merkley       Dem\n",
        "15    GA     Perdue         Nunn       Dem\n",
        "16    NE      Sasse       Domina       Dem\n",
        "17    SD     Rounds      Weiland       Dem\n",
        "18    ME    Collins      Bellows       Rep\n",
        "19    MN   McFadden      Franken       Dem\n",
        "20    TX     Cornyn      Alameel       Rep\n",
        "21    SC     Graham        Hutto       Rep\n",
        "22    SC      Scott    Dickerson       Rep\n",
        "23    OK     Inhofe  Silverstein       Rep\n",
        "24    NM        Weh        Udall       Dem\n",
        "25    NJ       Bell       Booker       Dem\n",
        "26    ID      Risch     Mitchell       Rep\n",
        "27    TN  Alexander         Ball       Rep\n",
        "28    WY       Enzi        Hardy       Rep\n",
        "29    KS    Roberts        Orman       Rep\n",
        "30    HI    Cavasso       Schatz       Dem\n",
        "31    OK   Lankford      Johnson       Dem\n",
        "32    MT     Daines       Curtis       Dem\n",
        "33    RI         NA           NA       Dem\n",
        "34    MA       Herr       Markey       Dem\n",
        "35    DE       Wade        Coons       Dem"
       ]
      }
     ],
     "prompt_number": 613
    },
    {
     "cell_type": "markdown",
     "metadata": {},
     "source": [
      "## Problem 2: Confidence Intervals\n",
      "\n",
      "Compute a 99% confidence interval for each state. "
     ]
    },
    {
     "cell_type": "markdown",
     "metadata": {},
     "source": [
      "#### Problem 2(a)\n",
      "\n",
      "Assume you have $M$ polls with sample sizes $n_1, \\dots, n_M$. If the polls are independent, what is the average of the variances of each poll if the true proportion is $p$?"
     ]
    },
    {
     "cell_type": "code",
     "collapsed": false,
     "input": [
      "\n",
      "#[n * p * (1-p)] "
     ],
     "language": "python",
     "metadata": {},
     "outputs": []
    },
    {
     "cell_type": "markdown",
     "metadata": {},
     "source": [
      "** Your answer here: **"
     ]
    },
    {
     "cell_type": "markdown",
     "metadata": {},
     "source": [
      "#### Problem 2(b)\n",
      "\n",
      "Compute the square root of these values in Problem 2(a) for the republican candidates in each race. Then, compute the standard deviations of the observed poll results for each race. "
     ]
    },
    {
     "cell_type": "code",
     "collapsed": false,
     "input": [
      "\n",
      "\n",
      "#The proportion formula is for the variance. The square root of the variance is the standard deviation.\n"
     ],
     "language": "python",
     "metadata": {},
     "outputs": []
    },
    {
     "cell_type": "markdown",
     "metadata": {},
     "source": [
      "#### Problem 2(c) \n",
      "\n",
      "Plot observed versus theoretical (average of the theoretical SDs) with the area of the point proportional to number of polls. How do these compare?"
     ]
    },
    {
     "cell_type": "code",
     "collapsed": false,
     "input": [
      "### Your code here ###"
     ],
     "language": "python",
     "metadata": {},
     "outputs": []
    },
    {
     "cell_type": "markdown",
     "metadata": {},
     "source": [
      "** Your answer here: **"
     ]
    },
    {
     "cell_type": "markdown",
     "metadata": {},
     "source": [
      "#### Problem 2(d)\n",
      "\n",
      "Repeat Problem 2(c) but include only the most recent polls from the last two months. Do they match better or worse or the same? Can we just trust the theoretical values?"
     ]
    },
    {
     "cell_type": "code",
     "collapsed": false,
     "input": [
      "### Your code here ###"
     ],
     "language": "python",
     "metadata": {},
     "outputs": []
    },
    {
     "cell_type": "markdown",
     "metadata": {},
     "source": [
      "** Your answer here: **"
     ]
    },
    {
     "cell_type": "markdown",
     "metadata": {},
     "source": [
      "#### Problem 2(e)\n",
      "\n",
      "Create a scatter plot with each point representing one state. Is there one or more races that are outlier in that it they have much larger variabilityes than expected ? Explore the original poll data and explain why the discrepancy?"
     ]
    },
    {
     "cell_type": "code",
     "collapsed": false,
     "input": [
      "### Your code here ###"
     ],
     "language": "python",
     "metadata": {},
     "outputs": []
    },
    {
     "cell_type": "markdown",
     "metadata": {},
     "source": [
      "** Your answer here: **"
     ]
    },
    {
     "cell_type": "markdown",
     "metadata": {},
     "source": [
      "#### Problem 2(f)\n",
      "\n",
      " Construct confidence intervals for the difference in each race. Use either theoretical or data driven estimates of the standard error depending on your answer to this question. Use the results in Problem 2(e), to justify your choice.\n"
     ]
    },
    {
     "cell_type": "code",
     "collapsed": false,
     "input": [
      "### Your code here ###"
     ],
     "language": "python",
     "metadata": {},
     "outputs": []
    },
    {
     "cell_type": "markdown",
     "metadata": {},
     "source": [
      "# Problem 3: Prediction and Posterior Probabilities\n",
      "\n",
      "Perform a Bayesian analysis to predict the probability of Republicans winning in each state then provide a posterior distribution of the number of republicans in the senate."
     ]
    },
    {
     "cell_type": "markdown",
     "metadata": {},
     "source": [
      "#### Problem 3(a)\n",
      "\n",
      "First, we define a Bayesian model for each race. The prior for the difference $d$ between republicans and democtrats will be $N(\\mu,\\tau^2)$. Say before seeing poll data you have idea who is going to win, what should $\\mu$ be? How about $\\tau$, should it be large or small? "
     ]
    },
    {
     "cell_type": "markdown",
     "metadata": {},
     "source": [
      "** Your answer here: **"
     ]
    },
    {
     "cell_type": "markdown",
     "metadata": {},
     "source": [
      "#### Problem 3(b)\n",
      "\n",
      "What is the distribution of $d$ conditioned on $\\mu$. What is the posterior distribution of $\\mu | d$? \n",
      "\n",
      "**Hint**: Use normal approximation. "
     ]
    },
    {
     "cell_type": "markdown",
     "metadata": {},
     "source": [
      "**Your answer here:**"
     ]
    },
    {
     "cell_type": "markdown",
     "metadata": {},
     "source": [
      "#### Problem 3(c)\n",
      "\n",
      "The prior represents what we think before hand. We do not know who is expected to win, so we assume $\\mu=0$. For this problem estimate $\\tau$ using the observed differences across states (Hint: $\\tau$ represents the standard deviation of a typical difference). Compute the posterior mean for each state and plot it against original average. Is there much change? Why or why not? "
     ]
    },
    {
     "cell_type": "code",
     "collapsed": false,
     "input": [
      "### Your code here ###"
     ],
     "language": "python",
     "metadata": {},
     "outputs": []
    },
    {
     "cell_type": "markdown",
     "metadata": {},
     "source": [
      "**Your answer here:**"
     ]
    },
    {
     "cell_type": "markdown",
     "metadata": {},
     "source": [
      "#### Problem 3(d)\n",
      "\n",
      "For each state, report a probabilty of Republicans winning. How does your answer here compare to the other aggregators?"
     ]
    },
    {
     "cell_type": "code",
     "collapsed": false,
     "input": [
      "### Your code here ###"
     ],
     "language": "python",
     "metadata": {},
     "outputs": []
    },
    {
     "cell_type": "markdown",
     "metadata": {},
     "source": [
      "**Your answer here:**"
     ]
    },
    {
     "cell_type": "markdown",
     "metadata": {},
     "source": [
      "#### Problem 3(e)\n",
      "\n",
      "Use the posterior distributions in a Monte Carlo simulation to generate election results. In each simulation compute the total number of seats the Republican control. Show a histogram of these results."
     ]
    },
    {
     "cell_type": "code",
     "collapsed": false,
     "input": [
      "### Your code here ###"
     ],
     "language": "python",
     "metadata": {},
     "outputs": []
    },
    {
     "cell_type": "markdown",
     "metadata": {},
     "source": [
      "## Problem 4\n",
      "\n",
      "Predict the results for the 2014 Midterm Elections. We will have a three competitions with the terms for scoring entries described above. For both questions below, **explain** or provide commentary on how you arrived at your predictions including code. \n",
      "\n",
      "**Hint**: Use election results from 2010, 2012 to build and test models."
     ]
    },
    {
     "cell_type": "markdown",
     "metadata": {},
     "source": [
      "#### Problem 4(a)\n",
      "\n",
      "Predict the number of Republican senators. You may provide an interval. Smallest interval that includes the election day result wins. \n",
      "\n",
      "**Note**: we want the total so add the numbers of those that are not up for election."
     ]
    },
    {
     "cell_type": "code",
     "collapsed": false,
     "input": [
      "### Your code here ###"
     ],
     "language": "python",
     "metadata": {},
     "outputs": []
    },
    {
     "cell_type": "markdown",
     "metadata": {},
     "source": [
      "**Provide an explanation of methodology here**:"
     ]
    },
    {
     "cell_type": "markdown",
     "metadata": {},
     "source": [
      "#### Problem 4(b)\n",
      "\n",
      "Predict the R-D difference in each state. The predictions that minimize the residual sum of squares between predicted and observed differences wins."
     ]
    },
    {
     "cell_type": "code",
     "collapsed": false,
     "input": [
      "### Your code here ###"
     ],
     "language": "python",
     "metadata": {},
     "outputs": []
    },
    {
     "cell_type": "markdown",
     "metadata": {},
     "source": [
      "**Provide an explanation of methodology here**:"
     ]
    },
    {
     "cell_type": "markdown",
     "metadata": {},
     "source": [
      "#### Problem 4(c)\n",
      "\n",
      "Report a confidence interval for the R-D difference in each state. If the election day result falls outside your confidence interval in more than two states you are eliminated. For those surviving this cutoff, we will add up the size of all confidence intervals and sum. The smallest total length of confidence interval wins. \n",
      "\n",
      "**Note**: you can use Bayesian credible intervals or whatever else you want. "
     ]
    },
    {
     "cell_type": "code",
     "collapsed": false,
     "input": [
      "### Your code here ###"
     ],
     "language": "python",
     "metadata": {},
     "outputs": []
    },
    {
     "cell_type": "markdown",
     "metadata": {},
     "source": [
      "**Provide an explanation of methodology here**:"
     ]
    },
    {
     "cell_type": "markdown",
     "metadata": {},
     "source": [
      "# Submission Instructions\n",
      "\n",
      "To submit your homework, create a folder named **lastname_firstinitial_hw#** and place your IPython notebooks, data files, and any other files in this folder. Your IPython Notebooks should be completely executed with the results visible in the notebook. We should not have to run any code.  Compress the folder (please use .zip compression) and submit to the CS109 dropbox in the appropriate folder. *If we cannot access your work because these directions are not followed correctly, we will not grade your work.*\n"
     ]
    }
   ],
   "metadata": {}
  }
 ]
}