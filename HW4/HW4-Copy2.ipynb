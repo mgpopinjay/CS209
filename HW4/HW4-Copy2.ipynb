{
 "metadata": {
  "name": "",
  "signature": "sha256:56120cb58b94c319a8dd3aa1f8db56454065567af2ad59108f43abebcb5284e7"
 },
 "nbformat": 3,
 "nbformat_minor": 0,
 "worksheets": [
  {
   "cells": [
    {
     "cell_type": "markdown",
     "metadata": {},
     "source": [
      "# Homework 4: Can you predict the Midterm Elections?\n",
      "\n",
      "Due: Thursday, October 30, 2014 11:59 PM\n",
      "\n",
      "<a href=https://raw.githubusercontent.com/cs109/2014/master/homework/HW4.ipynb download=HW4.ipynb> Download this assignment</a>\n",
      "\n",
      "#### Submission Instructions\n",
      "To submit your homework, create a folder named lastname_firstinitial_hw# and place your IPython notebooks, data files, and any other files in this folder. Your IPython Notebooks should be completely executed with the results visible in the notebook. We should not have to run any code. Compress the folder (please use .zip compression) and submit to the CS109 dropbox in the appropriate folder. If we cannot access your work because these directions are not followed correctly, we will not grade your work. For the competition (problem 4), we will post a link on Piazza to a Google Form for you to submit your predictions. \n",
      "\n",
      "\n",
      "---\n"
     ]
    },
    {
     "cell_type": "markdown",
     "metadata": {},
     "source": [
      "## Introduction\n",
      "\n",
      "**Add Introduction**\n",
      "\n",
      "You will use the [HuffPost Pollster API](http://elections.huffingtonpost.com/pollster/api) to extract the polls for the current 2014 Senate Midterm Elections and provide a final prediction of the result of each state.\n",
      "\n",
      "#### Data\n",
      "\n",
      "We will use the polls from the [2014 Senate Midterm Elections](http://elections.huffingtonpost.com/pollster) from the [HuffPost Pollster API](http://elections.huffingtonpost.com/pollster/api). \n",
      "\n",
      "---"
     ]
    },
    {
     "cell_type": "markdown",
     "metadata": {},
     "source": [
      "## Problem 1: Data Wrangling\n",
      "\n",
      "We will read in the polls from the [2014 Senate Midterm Elections](http://elections.huffingtonpost.com/pollster) from the [HuffPost Pollster API](http://elections.huffingtonpost.com/pollster/api) and create a dictionary of DataFrames as well a master table information for each race."
     ]
    },
    {
     "cell_type": "markdown",
     "metadata": {},
     "source": [
      "#### Problem 1(a)\n",
      "\n",
      "Read in [this JSON object](http://elections.huffingtonpost.com/pollster/api/charts/?topic=2014-senate) containing the polls for the 2014 Senate Elections using the HuffPost API. Call this JSON object `info`.  This JSON object is imported as a list in Python where each element contains the information for one race.  Use the function `type` to confirm the that `info` is a list. "
     ]
    },
    {
     "cell_type": "code",
     "collapsed": false,
     "input": [
      "# special IPython command to prepare the notebook for matplotlib\n",
      "%matplotlib inline \n",
      "\n",
      "import urllib2 # module to read in HTML\n",
      "import bs4 # BeautifulSoup: module to parse HTML and XML\n",
      "import json # \n",
      "import datetime as dt # module for manipulating dates and times\n",
      "import pandas as pd\n",
      "import numpy as np\n",
      "import requests \n",
      "from StringIO import StringIO\n",
      "\n",
      "from matplotlib import pyplot as plt\n",
      "from matplotlib import rcParams\n",
      "\n",
      "dark2_colors = [(0.10588235294117647, 0.6196078431372549, 0.4666666666666667),\n",
      "                (0.8509803921568627, 0.37254901960784315, 0.00784313725490196),\n",
      "                (0.4588235294117647, 0.4392156862745098, 0.7019607843137254),\n",
      "                (0.9058823529411765, 0.1607843137254902, 0.5411764705882353),\n",
      "                (0.4, 0.6509803921568628, 0.11764705882352941),\n",
      "                (0.9019607843137255, 0.6705882352941176, 0.00784313725490196),\n",
      "                (0.6509803921568628, 0.4627450980392157, 0.11372549019607843),\n",
      "                (0.4, 0.4, 0.4)]\n",
      "\n",
      "rcParams['figure.figsize'] = (10, 6)\n",
      "rcParams['figure.dpi'] = 150\n",
      "rcParams['axes.color_cycle'] = dark2_colors\n",
      "rcParams['lines.linewidth'] = 2\n",
      "rcParams['axes.grid'] = True\n",
      "rcParams['axes.facecolor'] = '#eeeeee'\n",
      "rcParams['font.size'] = 14\n",
      "rcParams['patch.edgecolor'] = 'none'"
     ],
     "language": "python",
     "metadata": {},
     "outputs": [],
     "prompt_number": 149
    },
    {
     "cell_type": "code",
     "collapsed": false,
     "input": [
      "url_str = \"http://elections.huffingtonpost.com/pollster/api/charts/?topic=2014-senate\"\n",
      "election_url = [election['url'] + '.csv' for election in requests.get(url_str).json()]\n",
      "\n",
      "data = urllib2.urlopen(url_str).read()\n",
      "info = json.loads(data.decode('utf-8'))\n",
      "\n",
      "print len(info)\n",
      "print type(info)\n"
     ],
     "language": "python",
     "metadata": {},
     "outputs": [
      {
       "output_type": "stream",
       "stream": "stdout",
       "text": [
        "37\n",
        "<type 'list'>\n"
       ]
      }
     ],
     "prompt_number": 138
    },
    {
     "cell_type": "markdown",
     "metadata": {},
     "source": [
      "#### Problem 1(b)\n",
      "\n",
      "For each element of the list in `info` extract the state. We should have one poll per state, but we do not. Why?\n",
      "\n",
      "**Hint**: Use the internet to find out information on the races in each state that has more than one entry. Eliminate entries of the list that represent races that are not happening."
     ]
    },
    {
     "cell_type": "code",
     "collapsed": false,
     "input": [
      "#remove NH's old poll entry\n",
      "info.remove('http://elections.huffingtonpost.com/pollster/2014-new-hampshire-senate-bass-vs-shaheen.csv')"
     ],
     "language": "python",
     "metadata": {},
     "outputs": [
      {
       "ename": "ValueError",
       "evalue": "list.remove(x): x not in list",
       "output_type": "pyerr",
       "traceback": [
        "\u001b[0;31m---------------------------------------------------------------------------\u001b[0m\n\u001b[0;31mValueError\u001b[0m                                Traceback (most recent call last)",
        "\u001b[0;32m<ipython-input-139-cd28661638d9>\u001b[0m in \u001b[0;36m<module>\u001b[0;34m()\u001b[0m\n\u001b[1;32m      1\u001b[0m \u001b[0;31m#remove NH's old poll entry\u001b[0m\u001b[0;34m\u001b[0m\u001b[0;34m\u001b[0m\u001b[0m\n\u001b[0;32m----> 2\u001b[0;31m \u001b[0minfo\u001b[0m\u001b[0;34m.\u001b[0m\u001b[0mremove\u001b[0m\u001b[0;34m(\u001b[0m\u001b[0;34m'http://elections.huffingtonpost.com/pollster/2014-new-hampshire-senate-bass-vs-shaheen.csv'\u001b[0m\u001b[0;34m)\u001b[0m\u001b[0;34m\u001b[0m\u001b[0m\n\u001b[0m",
        "\u001b[0;31mValueError\u001b[0m: list.remove(x): x not in list"
       ]
      }
     ],
     "prompt_number": 139
    },
    {
     "cell_type": "markdown",
     "metadata": {},
     "source": [
      "** Your answer here: **\n",
      "\n",
      "New Hampshire has an additional entry from 2013 before Charles Bass (Rep) withdrew from the race to be replaced by Scott Brown.\n",
      "South Carolina and Oklahoma both have a special election to replace seats for senators stepping down before the end of their official terms. "
     ]
    },
    {
     "cell_type": "markdown",
     "metadata": {},
     "source": [
      "#### Problem 1(c)\n",
      "\n",
      "Create a dictionary of pandas DataFrames called `polls` keyed by the name of the election (a string). Each value in the dictionary should contain the polls for one of the races."
     ]
    },
    {
     "cell_type": "code",
     "collapsed": false,
     "input": [
      "def build_frame(url):\n",
      "    \"\"\"\n",
      "    Returns a pandas DataFrame object containing\n",
      "    the data returned from the given url\n",
      "    \"\"\"\n",
      "    source = requests.get(url).text\n",
      "    \n",
      "    # Use StringIO because pd.DataFrame.from_csv requires .read() method\n",
      "    s = StringIO(source)\n",
      "    \n",
      "    return pd.DataFrame.from_csv(s, index_col=None).convert_objects(\n",
      "            convert_dates=\"coerce\", convert_numeric=True)\n",
      "\n",
      "# Makes a dictionary of pandas DataFrames keyed on election string.\n",
      "polls = dict((election.split(\"/\")[-1][:-4], build_frame(election)) for election in election_url)\n",
      "\n",
      "#len(polls)\n",
      "#polls['2014-kentucky-senate-mcconnell-vs-grimes']\n",
      "polls.keys()\n"
     ],
     "language": "python",
     "metadata": {},
     "outputs": [
      {
       "metadata": {},
       "output_type": "pyout",
       "prompt_number": 166,
       "text": [
        "[u'2014-kentucky-senate-mcconnell-vs-grimes',\n",
        " u'2014-montana-senate-daines-vs-curtis',\n",
        " u'2014-north-carolina-senate-tillis-vs-hagan',\n",
        " u'2014-tennessee-senate-alexander-vs-ball',\n",
        " u'2014-michigan-senate-land-vs-peters',\n",
        " u'2014-wyoming-senate',\n",
        " u'2014-alaska-senate-sullivan-vs-begich',\n",
        " u'2014-oregon-senate-wehby-vs-merkley',\n",
        " u'2014-new-hampshire-senate-brown-vs-shaheen',\n",
        " u'2014-georgia-senate-runoff',\n",
        " u'2014-mississippi-senate-cochran-vs-childers',\n",
        " u'2014-rhode-island-senate-zaccaria-vs-reed',\n",
        " u'2014-new-jersey-senate-bell-vs-booker',\n",
        " u'2014-virginia-senate-gillespie-vs-warner',\n",
        " u'2014-south-dakota-senate-rounds-vs-weiland',\n",
        " u'2014-nebraska-senate-sasse-vs-domina',\n",
        " u'2014-iowa-senate-ernst-vs-braley',\n",
        " u'2014-oklahoma-senate-inhofe-vs-silverstein',\n",
        " u'2014-illinois-senate-oberweis-vs-durbin',\n",
        " u'2014-south-carolina-senate-graham-vs-hutto',\n",
        " u'2014-maine-senate-collins-vs-bellows',\n",
        " u'2014-west-virginia-senate-capito-vs-tennant',\n",
        " u'2014-hawaii-senate-cavasso-vs-schatz',\n",
        " u'2014-delaware-senate-wade-vs-coons',\n",
        " u'2014-massachusetts-senate-herr-vs-markey',\n",
        " u'2014-minnesota-senate-mcfadden-vs-franken',\n",
        " u'2014-louisiana-senate-cassidy-vs-landrieu',\n",
        " u'2014-georgia-senate-perdue-vs-nunn',\n",
        " u'2014-kansas-senate-roberts-vs-orman-vs-taylor',\n",
        " u'2014-oklahoma-senate-lankford-vs-johnson',\n",
        " u'2014-new-mexico-senate-weh-vs-udall',\n",
        " u'2014-idaho-senate-risch-vs-mitchell',\n",
        " u'2014-texas-senate-cornyn-vs-alameel',\n",
        " u'2014-arkansas-senate-cotton-vs-pryor',\n",
        " u'2014-south-carolina-senate-scott-vs-dickerson',\n",
        " u'2014-colorado-senate-gardner-vs-udall',\n",
        " u'2014-new-hampshire-senate-bass-vs-shaheen']"
       ]
      }
     ],
     "prompt_number": 166
    },
    {
     "cell_type": "code",
     "collapsed": false,
     "input": [],
     "language": "python",
     "metadata": {},
     "outputs": [],
     "prompt_number": 140
    },
    {
     "cell_type": "markdown",
     "metadata": {},
     "source": [
      "#### Problem 1(d)\n",
      "\n",
      "Now creaate a master table information containing information about each race. Create a pandas DataFrame called `candidates` with rows containing information about each race. The `candidates` DataFrame should have the following columns: \n",
      "\n",
      "1. `State` = entries should be unique\n",
      "2. `R` = name of republican candidate\n",
      "3. `D` = name of non-republican candidate (Democrate or Independent) \n",
      "4. `incumbent` = R, D or NA\n",
      "\n",
      "**Hint**: You will need a considerable amount of data wrangling for this."
     ]
    },
    {
     "cell_type": "code",
     "collapsed": false,
     "input": [
      "if info[33]['estimates'] == []:\n",
      "    print \"frefer\"\n"
     ],
     "language": "python",
     "metadata": {},
     "outputs": [
      {
       "output_type": "stream",
       "stream": "stdout",
       "text": [
        "frefer\n"
       ]
      }
     ],
     "prompt_number": 167
    },
    {
     "cell_type": "code",
     "collapsed": false,
     "input": [
      "\"\"\"\n",
      "the part that assign candidate names work, but not the part that assign incumbents\n",
      "\"\"\"\n",
      "\n",
      "\"\"\"\n",
      "    #if info[r]['estimates'] == []:\n",
      "    try info[r]['estimates'] == []:\n",
      "            R = \"NA\"\n",
      "            D = \"NA\"\n",
      "            incumbent = 'NA'\n",
      "            #r += 1\n",
      "    except info[r]['estimates'] == []:\n",
      "\"\"\"        \n",
      "\n",
      "races = len(info)  \n",
      "cand = []\n",
      "\n",
      "R, D, incumbent = None, None, None\n",
      "\n",
      "for r in range(races):\n",
      "    states = (info[r]['state'])\n",
      "\n",
      "    if info[r]['estimates'] == []:\n",
      "            R = \"NA\"\n",
      "            D = \"NA\"\n",
      "            incumbent = 'NA'\n",
      "            r += 1\n",
      "    \n",
      "    elif info[r]['estimates'][0]['party'] == 'Rep':\n",
      "            R = (info[r]['estimates'][0]['choice'])\n",
      "            D = (info[r]['estimates'][1]['choice'])\n",
      "            #if info[r]['estimates'][0]['incumbent'] == True:\n",
      "                    #incumbent = info[r]['estimates'][0]['party']\n",
      "    elif info[r]['estimates'][0]['party'] == 'Dem':\n",
      "            R = (info[r]['estimates'][1]['choice'])\n",
      "            D = (info[r]['estimates'][0]['choice'])\n",
      "            #if info[r]['estimates'][0]['incumbent'] == True: \n",
      "                    #incumbent = 'D'\n",
      "        #elif info[r]['estimates'][c]['party'] == 'Ind':\n",
      "            # = (info[r]['estimates'][c]['choice'])\n",
      "    else:\n",
      "            R = \"NA\"\n",
      "            D = \"NA\"\n",
      "    \n",
      "    if info[r]['estimates'][0]['incumbent'] == True:\n",
      "            incumbent = info[r]['estimates'][0]['party'] \n",
      "    elif info[r]['estimates'][1]['incumbent'] == True:\n",
      "            incumbent = info[r]['estimates'][1]['party'] \n",
      "    elif info[r]['estimates'][0]['incumbent'] == False and info[r]['estimates'][1]['incumbent'] == False:\n",
      "            incumbent = \"NA\"\n",
      "    \n",
      "    cand.append([states, R, D, incumbent])\n",
      "\n",
      "#cand\n",
      "heads = ['State', 'R','D','Incumbent']\n",
      "\n",
      "candidates = pd.DataFrame(cand, columns=heads)\n",
      "\n",
      "# Manually fix Maine\n",
      "\n",
      "[MI, WV, IA, SD. MT. RI ]  Dem\n",
      "[GA, NE, OK ] Rep\n",
      "\n",
      "#Remove Georgia Duplicate\n",
      "\n",
      "\n",
      "#Rhode Island Candidates\n",
      "    Jack Reed (D)\n",
      "    Mark Zaccaria (P)\n",
      "\n",
      "candidates"
     ],
     "language": "python",
     "metadata": {},
     "outputs": [
      {
       "html": [
        "<div style=\"max-height:1000px;max-width:1500px;overflow:auto;\">\n",
        "<table border=\"1\" class=\"dataframe\">\n",
        "  <thead>\n",
        "    <tr style=\"text-align: right;\">\n",
        "      <th></th>\n",
        "      <th>State</th>\n",
        "      <th>R</th>\n",
        "      <th>D</th>\n",
        "      <th>Incumbent</th>\n",
        "    </tr>\n",
        "  </thead>\n",
        "  <tbody>\n",
        "    <tr>\n",
        "      <th>0 </th>\n",
        "      <td> KY</td>\n",
        "      <td> McConnell</td>\n",
        "      <td>      Grimes</td>\n",
        "      <td> Rep</td>\n",
        "    </tr>\n",
        "    <tr>\n",
        "      <th>1 </th>\n",
        "      <td> AR</td>\n",
        "      <td>    Cotton</td>\n",
        "      <td>       Pryor</td>\n",
        "      <td> Dem</td>\n",
        "    </tr>\n",
        "    <tr>\n",
        "      <th>2 </th>\n",
        "      <td> MI</td>\n",
        "      <td>      Land</td>\n",
        "      <td>      Peters</td>\n",
        "      <td>  NA</td>\n",
        "    </tr>\n",
        "    <tr>\n",
        "      <th>3 </th>\n",
        "      <td> LA</td>\n",
        "      <td>   Cassidy</td>\n",
        "      <td>    Landrieu</td>\n",
        "      <td> Dem</td>\n",
        "    </tr>\n",
        "    <tr>\n",
        "      <th>4 </th>\n",
        "      <td> NH</td>\n",
        "      <td>     Brown</td>\n",
        "      <td>     Shaheen</td>\n",
        "      <td> Dem</td>\n",
        "    </tr>\n",
        "    <tr>\n",
        "      <th>5 </th>\n",
        "      <td> WV</td>\n",
        "      <td>    Capito</td>\n",
        "      <td>     Tennant</td>\n",
        "      <td>  NA</td>\n",
        "    </tr>\n",
        "    <tr>\n",
        "      <th>6 </th>\n",
        "      <td> NH</td>\n",
        "      <td>        NA</td>\n",
        "      <td>          NA</td>\n",
        "      <td> Dem</td>\n",
        "    </tr>\n",
        "    <tr>\n",
        "      <th>7 </th>\n",
        "      <td> NC</td>\n",
        "      <td>    Tillis</td>\n",
        "      <td>       Hagan</td>\n",
        "      <td> Dem</td>\n",
        "    </tr>\n",
        "    <tr>\n",
        "      <th>8 </th>\n",
        "      <td> VA</td>\n",
        "      <td> Gillespie</td>\n",
        "      <td>      Warner</td>\n",
        "      <td> Dem</td>\n",
        "    </tr>\n",
        "    <tr>\n",
        "      <th>9 </th>\n",
        "      <td> CO</td>\n",
        "      <td>   Gardner</td>\n",
        "      <td>       Udall</td>\n",
        "      <td> Dem</td>\n",
        "    </tr>\n",
        "    <tr>\n",
        "      <th>10</th>\n",
        "      <td> IL</td>\n",
        "      <td>  Oberweis</td>\n",
        "      <td>      Durbin</td>\n",
        "      <td> Dem</td>\n",
        "    </tr>\n",
        "    <tr>\n",
        "      <th>11</th>\n",
        "      <td> AK</td>\n",
        "      <td>  Sullivan</td>\n",
        "      <td>      Begich</td>\n",
        "      <td> Dem</td>\n",
        "    </tr>\n",
        "    <tr>\n",
        "      <th>12</th>\n",
        "      <td> IA</td>\n",
        "      <td>     Ernst</td>\n",
        "      <td>      Braley</td>\n",
        "      <td>  NA</td>\n",
        "    </tr>\n",
        "    <tr>\n",
        "      <th>13</th>\n",
        "      <td> MS</td>\n",
        "      <td>   Cochran</td>\n",
        "      <td>    Childers</td>\n",
        "      <td> Rep</td>\n",
        "    </tr>\n",
        "    <tr>\n",
        "      <th>14</th>\n",
        "      <td> OR</td>\n",
        "      <td>     Wehby</td>\n",
        "      <td>     Merkley</td>\n",
        "      <td> Dem</td>\n",
        "    </tr>\n",
        "    <tr>\n",
        "      <th>15</th>\n",
        "      <td> GA</td>\n",
        "      <td>    Perdue</td>\n",
        "      <td>        Nunn</td>\n",
        "      <td>  NA</td>\n",
        "    </tr>\n",
        "    <tr>\n",
        "      <th>16</th>\n",
        "      <td> NE</td>\n",
        "      <td>     Sasse</td>\n",
        "      <td>      Domina</td>\n",
        "      <td>  NA</td>\n",
        "    </tr>\n",
        "    <tr>\n",
        "      <th>17</th>\n",
        "      <td> SD</td>\n",
        "      <td>    Rounds</td>\n",
        "      <td>     Weiland</td>\n",
        "      <td>  NA</td>\n",
        "    </tr>\n",
        "    <tr>\n",
        "      <th>18</th>\n",
        "      <td> ME</td>\n",
        "      <td>   Collins</td>\n",
        "      <td>     Bellows</td>\n",
        "      <td> Rep</td>\n",
        "    </tr>\n",
        "    <tr>\n",
        "      <th>19</th>\n",
        "      <td> MN</td>\n",
        "      <td>  McFadden</td>\n",
        "      <td>     Franken</td>\n",
        "      <td> Dem</td>\n",
        "    </tr>\n",
        "    <tr>\n",
        "      <th>20</th>\n",
        "      <td> TX</td>\n",
        "      <td>    Cornyn</td>\n",
        "      <td>     Alameel</td>\n",
        "      <td> Rep</td>\n",
        "    </tr>\n",
        "    <tr>\n",
        "      <th>21</th>\n",
        "      <td> SC</td>\n",
        "      <td>    Graham</td>\n",
        "      <td>       Hutto</td>\n",
        "      <td> Rep</td>\n",
        "    </tr>\n",
        "    <tr>\n",
        "      <th>22</th>\n",
        "      <td> SC</td>\n",
        "      <td>     Scott</td>\n",
        "      <td>   Dickerson</td>\n",
        "      <td> Rep</td>\n",
        "    </tr>\n",
        "    <tr>\n",
        "      <th>23</th>\n",
        "      <td> OK</td>\n",
        "      <td>    Inhofe</td>\n",
        "      <td> Silverstein</td>\n",
        "      <td> Rep</td>\n",
        "    </tr>\n",
        "    <tr>\n",
        "      <th>24</th>\n",
        "      <td> NM</td>\n",
        "      <td>       Weh</td>\n",
        "      <td>       Udall</td>\n",
        "      <td> Dem</td>\n",
        "    </tr>\n",
        "    <tr>\n",
        "      <th>25</th>\n",
        "      <td> NJ</td>\n",
        "      <td>      Bell</td>\n",
        "      <td>      Booker</td>\n",
        "      <td> Dem</td>\n",
        "    </tr>\n",
        "    <tr>\n",
        "      <th>26</th>\n",
        "      <td> ID</td>\n",
        "      <td>     Risch</td>\n",
        "      <td>    Mitchell</td>\n",
        "      <td> Rep</td>\n",
        "    </tr>\n",
        "    <tr>\n",
        "      <th>27</th>\n",
        "      <td> TN</td>\n",
        "      <td> Alexander</td>\n",
        "      <td>        Ball</td>\n",
        "      <td> Rep</td>\n",
        "    </tr>\n",
        "    <tr>\n",
        "      <th>28</th>\n",
        "      <td> WY</td>\n",
        "      <td>      Enzi</td>\n",
        "      <td>       Hardy</td>\n",
        "      <td> Rep</td>\n",
        "    </tr>\n",
        "    <tr>\n",
        "      <th>29</th>\n",
        "      <td> KS</td>\n",
        "      <td>   Roberts</td>\n",
        "      <td>       Orman</td>\n",
        "      <td> Rep</td>\n",
        "    </tr>\n",
        "    <tr>\n",
        "      <th>30</th>\n",
        "      <td> HI</td>\n",
        "      <td>   Cavasso</td>\n",
        "      <td>      Schatz</td>\n",
        "      <td> Dem</td>\n",
        "    </tr>\n",
        "    <tr>\n",
        "      <th>31</th>\n",
        "      <td> OK</td>\n",
        "      <td>  Lankford</td>\n",
        "      <td>     Johnson</td>\n",
        "      <td>  NA</td>\n",
        "    </tr>\n",
        "    <tr>\n",
        "      <th>32</th>\n",
        "      <td> MT</td>\n",
        "      <td>    Daines</td>\n",
        "      <td>      Curtis</td>\n",
        "      <td>  NA</td>\n",
        "    </tr>\n",
        "    <tr>\n",
        "      <th>33</th>\n",
        "      <td> RI</td>\n",
        "      <td>        NA</td>\n",
        "      <td>          NA</td>\n",
        "      <td> Dem</td>\n",
        "    </tr>\n",
        "    <tr>\n",
        "      <th>34</th>\n",
        "      <td> MA</td>\n",
        "      <td>      Herr</td>\n",
        "      <td>      Markey</td>\n",
        "      <td> Dem</td>\n",
        "    </tr>\n",
        "    <tr>\n",
        "      <th>35</th>\n",
        "      <td> DE</td>\n",
        "      <td>      Wade</td>\n",
        "      <td>       Coons</td>\n",
        "      <td> Dem</td>\n",
        "    </tr>\n",
        "    <tr>\n",
        "      <th>36</th>\n",
        "      <td> GA</td>\n",
        "      <td>    Perdue</td>\n",
        "      <td>        Nunn</td>\n",
        "      <td>  NA</td>\n",
        "    </tr>\n",
        "  </tbody>\n",
        "</table>\n",
        "</div>"
       ],
       "metadata": {},
       "output_type": "pyout",
       "prompt_number": 133,
       "text": [
        "   State          R            D Incumbent\n",
        "0     KY  McConnell       Grimes       Rep\n",
        "1     AR     Cotton        Pryor       Dem\n",
        "2     MI       Land       Peters        NA\n",
        "3     LA    Cassidy     Landrieu       Dem\n",
        "4     NH      Brown      Shaheen       Dem\n",
        "5     WV     Capito      Tennant        NA\n",
        "6     NH         NA           NA       Dem\n",
        "7     NC     Tillis        Hagan       Dem\n",
        "8     VA  Gillespie       Warner       Dem\n",
        "9     CO    Gardner        Udall       Dem\n",
        "10    IL   Oberweis       Durbin       Dem\n",
        "11    AK   Sullivan       Begich       Dem\n",
        "12    IA      Ernst       Braley        NA\n",
        "13    MS    Cochran     Childers       Rep\n",
        "14    OR      Wehby      Merkley       Dem\n",
        "15    GA     Perdue         Nunn        NA\n",
        "16    NE      Sasse       Domina        NA\n",
        "17    SD     Rounds      Weiland        NA\n",
        "18    ME    Collins      Bellows       Rep\n",
        "19    MN   McFadden      Franken       Dem\n",
        "20    TX     Cornyn      Alameel       Rep\n",
        "21    SC     Graham        Hutto       Rep\n",
        "22    SC      Scott    Dickerson       Rep\n",
        "23    OK     Inhofe  Silverstein       Rep\n",
        "24    NM        Weh        Udall       Dem\n",
        "25    NJ       Bell       Booker       Dem\n",
        "26    ID      Risch     Mitchell       Rep\n",
        "27    TN  Alexander         Ball       Rep\n",
        "28    WY       Enzi        Hardy       Rep\n",
        "29    KS    Roberts        Orman       Rep\n",
        "30    HI    Cavasso       Schatz       Dem\n",
        "31    OK   Lankford      Johnson        NA\n",
        "32    MT     Daines       Curtis        NA\n",
        "33    RI         NA           NA       Dem\n",
        "34    MA       Herr       Markey       Dem\n",
        "35    DE       Wade        Coons       Dem\n",
        "36    GA     Perdue         Nunn        NA"
       ]
      }
     ],
     "prompt_number": 133
    },
    {
     "cell_type": "markdown",
     "metadata": {},
     "source": [
      "## Problem 2: Confidence Intervals\n",
      "\n",
      "Compute a 99% confidence interval for each state. "
     ]
    },
    {
     "cell_type": "markdown",
     "metadata": {},
     "source": [
      "#### Problem 2(a)\n",
      "\n",
      "Assume you have $M$ polls with sample sizes $n_1, \\dots, n_M$. If the polls are independent, what is the average of the variances of each poll if the true proportion is $p$?"
     ]
    },
    {
     "cell_type": "code",
     "collapsed": false,
     "input": [
      "\n",
      "\n",
      "race = []\n",
      "mean_var = []\n",
      "theo_std = []\n",
      "\n",
      "for key, df in polls.iteritems():\n",
      "    p = (df[df.columns[7]] + df[df.columns[9]]/2)/100\n",
      "    n = df[df.columns[4]]\n",
      "    #df['variance'] = (n*p*(1-p)/n)\n",
      "    df['variance'] = (p*(1-p)/n)\n",
      "    #df['variance'] = n*p*(1-p)\n",
      "    #df['std'] = np.sqrt(p*(1-p)/n)\n",
      "    df['std'] = np.sqrt(df['variance'])\n",
      "    mean_var.append(np.mean(df['variance']))\n",
      "    race.append([key])\n",
      "    theo_std.append(np.mean(df['std']))\n",
      "    \n",
      "headers = ['Race','Theo_Var','Theo_Std']\n",
      "theoretical = pd.DataFrame([race, mean_var, theo_std], index=headers).T\n",
      "theoretical.head()\n",
      "print \"theo std: \", theo_std\n"
     ],
     "language": "python",
     "metadata": {},
     "outputs": [
      {
       "output_type": "stream",
       "stream": "stdout",
       "text": [
        "theo std:  [0.016868617160872592, 0.020936048190500486, 0.018889155915949026, 0.016001090616255143, 0.017995014165486871, 0.023823765079277338, 0.01954172465632462, 0.018098389479663753, 0.018322571238408164, 0.018624161415174586, 0.018409113627375188, 0.016788738209619312, 0.01594041431380562, 0.016850699151184364, 0.01989902814688212, 0.017419812117450358, 0.016876033198614419, 0.015141622922191653, 0.015027233869836423, 0.015393093616208194, 0.016028340280385169, 0.018783961043856965, 0.015079592325930041, 0.020107575916165604, 0.018053437947436884, 0.016385947694916365, 0.019233350894568037, 0.016988284599124125, 0.017419621138072619, 0.015124944031241894, 0.017611171247467743, 0.018776896746534044, 0.01246879597767412, 0.018544157746627005, 0.01432287545712716, 0.017699091692531893, 0.017427057822840462]\n"
       ]
      }
     ],
     "prompt_number": 239
    },
    {
     "cell_type": "code",
     "collapsed": false,
     "input": [
      "#download the voting date for each race\n",
      "\n",
      "#voteR = (ktky[ktky.columns[7]] + ktky[ktky.columns[9]]/2)/100\n",
      "ktky = polls['2014-kentucky-senate-mcconnell-vs-grimes']['Start Date']\n",
      "#ktky\n",
      "\n",
      "for key, df in polls.iteritems():\n",
      "    polls2m = df[map(lambda x: (x.month >= 9) and (x.year == 2014), ['Start Date'])]\n",
      "    \n"
     ],
     "language": "python",
     "metadata": {},
     "outputs": [
      {
       "ename": "AttributeError",
       "evalue": "'str' object has no attribute 'month'",
       "output_type": "pyerr",
       "traceback": [
        "\u001b[0;31m---------------------------------------------------------------------------\u001b[0m\n\u001b[0;31mAttributeError\u001b[0m                            Traceback (most recent call last)",
        "\u001b[0;32m<ipython-input-164-82d558bdf2f2>\u001b[0m in \u001b[0;36m<module>\u001b[0;34m()\u001b[0m\n\u001b[1;32m      6\u001b[0m \u001b[0;34m\u001b[0m\u001b[0m\n\u001b[1;32m      7\u001b[0m \u001b[0;32mfor\u001b[0m \u001b[0mkey\u001b[0m\u001b[0;34m,\u001b[0m \u001b[0mdf\u001b[0m \u001b[0;32min\u001b[0m \u001b[0mpolls\u001b[0m\u001b[0;34m.\u001b[0m\u001b[0miteritems\u001b[0m\u001b[0;34m(\u001b[0m\u001b[0;34m)\u001b[0m\u001b[0;34m:\u001b[0m\u001b[0;34m\u001b[0m\u001b[0m\n\u001b[0;32m----> 8\u001b[0;31m     \u001b[0mpolls2m\u001b[0m \u001b[0;34m=\u001b[0m \u001b[0mdf\u001b[0m\u001b[0;34m[\u001b[0m\u001b[0mmap\u001b[0m\u001b[0;34m(\u001b[0m\u001b[0;32mlambda\u001b[0m \u001b[0mx\u001b[0m\u001b[0;34m:\u001b[0m \u001b[0;34m(\u001b[0m\u001b[0mx\u001b[0m\u001b[0;34m.\u001b[0m\u001b[0mmonth\u001b[0m \u001b[0;34m>=\u001b[0m \u001b[0;36m9\u001b[0m\u001b[0;34m)\u001b[0m \u001b[0;32mand\u001b[0m \u001b[0;34m(\u001b[0m\u001b[0mx\u001b[0m\u001b[0;34m.\u001b[0m\u001b[0myear\u001b[0m \u001b[0;34m==\u001b[0m \u001b[0;36m2014\u001b[0m\u001b[0;34m)\u001b[0m\u001b[0;34m,\u001b[0m \u001b[0;34m[\u001b[0m\u001b[0;34m'Start Date'\u001b[0m\u001b[0;34m]\u001b[0m\u001b[0;34m)\u001b[0m\u001b[0;34m]\u001b[0m\u001b[0;34m\u001b[0m\u001b[0m\n\u001b[0m\u001b[1;32m      9\u001b[0m \u001b[0;34m\u001b[0m\u001b[0m\n",
        "\u001b[0;32m<ipython-input-164-82d558bdf2f2>\u001b[0m in \u001b[0;36m<lambda>\u001b[0;34m(x)\u001b[0m\n\u001b[1;32m      6\u001b[0m \u001b[0;34m\u001b[0m\u001b[0m\n\u001b[1;32m      7\u001b[0m \u001b[0;32mfor\u001b[0m \u001b[0mkey\u001b[0m\u001b[0;34m,\u001b[0m \u001b[0mdf\u001b[0m \u001b[0;32min\u001b[0m \u001b[0mpolls\u001b[0m\u001b[0;34m.\u001b[0m\u001b[0miteritems\u001b[0m\u001b[0;34m(\u001b[0m\u001b[0;34m)\u001b[0m\u001b[0;34m:\u001b[0m\u001b[0;34m\u001b[0m\u001b[0m\n\u001b[0;32m----> 8\u001b[0;31m     \u001b[0mpolls2m\u001b[0m \u001b[0;34m=\u001b[0m \u001b[0mdf\u001b[0m\u001b[0;34m[\u001b[0m\u001b[0mmap\u001b[0m\u001b[0;34m(\u001b[0m\u001b[0;32mlambda\u001b[0m \u001b[0mx\u001b[0m\u001b[0;34m:\u001b[0m \u001b[0;34m(\u001b[0m\u001b[0mx\u001b[0m\u001b[0;34m.\u001b[0m\u001b[0mmonth\u001b[0m \u001b[0;34m>=\u001b[0m \u001b[0;36m9\u001b[0m\u001b[0;34m)\u001b[0m \u001b[0;32mand\u001b[0m \u001b[0;34m(\u001b[0m\u001b[0mx\u001b[0m\u001b[0;34m.\u001b[0m\u001b[0myear\u001b[0m \u001b[0;34m==\u001b[0m \u001b[0;36m2014\u001b[0m\u001b[0;34m)\u001b[0m\u001b[0;34m,\u001b[0m \u001b[0;34m[\u001b[0m\u001b[0;34m'Start Date'\u001b[0m\u001b[0;34m]\u001b[0m\u001b[0;34m)\u001b[0m\u001b[0;34m]\u001b[0m\u001b[0;34m\u001b[0m\u001b[0m\n\u001b[0m\u001b[1;32m      9\u001b[0m \u001b[0;34m\u001b[0m\u001b[0m\n",
        "\u001b[0;31mAttributeError\u001b[0m: 'str' object has no attribute 'month'"
       ]
      }
     ],
     "prompt_number": 164
    },
    {
     "cell_type": "markdown",
     "metadata": {},
     "source": [
      "** Your answer here: **"
     ]
    },
    {
     "cell_type": "markdown",
     "metadata": {},
     "source": [
      "#### Problem 2(b)\n",
      "\n",
      "Compute the square root of these values in Problem 2(a) for the republican candidates in each race. Then, compute the standard deviations of the observed poll results for each race. "
     ]
    },
    {
     "cell_type": "code",
     "collapsed": false,
     "input": [
      "\"\"\" 1. Theoretical SD\n",
      "http://cs109.github.io/2014/pages/lectures/lecture14-bayesian-statistics.html#/22\n",
      "2. Observed SD\n",
      "\"\"\" \n",
      "#theo_std = theoretical.theo_Std\n",
      "\n",
      "obs_std = [] \n",
      "race = []\n",
      "for key, df in polls.iteritems():\n",
      "    df['voteR'] = (df[df.columns[7]] + df[df.columns[9]]/2)/100\n",
      "    obs_std.append(np.std(df['voteR']))\n",
      "    #obs_std.append(np.sqrt(np.var(df['voteR'])))\n",
      "\n",
      "    race.append([key])\n",
      "    \n",
      "headers = ['Race','Obs_Std']\n",
      "obs_variability = pd.DataFrame([race, obs_std], index=headers).T\n",
      "obs_variability.head()\n",
      "\n",
      "\n",
      "\n",
      "\n",
      "print \"obs_std: \", obs_std"
     ],
     "language": "python",
     "metadata": {},
     "outputs": [
      {
       "output_type": "stream",
       "stream": "stdout",
       "text": [
        "obs_std:  [0.019778667648860011, 0.011334558757278301, 0.021967481406251786, 0.038774633747106449, 0.026772066789274428, 0.04044749683231301, 0.040053975928167514, 0.034576028258085104, 0.025792246897078767, 0.024249052124269393, 0.036486298798316143, 0.051158454824203961, 0.018453523901376875, 0.031815876539865423, 0.040146337255865916, 0.027801378862685348, 0.022655359324507966, 0.047497368348152984, 0.023582248598881847, 0.015897621677469626, 0.051090605790106228, 0.03022027971615051, 0.05951190357119196, 0.015362291495732613, 0.029543857334020086, 0.019612370120115949, 0.033428365519448194, 0.018508430065003256, 0.072733997380867665, 0.039924929555353789, 0.020680569392869587, 0.036142080737001245, 0.034369317712167516, 0.02638169180114568, 0.026047499346814822, 0.015587956087954196, 0.01840893502864643]\n"
       ]
      }
     ],
     "prompt_number": 241
    },
    {
     "cell_type": "markdown",
     "metadata": {},
     "source": [
      "#### Problem 2(c) \n",
      "\n",
      "Plot observed versus theoretical (average of the theoretical SDs) with the area of the point proportional to number of polls. How do these compare?"
     ]
    },
    {
     "cell_type": "code",
     "collapsed": false,
     "input": [
      "\n",
      "plt.scatter(theo_std, obs_std)\n",
      "plt.xlim(0,0.1)\n",
      "plt.ylim(0,0.1)\n",
      "plt.plot([0,.1], [0,.1], linewidth=1, color='black')\n",
      "\n",
      "plt.title(\"Senate Race 2014 Polls Std: Observed vs Theoretical\")\n",
      "plt.ylabel(\"Observed\")\n",
      "plt.xlabel(\"Theoretical\")\n",
      "plt.gca().set_aspect('equal')"
     ],
     "language": "python",
     "metadata": {},
     "outputs": [
      {
       "metadata": {},
       "output_type": "display_data",
       "png": "[encoded data removed]",
       "text": [
        "<matplotlib.figure.Figure at 0x1089bf3d0>"
       ]
      }
     ],
     "prompt_number": 156
    },
    {
     "cell_type": "markdown",
     "metadata": {},
     "source": [
      "** Your answer here: **"
     ]
    },
    {
     "cell_type": "markdown",
     "metadata": {},
     "source": [
      "#### Problem 2(d)\n",
      "\n",
      "Repeat Problem 2(c) but include only the most recent polls from the last two months. Do they match better or worse or the same? Can we just trust the theoretical values?"
     ]
    },
    {
     "cell_type": "code",
     "collapsed": false,
     "input": [
      "### Your code here ###\n",
      "\"\"\"\n",
      "http://cs109.github.io/2014/pages/lectures/lecture14-bayesian-statistics.html#/25\n",
      "recent polls should give a tighter confidence interval\n",
      "\"\"\"\n",
      "polls[map(lambda x: (x.month == 11) and (x.year ==2012), election[\"Start Date\"])]\n",
      "polls2m = \n",
      "\n",
      "for key, df in polls.iteritems():\n",
      "    \n",
      "    "
     ],
     "language": "python",
     "metadata": {},
     "outputs": []
    },
    {
     "cell_type": "markdown",
     "metadata": {},
     "source": [
      "** Your answer here: **"
     ]
    },
    {
     "cell_type": "markdown",
     "metadata": {},
     "source": [
      "#### Problem 2(e)\n",
      "\n",
      "Create a scatter plot with each point representing one state. Is there one or more races that are outlier in that it they have much larger variabilityes than expected ? Explore the original poll data and explain why the discrepancy?"
     ]
    },
    {
     "cell_type": "code",
     "collapsed": false,
     "input": [
      "#combine theoretical & observe in one dataframe\n",
      "\n",
      "#pd.merge(obs_variability, theoretical, how='Right', left_on='Race', right_on='Race')\n",
      "#bayesDF = pd.concat([obs_variability, theoretical.pop('Race')], axis=1) \n"
     ],
     "language": "python",
     "metadata": {},
     "outputs": [],
     "prompt_number": 242
    },
    {
     "cell_type": "code",
     "collapsed": false,
     "input": [
      "#plt.scatter(theoretical['Race'], theoretical['Std'])\n",
      "#theoretical['Std']\n",
      "\n",
      "race_map = {}\n",
      "\n",
      "state_race = list(set(theoretical.Race))\n",
      "\n",
      "for i, p in enumerate(state_race):\n",
      "    race_map[p] = i\n",
      "\n",
      "plt.scatter(map(lambda x: race_map[x],theoretical.Race), theoretical.Std)"
     ],
     "language": "python",
     "metadata": {},
     "outputs": [
      {
       "ename": "TypeError",
       "evalue": "unhashable type: 'list'",
       "output_type": "pyerr",
       "traceback": [
        "\u001b[0;31m---------------------------------------------------------------------------\u001b[0m\n\u001b[0;31mTypeError\u001b[0m                                 Traceback (most recent call last)",
        "\u001b[0;32m<ipython-input-267-9d6331dca05d>\u001b[0m in \u001b[0;36m<module>\u001b[0;34m()\u001b[0m\n\u001b[1;32m      4\u001b[0m \u001b[0mrace_map\u001b[0m \u001b[0;34m=\u001b[0m \u001b[0;34m{\u001b[0m\u001b[0;34m}\u001b[0m\u001b[0;34m\u001b[0m\u001b[0m\n\u001b[1;32m      5\u001b[0m \u001b[0;34m\u001b[0m\u001b[0m\n\u001b[0;32m----> 6\u001b[0;31m \u001b[0mstate_race\u001b[0m \u001b[0;34m=\u001b[0m \u001b[0mlist\u001b[0m\u001b[0;34m(\u001b[0m\u001b[0mset\u001b[0m\u001b[0;34m(\u001b[0m\u001b[0mtheoretical\u001b[0m\u001b[0;34m.\u001b[0m\u001b[0mRace\u001b[0m\u001b[0;34m)\u001b[0m\u001b[0;34m)\u001b[0m\u001b[0;34m\u001b[0m\u001b[0m\n\u001b[0m\u001b[1;32m      7\u001b[0m \u001b[0;34m\u001b[0m\u001b[0m\n\u001b[1;32m      8\u001b[0m \u001b[0;32mfor\u001b[0m \u001b[0mi\u001b[0m\u001b[0;34m,\u001b[0m \u001b[0mp\u001b[0m \u001b[0;32min\u001b[0m \u001b[0menumerate\u001b[0m\u001b[0;34m(\u001b[0m\u001b[0mstate_race\u001b[0m\u001b[0;34m)\u001b[0m\u001b[0;34m:\u001b[0m\u001b[0;34m\u001b[0m\u001b[0m\n",
        "\u001b[0;31mTypeError\u001b[0m: unhashable type: 'list'"
       ]
      }
     ],
     "prompt_number": 267
    },
    {
     "cell_type": "code",
     "collapsed": false,
     "input": [],
     "language": "python",
     "metadata": {},
     "outputs": []
    },
    {
     "cell_type": "markdown",
     "metadata": {},
     "source": [
      "** Your answer here: **"
     ]
    },
    {
     "cell_type": "markdown",
     "metadata": {},
     "source": [
      "#### Problem 2(f)\n",
      "\n",
      " Construct confidence intervals for the difference in each race. Use either theoretical or data driven estimates of the standard error depending on your answer to this question. Use the results in Problem 2(e), to justify your choice.\n"
     ]
    },
    {
     "cell_type": "code",
     "collapsed": false,
     "input": [
      "\"\"\"\n",
      "Bayesian confidence interval?\n",
      "\n",
      "\n",
      "### Your code here ###"
     ],
     "language": "python",
     "metadata": {},
     "outputs": []
    },
    {
     "cell_type": "markdown",
     "metadata": {},
     "source": [
      "# Problem 3: Prediction and Posterior Probabilities\n",
      "\n",
      "Perform a Bayesian analysis to predict the probability of Republicans winning in each state then provide a posterior distribution of the number of republicans in the senate."
     ]
    },
    {
     "cell_type": "markdown",
     "metadata": {},
     "source": [
      "#### Problem 3(a)\n",
      "\n",
      "First, we define a Bayesian model for each race. The prior for the difference $d$ between republicans and democtrats will be $N(\\mu,\\tau^2)$. Say before seeing poll data you have idea who is going to win, what should $\\mu$ be? How about $\\tau$, should it be large or small? "
     ]
    },
    {
     "cell_type": "markdown",
     "metadata": {},
     "source": [
      "** Your answer here: **\n",
      "\n",
      "Without seeing poll data but knowing the Rep will win, if \u03bc = Rep - Dem, then \u03bc is necessarily greater than zero and the \u03c4 should be smaller than \u03bc/2.  This means there's 99.7% chance that \u03bc will be greater than zero, meaning Rep gaining more votes than Dem.  "
     ]
    },
    {
     "cell_type": "markdown",
     "metadata": {},
     "source": [
      "#### Problem 3(b)\n",
      "\n",
      "What is the distribution of d conditioned on \u03b8. What is the posterior distribution of \u03b8|d?\n",
      "\n",
      "**Hint**: Use normal approximation. "
     ]
    },
    {
     "cell_type": "markdown",
     "metadata": {},
     "source": [
      "**Your answer here:**\n",
      "\n",
      "Distribution of d|\u03b8 is represented by N(\u03b8,\u03c3^2), centering at \u03b8 with the spread +- \u03c3.  \n",
      "\u03c3 = \u221a p(1-p)/N, \n",
      "where:\n",
      "p is the estimated probability of vote, and N the poll sample size.\n",
      "\n",
      "Posterior distribution of \u03b8|d centers at B\u03bc+(1\u2212B)d with the spread of 1/(1/\u03c3^2 + 1/\u03c4^2)\n",
      "where: \n",
      "B =  \u03c3^2 / (\u03c3^2 + \u03c4^2)\n",
      "\u03bc = historical lead\n",
      "\u03c4 = SD of historical lead\n"
     ]
    },
    {
     "cell_type": "markdown",
     "metadata": {},
     "source": [
      "#### Problem 3(c)\n",
      "\n",
      "The prior represents what we think before hand. We do not know who is expected to win, so we assume $\\mu=0$. For this problem estimate $\\tau$ using the observed differences across states (Hint: $\\tau$ represents the standard deviation of a typical difference). Compute the posterior mean for each state and plot it against original average. Is there much change? Why or why not? "
     ]
    },
    {
     "cell_type": "code",
     "collapsed": false,
     "input": [
      "\n",
      "race = []\n",
      "margin = []\n",
      "for key, df in polls.iteritems():\n",
      "    df['margin'] = (df[df.columns[7]] - df[df.columns[8]])/100\n",
      "    race.append([key])\n",
      "    margin.append(np.mean(df['margin']))\n",
      "    \n",
      "#merge wining margins with observed and theoretical values to one df\n",
      "b_headers = ['Race', 'Margin','Obs_Std','Theo_Var','Theo_Std']\n",
      "bv = pd.DataFrame([race, margin, obs_std, mean_var, theo_std], index=b_headers).T\n",
      "\n",
      "bv.head()\n"
     ],
     "language": "python",
     "metadata": {},
     "outputs": [
      {
       "html": [
        "<div style=\"max-height:1000px;max-width:1500px;overflow:auto;\">\n",
        "<table border=\"1\" class=\"dataframe\">\n",
        "  <thead>\n",
        "    <tr style=\"text-align: right;\">\n",
        "      <th></th>\n",
        "      <th>Race</th>\n",
        "      <th>Margin</th>\n",
        "      <th>Obs_Std</th>\n",
        "      <th>Theo_Var</th>\n",
        "      <th>Theo_Std</th>\n",
        "    </tr>\n",
        "  </thead>\n",
        "  <tbody>\n",
        "    <tr>\n",
        "      <th>0</th>\n",
        "      <td>   [2014-kentucky-senate-mcconnell-vs-grimes]</td>\n",
        "      <td> 0.02679245</td>\n",
        "      <td> 0.01977867</td>\n",
        "      <td> 0.0002957846</td>\n",
        "      <td> 0.01686862</td>\n",
        "    </tr>\n",
        "    <tr>\n",
        "      <th>1</th>\n",
        "      <td>       [2014-montana-senate-daines-vs-curtis]</td>\n",
        "      <td>  0.1766667</td>\n",
        "      <td> 0.01133456</td>\n",
        "      <td> 0.0004427959</td>\n",
        "      <td> 0.02093605</td>\n",
        "    </tr>\n",
        "    <tr>\n",
        "      <th>2</th>\n",
        "      <td> [2014-north-carolina-senate-tillis-vs-hagan]</td>\n",
        "      <td>    0.02875</td>\n",
        "      <td> 0.02196748</td>\n",
        "      <td> 0.0003696296</td>\n",
        "      <td> 0.01888916</td>\n",
        "    </tr>\n",
        "    <tr>\n",
        "      <th>3</th>\n",
        "      <td>    [2014-tennessee-senate-alexander-vs-ball]</td>\n",
        "      <td>       0.19</td>\n",
        "      <td> 0.03877463</td>\n",
        "      <td> 0.0002588752</td>\n",
        "      <td> 0.01600109</td>\n",
        "    </tr>\n",
        "    <tr>\n",
        "      <th>4</th>\n",
        "      <td>        [2014-michigan-senate-land-vs-peters]</td>\n",
        "      <td> 0.04655172</td>\n",
        "      <td> 0.02677207</td>\n",
        "      <td> 0.0003351602</td>\n",
        "      <td> 0.01799501</td>\n",
        "    </tr>\n",
        "  </tbody>\n",
        "</table>\n",
        "</div>"
       ],
       "metadata": {},
       "output_type": "pyout",
       "prompt_number": 266,
       "text": [
        "                                           Race      Margin     Obs_Std  \\\n",
        "0    [2014-kentucky-senate-mcconnell-vs-grimes]  0.02679245  0.01977867   \n",
        "1        [2014-montana-senate-daines-vs-curtis]   0.1766667  0.01133456   \n",
        "2  [2014-north-carolina-senate-tillis-vs-hagan]     0.02875  0.02196748   \n",
        "3     [2014-tennessee-senate-alexander-vs-ball]        0.19  0.03877463   \n",
        "4         [2014-michigan-senate-land-vs-peters]  0.04655172  0.02677207   \n",
        "\n",
        "       Theo_Var    Theo_Std  \n",
        "0  0.0002957846  0.01686862  \n",
        "1  0.0004427959  0.02093605  \n",
        "2  0.0003696296  0.01888916  \n",
        "3  0.0002588752  0.01600109  \n",
        "4  0.0003351602  0.01799501  "
       ]
      }
     ],
     "prompt_number": 266
    },
    {
     "cell_type": "code",
     "collapsed": false,
     "input": [
      "\"\"\" ANSWER IN CODE\n",
      "\u03c3 = osbserved SD from 2(c) \n",
      "\u03c4 = model by using \u03c3   Rafael: \"Yes we will use the same tau in all states\"\n",
      "Posterior mean is represented by \u03b8|d\n",
      "\"\"\"\n",
      "\n",
      "tau = .017 #assume .017 for now\n",
      "sigma = bv.Obs_Std\n",
      "mu = 0\n",
      "boo = sigma^2 / (sigma^2 + tau^2)\n",
      "\n",
      "bv['Posterior'] = boo*mu + (1-boo)*d\n",
      "bv['Post_SD'] = 1/(1/sigma^2 + 1/tau^2)\n",
      "\n"
     ],
     "language": "python",
     "metadata": {},
     "outputs": [
      {
       "ename": "TypeError",
       "evalue": "unsupported operand type(s) for ^: 'numpy.float64' and 'float'",
       "output_type": "pyerr",
       "traceback": [
        "\u001b[0;31m---------------------------------------------------------------------------\u001b[0m\n\u001b[0;31mTypeError\u001b[0m                                 Traceback (most recent call last)",
        "\u001b[0;32m<ipython-input-265-53e10f2974d5>\u001b[0m in \u001b[0;36m<module>\u001b[0;34m()\u001b[0m\n\u001b[1;32m     10\u001b[0m \u001b[0msigma\u001b[0m \u001b[0;34m=\u001b[0m \u001b[0mbv\u001b[0m\u001b[0;34m.\u001b[0m\u001b[0mObs_Std\u001b[0m\u001b[0;34m\u001b[0m\u001b[0m\n\u001b[1;32m     11\u001b[0m \u001b[0mmu\u001b[0m \u001b[0;34m=\u001b[0m \u001b[0;36m0\u001b[0m\u001b[0;34m\u001b[0m\u001b[0m\n\u001b[0;32m---> 12\u001b[0;31m \u001b[0mboo\u001b[0m \u001b[0;34m=\u001b[0m \u001b[0;34m(\u001b[0m\u001b[0msigma\u001b[0m\u001b[0;34m.\u001b[0m\u001b[0mvalues\u001b[0m\u001b[0;34m)\u001b[0m\u001b[0;34m^\u001b[0m\u001b[0;36m2\u001b[0m \u001b[0;34m/\u001b[0m \u001b[0;34m(\u001b[0m\u001b[0;34m(\u001b[0m\u001b[0msigma\u001b[0m\u001b[0;34m.\u001b[0m\u001b[0mvalues\u001b[0m\u001b[0;34m)\u001b[0m\u001b[0;34m^\u001b[0m\u001b[0;36m2\u001b[0m \u001b[0;34m+\u001b[0m \u001b[0mtau\u001b[0m\u001b[0;34m^\u001b[0m\u001b[0;36m2\u001b[0m\u001b[0;34m)\u001b[0m\u001b[0;34m\u001b[0m\u001b[0m\n\u001b[0m\u001b[1;32m     13\u001b[0m \u001b[0;34m\u001b[0m\u001b[0m\n\u001b[1;32m     14\u001b[0m \u001b[0;31m#bv['Posterior'] = boo*mu + (1-boo)*d\u001b[0m\u001b[0;34m\u001b[0m\u001b[0;34m\u001b[0m\u001b[0m\n",
        "\u001b[0;31mTypeError\u001b[0m: unsupported operand type(s) for ^: 'numpy.float64' and 'float'"
       ]
      }
     ],
     "prompt_number": 265
    },
    {
     "cell_type": "markdown",
     "metadata": {},
     "source": [
      "**Your answer here:**"
     ]
    },
    {
     "cell_type": "markdown",
     "metadata": {},
     "source": [
      "#### Problem 3(d)\n",
      "\n",
      "For each state, report a probabilty of Republicans winning. How does your answer here compare to the other aggregators?"
     ]
    },
    {
     "cell_type": "code",
     "collapsed": false,
     "input": [
      "\n"
     ],
     "language": "python",
     "metadata": {},
     "outputs": []
    },
    {
     "cell_type": "markdown",
     "metadata": {},
     "source": [
      "**Your answer here:**"
     ]
    },
    {
     "cell_type": "markdown",
     "metadata": {},
     "source": [
      "#### Problem 3(e)\n",
      "\n",
      "Use the posterior distributions in a Monte Carlo simulation to generate election results. In each simulation compute the total number of seats the Republican control. Show a histogram of these results."
     ]
    },
    {
     "cell_type": "code",
     "collapsed": false,
     "input": [
      "### Your code here ###"
     ],
     "language": "python",
     "metadata": {},
     "outputs": []
    },
    {
     "cell_type": "markdown",
     "metadata": {},
     "source": [
      "## Problem 4\n",
      "\n",
      "Predict the results for the 2014 Midterm Elections. We will have a three competitions with the terms for scoring entries described above. For both questions below, **explain** or provide commentary on how you arrived at your predictions including code. \n",
      "\n",
      "**Hint**: Use election results from 2010, 2012 to build and test models."
     ]
    },
    {
     "cell_type": "markdown",
     "metadata": {},
     "source": [
      "#### Problem 4(a)\n",
      "\n",
      "Predict the number of Republican senators. You may provide an interval. Smallest interval that includes the election day result wins. \n",
      "\n",
      "**Note**: we want the total so add the numbers of those that are not up for election."
     ]
    },
    {
     "cell_type": "code",
     "collapsed": false,
     "input": [
      "#check if a pollster improved its accuracy from 2010 to 2012\n",
      "\n"
     ],
     "language": "python",
     "metadata": {},
     "outputs": []
    },
    {
     "cell_type": "markdown",
     "metadata": {},
     "source": [
      "**Provide an explanation of methodology here**:"
     ]
    },
    {
     "cell_type": "markdown",
     "metadata": {},
     "source": [
      "#### Problem 4(b)\n",
      "\n",
      "Predict the R-D difference in each state. The predictions that minimize the residual sum of squares between predicted and observed differences wins."
     ]
    },
    {
     "cell_type": "code",
     "collapsed": false,
     "input": [
      "### Your code here ###"
     ],
     "language": "python",
     "metadata": {},
     "outputs": []
    },
    {
     "cell_type": "markdown",
     "metadata": {},
     "source": [
      "**Provide an explanation of methodology here**:"
     ]
    },
    {
     "cell_type": "markdown",
     "metadata": {},
     "source": [
      "#### Problem 4(c)\n",
      "\n",
      "Report a confidence interval for the R-D difference in each state. If the election day result falls outside your confidence interval in more than two states you are eliminated. For those surviving this cutoff, we will add up the size of all confidence intervals and sum. The smallest total length of confidence interval wins. \n",
      "\n",
      "**Note**: you can use Bayesian credible intervals or whatever else you want. "
     ]
    },
    {
     "cell_type": "code",
     "collapsed": false,
     "input": [
      "### Your code here ###"
     ],
     "language": "python",
     "metadata": {},
     "outputs": []
    },
    {
     "cell_type": "markdown",
     "metadata": {},
     "source": [
      "**Provide an explanation of methodology here**:"
     ]
    },
    {
     "cell_type": "markdown",
     "metadata": {},
     "source": [
      "# Submission Instructions\n",
      "\n",
      "To submit your homework, create a folder named **lastname_firstinitial_hw#** and place your IPython notebooks, data files, and any other files in this folder. Your IPython Notebooks should be completely executed with the results visible in the notebook. We should not have to run any code.  Compress the folder (please use .zip compression) and submit to the CS109 dropbox in the appropriate folder. *If we cannot access your work because these directions are not followed correctly, we will not grade your work.*\n"
     ]
    }
   ],
   "metadata": {}
  }
 ]
}