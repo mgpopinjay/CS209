{
 "metadata": {
  "name": "",
  "signature": "sha256:dd2b03860ec557e70161e1b5495a911deedd626ba9592ae8b78cf8a27c372f98"
 },
 "nbformat": 3,
 "nbformat_minor": 0,
 "worksheets": [
  {
   "cells": [
    {
     "cell_type": "markdown",
     "metadata": {},
     "source": [
      "# Homework 4: Can you predict the Midterm Elections?\n",
      "\n",
      "Due: Thursday, October 30, 2014 11:59 PM\n",
      "\n",
      "<a href=https://raw.githubusercontent.com/cs109/2014/master/homework/HW4.ipynb download=HW4.ipynb> Download this assignment</a>\n",
      "\n",
      "#### Submission Instructions\n",
      "To submit your homework, create a folder named lastname_firstinitial_hw# and place your IPython notebooks, data files, and any other files in this folder. Your IPython Notebooks should be completely executed with the results visible in the notebook. We should not have to run any code. Compress the folder (please use .zip compression) and submit to the CS109 dropbox in the appropriate folder. If we cannot access your work because these directions are not followed correctly, we will not grade your work. For the competition (problem 4), we will post a link on Piazza to a Google Form for you to submit your predictions. \n",
      "\n",
      "\n",
      "---\n"
     ]
    },
    {
     "cell_type": "markdown",
     "metadata": {},
     "source": [
      "## Introduction\n",
      "\n",
      "**Add Introduction**\n",
      "\n",
      "You will use the [HuffPost Pollster API](http://elections.huffingtonpost.com/pollster/api) to extract the polls for the current 2014 Senate Midterm Elections and provide a final prediction of the result of each state.\n",
      "\n",
      "#### Data\n",
      "\n",
      "We will use the polls from the [2014 Senate Midterm Elections](http://elections.huffingtonpost.com/pollster) from the [HuffPost Pollster API](http://elections.huffingtonpost.com/pollster/api). \n",
      "\n",
      "---"
     ]
    },
    {
     "cell_type": "markdown",
     "metadata": {},
     "source": [
      "## Problem 1: Data Wrangling\n",
      "\n",
      "We will read in the polls from the [2014 Senate Midterm Elections](http://elections.huffingtonpost.com/pollster) from the [HuffPost Pollster API](http://elections.huffingtonpost.com/pollster/api) and create a dictionary of DataFrames as well a master table information for each race."
     ]
    },
    {
     "cell_type": "markdown",
     "metadata": {},
     "source": [
      "#### Problem 1(a)\n",
      "\n",
      "Read in [this JSON object](http://elections.huffingtonpost.com/pollster/api/charts/?topic=2014-senate) containing the polls for the 2014 Senate Elections using the HuffPost API. Call this JSON object `info`.  This JSON object is imported as a list in Python where each element contains the information for one race.  Use the function `type` to confirm the that `info` is a list. "
     ]
    },
    {
     "cell_type": "code",
     "collapsed": false,
     "input": [
      "import urllib2, requests\n",
      "import json\n",
      "\n",
      "url_str = \"http://elections.huffingtonpost.com/pollster/api/charts/?topic=2014-senate\"\n",
      "req = urllib2.Request(url_str)\n",
      "open_json = urllib2.build_opener()\n",
      "f = open_json.open(req)\n",
      "info = json.loads(f.read())\n",
      "\n",
      "for dict_val in info:\n",
      "    dict_val['url'] = dict_val['url'] + '.csv'\n",
      "    \n",
      "type(info)"
     ],
     "language": "python",
     "metadata": {},
     "outputs": [
      {
       "metadata": {},
       "output_type": "pyout",
       "prompt_number": 2,
       "text": [
        "list"
       ]
      }
     ],
     "prompt_number": 2
    },
    {
     "cell_type": "markdown",
     "metadata": {},
     "source": [
      "#### Problem 1(b)\n",
      "\n",
      "For each element of the list in `info` extract the state. We should have one poll per state, but we do not. Why?\n",
      "\n",
      "**Hint**: Use the internet to find out information on the races in each state that has more than one entry. Eliminate entries of the list that represent races that are not happening."
     ]
    },
    {
     "cell_type": "code",
     "collapsed": false,
     "input": [
      "for inf in info:\n",
      "    if inf['title'] == '2014 New Hampshire Senate: Bass vs. Shaheen':\n",
      "        info.remove(inf)"
     ],
     "language": "python",
     "metadata": {},
     "outputs": [],
     "prompt_number": 3
    },
    {
     "cell_type": "markdown",
     "metadata": {},
     "source": [
      "** Your answer here: **"
     ]
    },
    {
     "cell_type": "code",
     "collapsed": false,
     "input": [
      "'''SC and OK have additional \"special elections\", electing two senators at a time instead of one.  \n",
      "NH has a duplicate poll from 2013 where the candidate already dropped out.  So NH Bass is eliminated.'''"
     ],
     "language": "python",
     "metadata": {},
     "outputs": [
      {
       "metadata": {},
       "output_type": "pyout",
       "prompt_number": 4,
       "text": [
        "'SC and OK have additional \"special elections\", electing two senators at a time instead of one.  \\nNH has a duplicate poll from 2013 where the candidate already dropped out.  So NH Bass is eliminated.'"
       ]
      }
     ],
     "prompt_number": 4
    },
    {
     "cell_type": "markdown",
     "metadata": {},
     "source": [
      "#### Problem 1(c)\n",
      "\n",
      "Create a dictionary of pandas DataFrames called `polls` keyed by the name of the election (a string). Each value in the dictionary should contain the polls for one of the races."
     ]
    },
    {
     "cell_type": "code",
     "collapsed": false,
     "input": [
      "import pandas as pd\n",
      "from StringIO import StringIO\n",
      "\n",
      "# Taken from HW2\n",
      "def build_frame(url):\n",
      "    source = requests.get(url).text\n",
      "    s = StringIO(source)\n",
      "    \n",
      "    return pd.DataFrame.from_csv(s, index_col=None).convert_objects(convert_dates=\"coerce\", convert_numeric=True)\n",
      "\n",
      "def build_dict(elections):\n",
      "    dicts = {}\n",
      "    for election in elections:\n",
      "        dicts[election['title']] = build_frame(election['url'])\n",
      "    return dicts\n",
      "\n",
      "polls = build_dict(info)"
     ],
     "language": "python",
     "metadata": {},
     "outputs": [],
     "prompt_number": 5
    },
    {
     "cell_type": "markdown",
     "metadata": {},
     "source": [
      "#### Problem 1(d)\n",
      "\n",
      "Now creaate a master table information containing information about each race. Create a pandas DataFrame called `candidates` with rows containing information about each race. The `candidates` DataFrame should have the following columns: \n",
      "\n",
      "1. `State` = entries should be unique\n",
      "2. `R` = name of republican candidate\n",
      "3. `D` = name of non-republican candidate (Democrate or Independent) \n",
      "4. `incumbent` = R, D or NA\n",
      "\n",
      "**Hint**: You will need a considerable amount of data wrangling for this."
     ]
    },
    {
     "cell_type": "code",
     "collapsed": false,
     "input": [
      "def extract_dict(dictionary):\n",
      "    state = dictionary['state']\n",
      "    R, D, incumbent = None, None, None\n",
      "    \n",
      "    \n",
      "    for estimate in dictionary['estimates']:\n",
      "        if estimate['party'] == 'Rep':\n",
      "            R = estimate['choice']\n",
      "            if estimate['incumbent']:\n",
      "                incumbent = 'R'\n",
      "        elif estimate['party'] == 'Dem':\n",
      "            D = estimate['choice']\n",
      "            if estimate['incumbent']:\n",
      "                incumbent = 'D'\n",
      "    \n",
      "    #incumbent_dems = ['MI', 'WV', 'IA', 'SD', 'MT', 'RI']\n",
      "    #incumbent_reps = ['GA', 'NE', 'OK']\n",
      "    #if state in incumbent_dems: incumbent = 'D'\n",
      "    #if state in incumbent_reps: incumbent = 'R'\n",
      "    \n",
      "    if incumbent == None: incumbent = 'NA'\n",
      "    if state == 'RI': incumbent = 'D'\n",
      "    \n",
      "    if state == 'KS': D = 'Orman'\n",
      "    if state == 'RI': D, R = 'Reed', 'Zaccaria'\n",
      "        \n",
      "    return [state, R, D, incumbent]\n",
      "\n",
      "cands = []\n",
      "for dictionary in info:\n",
      "    current = extract_dict(dictionary)\n",
      "    #if current not in cands:\n",
      "    cands.append(current)\n",
      "\n",
      "candidates = pd.DataFrame(cands, columns=['state', 'R', 'D', 'incumbent'])\n",
      "candidates"
     ],
     "language": "python",
     "metadata": {},
     "outputs": [
      {
       "html": [
        "<div style=\"max-height:1000px;max-width:1500px;overflow:auto;\">\n",
        "<table border=\"1\" class=\"dataframe\">\n",
        "  <thead>\n",
        "    <tr style=\"text-align: right;\">\n",
        "      <th></th>\n",
        "      <th>state</th>\n",
        "      <th>R</th>\n",
        "      <th>D</th>\n",
        "      <th>incumbent</th>\n",
        "    </tr>\n",
        "  </thead>\n",
        "  <tbody>\n",
        "    <tr>\n",
        "      <th>0 </th>\n",
        "      <td> KY</td>\n",
        "      <td> McConnell</td>\n",
        "      <td>      Grimes</td>\n",
        "      <td>  R</td>\n",
        "    </tr>\n",
        "    <tr>\n",
        "      <th>1 </th>\n",
        "      <td> AR</td>\n",
        "      <td>    Cotton</td>\n",
        "      <td>       Pryor</td>\n",
        "      <td>  D</td>\n",
        "    </tr>\n",
        "    <tr>\n",
        "      <th>2 </th>\n",
        "      <td> MI</td>\n",
        "      <td>      Land</td>\n",
        "      <td>      Peters</td>\n",
        "      <td> NA</td>\n",
        "    </tr>\n",
        "    <tr>\n",
        "      <th>3 </th>\n",
        "      <td> LA</td>\n",
        "      <td>   Cassidy</td>\n",
        "      <td>    Landrieu</td>\n",
        "      <td>  D</td>\n",
        "    </tr>\n",
        "    <tr>\n",
        "      <th>4 </th>\n",
        "      <td> NH</td>\n",
        "      <td>     Brown</td>\n",
        "      <td>     Shaheen</td>\n",
        "      <td>  D</td>\n",
        "    </tr>\n",
        "    <tr>\n",
        "      <th>5 </th>\n",
        "      <td> WV</td>\n",
        "      <td>    Capito</td>\n",
        "      <td>     Tennant</td>\n",
        "      <td> NA</td>\n",
        "    </tr>\n",
        "    <tr>\n",
        "      <th>6 </th>\n",
        "      <td> NC</td>\n",
        "      <td>    Tillis</td>\n",
        "      <td>       Hagan</td>\n",
        "      <td>  D</td>\n",
        "    </tr>\n",
        "    <tr>\n",
        "      <th>7 </th>\n",
        "      <td> VA</td>\n",
        "      <td> Gillespie</td>\n",
        "      <td>      Warner</td>\n",
        "      <td>  D</td>\n",
        "    </tr>\n",
        "    <tr>\n",
        "      <th>8 </th>\n",
        "      <td> CO</td>\n",
        "      <td>   Gardner</td>\n",
        "      <td>       Udall</td>\n",
        "      <td>  D</td>\n",
        "    </tr>\n",
        "    <tr>\n",
        "      <th>9 </th>\n",
        "      <td> IL</td>\n",
        "      <td>  Oberweis</td>\n",
        "      <td>      Durbin</td>\n",
        "      <td>  D</td>\n",
        "    </tr>\n",
        "    <tr>\n",
        "      <th>10</th>\n",
        "      <td> AK</td>\n",
        "      <td>  Sullivan</td>\n",
        "      <td>      Begich</td>\n",
        "      <td>  D</td>\n",
        "    </tr>\n",
        "    <tr>\n",
        "      <th>11</th>\n",
        "      <td> IA</td>\n",
        "      <td>     Ernst</td>\n",
        "      <td>      Braley</td>\n",
        "      <td> NA</td>\n",
        "    </tr>\n",
        "    <tr>\n",
        "      <th>12</th>\n",
        "      <td> MS</td>\n",
        "      <td>   Cochran</td>\n",
        "      <td>    Childers</td>\n",
        "      <td>  R</td>\n",
        "    </tr>\n",
        "    <tr>\n",
        "      <th>13</th>\n",
        "      <td> OR</td>\n",
        "      <td>     Wehby</td>\n",
        "      <td>     Merkley</td>\n",
        "      <td>  D</td>\n",
        "    </tr>\n",
        "    <tr>\n",
        "      <th>14</th>\n",
        "      <td> GA</td>\n",
        "      <td>    Perdue</td>\n",
        "      <td>        Nunn</td>\n",
        "      <td> NA</td>\n",
        "    </tr>\n",
        "    <tr>\n",
        "      <th>15</th>\n",
        "      <td> NE</td>\n",
        "      <td>     Sasse</td>\n",
        "      <td>      Domina</td>\n",
        "      <td> NA</td>\n",
        "    </tr>\n",
        "    <tr>\n",
        "      <th>16</th>\n",
        "      <td> SD</td>\n",
        "      <td>    Rounds</td>\n",
        "      <td>     Weiland</td>\n",
        "      <td> NA</td>\n",
        "    </tr>\n",
        "    <tr>\n",
        "      <th>17</th>\n",
        "      <td> ME</td>\n",
        "      <td>   Collins</td>\n",
        "      <td>     Bellows</td>\n",
        "      <td>  R</td>\n",
        "    </tr>\n",
        "    <tr>\n",
        "      <th>18</th>\n",
        "      <td> MN</td>\n",
        "      <td>  McFadden</td>\n",
        "      <td>     Franken</td>\n",
        "      <td>  D</td>\n",
        "    </tr>\n",
        "    <tr>\n",
        "      <th>19</th>\n",
        "      <td> TX</td>\n",
        "      <td>    Cornyn</td>\n",
        "      <td>     Alameel</td>\n",
        "      <td>  R</td>\n",
        "    </tr>\n",
        "    <tr>\n",
        "      <th>20</th>\n",
        "      <td> SC</td>\n",
        "      <td>    Graham</td>\n",
        "      <td>       Hutto</td>\n",
        "      <td>  R</td>\n",
        "    </tr>\n",
        "    <tr>\n",
        "      <th>21</th>\n",
        "      <td> SC</td>\n",
        "      <td>     Scott</td>\n",
        "      <td>   Dickerson</td>\n",
        "      <td>  R</td>\n",
        "    </tr>\n",
        "    <tr>\n",
        "      <th>22</th>\n",
        "      <td> OK</td>\n",
        "      <td>    Inhofe</td>\n",
        "      <td> Silverstein</td>\n",
        "      <td>  R</td>\n",
        "    </tr>\n",
        "    <tr>\n",
        "      <th>23</th>\n",
        "      <td> NM</td>\n",
        "      <td>       Weh</td>\n",
        "      <td>       Udall</td>\n",
        "      <td>  D</td>\n",
        "    </tr>\n",
        "    <tr>\n",
        "      <th>24</th>\n",
        "      <td> NJ</td>\n",
        "      <td>      Bell</td>\n",
        "      <td>      Booker</td>\n",
        "      <td>  D</td>\n",
        "    </tr>\n",
        "    <tr>\n",
        "      <th>25</th>\n",
        "      <td> ID</td>\n",
        "      <td>     Risch</td>\n",
        "      <td>    Mitchell</td>\n",
        "      <td>  R</td>\n",
        "    </tr>\n",
        "    <tr>\n",
        "      <th>26</th>\n",
        "      <td> TN</td>\n",
        "      <td> Alexander</td>\n",
        "      <td>        Ball</td>\n",
        "      <td>  R</td>\n",
        "    </tr>\n",
        "    <tr>\n",
        "      <th>27</th>\n",
        "      <td> WY</td>\n",
        "      <td>      Enzi</td>\n",
        "      <td>       Hardy</td>\n",
        "      <td>  R</td>\n",
        "    </tr>\n",
        "    <tr>\n",
        "      <th>28</th>\n",
        "      <td> KS</td>\n",
        "      <td>   Roberts</td>\n",
        "      <td>       Orman</td>\n",
        "      <td>  R</td>\n",
        "    </tr>\n",
        "    <tr>\n",
        "      <th>29</th>\n",
        "      <td> HI</td>\n",
        "      <td>   Cavasso</td>\n",
        "      <td>      Schatz</td>\n",
        "      <td>  D</td>\n",
        "    </tr>\n",
        "    <tr>\n",
        "      <th>30</th>\n",
        "      <td> OK</td>\n",
        "      <td>  Lankford</td>\n",
        "      <td>     Johnson</td>\n",
        "      <td> NA</td>\n",
        "    </tr>\n",
        "    <tr>\n",
        "      <th>31</th>\n",
        "      <td> MT</td>\n",
        "      <td>    Daines</td>\n",
        "      <td>      Curtis</td>\n",
        "      <td> NA</td>\n",
        "    </tr>\n",
        "    <tr>\n",
        "      <th>32</th>\n",
        "      <td> RI</td>\n",
        "      <td>  Zaccaria</td>\n",
        "      <td>        Reed</td>\n",
        "      <td>  D</td>\n",
        "    </tr>\n",
        "    <tr>\n",
        "      <th>33</th>\n",
        "      <td> MA</td>\n",
        "      <td>      Herr</td>\n",
        "      <td>      Markey</td>\n",
        "      <td>  D</td>\n",
        "    </tr>\n",
        "    <tr>\n",
        "      <th>34</th>\n",
        "      <td> DE</td>\n",
        "      <td>      Wade</td>\n",
        "      <td>       Coons</td>\n",
        "      <td>  D</td>\n",
        "    </tr>\n",
        "    <tr>\n",
        "      <th>35</th>\n",
        "      <td> GA</td>\n",
        "      <td>    Perdue</td>\n",
        "      <td>        Nunn</td>\n",
        "      <td> NA</td>\n",
        "    </tr>\n",
        "  </tbody>\n",
        "</table>\n",
        "</div>"
       ],
       "metadata": {},
       "output_type": "pyout",
       "prompt_number": 6,
       "text": [
        "   state          R            D incumbent\n",
        "0     KY  McConnell       Grimes         R\n",
        "1     AR     Cotton        Pryor         D\n",
        "2     MI       Land       Peters        NA\n",
        "3     LA    Cassidy     Landrieu         D\n",
        "4     NH      Brown      Shaheen         D\n",
        "5     WV     Capito      Tennant        NA\n",
        "6     NC     Tillis        Hagan         D\n",
        "7     VA  Gillespie       Warner         D\n",
        "8     CO    Gardner        Udall         D\n",
        "9     IL   Oberweis       Durbin         D\n",
        "10    AK   Sullivan       Begich         D\n",
        "11    IA      Ernst       Braley        NA\n",
        "12    MS    Cochran     Childers         R\n",
        "13    OR      Wehby      Merkley         D\n",
        "14    GA     Perdue         Nunn        NA\n",
        "15    NE      Sasse       Domina        NA\n",
        "16    SD     Rounds      Weiland        NA\n",
        "17    ME    Collins      Bellows         R\n",
        "18    MN   McFadden      Franken         D\n",
        "19    TX     Cornyn      Alameel         R\n",
        "20    SC     Graham        Hutto         R\n",
        "21    SC      Scott    Dickerson         R\n",
        "22    OK     Inhofe  Silverstein         R\n",
        "23    NM        Weh        Udall         D\n",
        "24    NJ       Bell       Booker         D\n",
        "25    ID      Risch     Mitchell         R\n",
        "26    TN  Alexander         Ball         R\n",
        "27    WY       Enzi        Hardy         R\n",
        "28    KS    Roberts        Orman         R\n",
        "29    HI    Cavasso       Schatz         D\n",
        "30    OK   Lankford      Johnson        NA\n",
        "31    MT     Daines       Curtis        NA\n",
        "32    RI   Zaccaria         Reed         D\n",
        "33    MA       Herr       Markey         D\n",
        "34    DE       Wade        Coons         D\n",
        "35    GA     Perdue         Nunn        NA"
       ]
      }
     ],
     "prompt_number": 6
    },
    {
     "cell_type": "markdown",
     "metadata": {},
     "source": [
      "## Problem 2: Confidence Intervals\n",
      "\n",
      "Compute a 99% confidence interval for each state. "
     ]
    },
    {
     "cell_type": "markdown",
     "metadata": {},
     "source": [
      "#### Problem 2(a)\n",
      "\n",
      "Assume you have $M$ polls with sample sizes $n_1, \\dots, n_M$. If the polls are independent, what is the average of the variances of each poll if the true proportion is $p$?"
     ]
    },
    {
     "cell_type": "markdown",
     "metadata": {},
     "source": [
      "** Your answer here: **"
     ]
    },
    {
     "cell_type": "code",
     "collapsed": false,
     "input": [
      "'''In 1a you compute the variance for the proportion voting republican using the binomial theory for each poll. \n",
      "You have an n and estimate of p. Once you have this for each poll you take the average. \n",
      "For 1b compute the variance of the observed/reported republican proportions across polls.''' \n",
      "'''Yes, you are correct. The standard approach is to stick in the estimate. \n",
      "When you are close to the edge (p close to 1 or 0) this approach is suboptimal. \n",
      "But you do not need to worry about this here.'''\n",
      "'''For each poll you can assume a binomial distribution and use the theory we have described in class to compute the variance. \n",
      "Once you do this for each race you take the average of these variances. Then take the square root so you are in the SD scale.'''"
     ],
     "language": "python",
     "metadata": {},
     "outputs": [
      {
       "metadata": {},
       "output_type": "pyout",
       "prompt_number": 7,
       "text": [
        "'For each poll you can assume a binomial distribution and use the theory we have described in class to compute the variance. \\nOnce you do this for each race you take the average of these variances. Then take the square root so you are in the SD scale.'"
       ]
      }
     ],
     "prompt_number": 7
    },
    {
     "cell_type": "code",
     "collapsed": false,
     "input": [
      "#def grab_rep(master, df):\n",
      "    "
     ],
     "language": "python",
     "metadata": {},
     "outputs": [],
     "prompt_number": 8
    },
    {
     "cell_type": "code",
     "collapsed": false,
     "input": [
      "import numpy as np\n",
      "\n",
      "def republican_index(df, cands):\n",
      "    # Get the column number of non consistent polls\n",
      "    cols = list(df.columns.values)\n",
      "    \n",
      "    for element in cols:\n",
      "        if element in list(cands):\n",
      "            rep_index = cols.index(element)\n",
      "    if rep_index == 7: dem_index = 8\n",
      "    else: dem_index = 7\n",
      "        \n",
      "    return rep_index, dem_index\n",
      "\n",
      "def calc_var(df, cands):\n",
      "    # Get the column number of non consistent polls\n",
      "    rep_index, dem_index = republican_index(df, cands)\n",
      "    \n",
      "    df.fillna(0, inplace=True)\n",
      "    N = df['Number of Observations']\n",
      "    p = (df[df.columns[rep_index]] + (df[df.columns[9]]/2))/100\n",
      "    df['variance'] = (p * (1-p))/ N\n",
      "    \n",
      "    # Compute the sqrt of variance\n",
      "    df['std'] = np.sqrt(df.variance)\n",
      "    \n",
      "    return df, rep_index, dem_index\n",
      "\n",
      "r_indeces1 = []\n",
      "for key in polls.keys():\n",
      "    cands = candidates.R\n",
      "    ppoll, r_index, d_index = calc_var(polls[key], cands)\n",
      "    r_indeces1.append(r_index)\n",
      "    \n",
      "    print 'The average of variances for %s is: %s' %(key, np.mean(polls[key].variance))"
     ],
     "language": "python",
     "metadata": {},
     "outputs": [
      {
       "output_type": "stream",
       "stream": "stdout",
       "text": [
        "The average of variances for 2014 Virginia Senate: Gillespie vs. Warner is: 0.000294130050214\n",
        "The average of variances for 2014 Delaware Senate: Wade vs. Coons is: 0.000397845285175\n",
        "The average of variances for 2014 Montana Senate: Daines vs. Curtis is: 0.000437510020922\n",
        "The average of variances for 2014 Iowa Senate: Ernst vs. Braley is: 0.000299044307349\n",
        "The average of variances for 2014 Wyoming Senate: Enzi vs. Hardy is: 0.000579794007779\n",
        "The average of variances for 2014 New Jersey Senate: Bell vs. Booker is: 0.000268646890672\n",
        "The average of variances for 2014 Hawaii Senate: Cavasso vs. Schatz is: 0.000225879262571\n",
        "The average of variances for 2014 Kansas Senate is: 0.00031249136693\n",
        "The average of variances for 2014 Alaska Senate: Sullivan vs. Begich is: 0.000392414666749\n",
        "The average of variances for 2014 West Virginia Senate: Capito vs. Tennant is: 0.000374133061428\n",
        "The average of variances for 2014 Maine Senate: Collins vs. Bellows is: 0.000327136123697"
       ]
      },
      {
       "output_type": "stream",
       "stream": "stdout",
       "text": [
        "\n",
        "The average of variances for 2014 Illinois Senate: Oberweis vs. Durbin is: 0.000244941026122\n",
        "The average of variances for 2014 South Carolina Senate: Graham vs. Hutto is: 0.000245748598804\n",
        "The average of variances for 2014 Kentucky Senate: McConnell vs. Grimes is: 0.000301008933829\n",
        "The average of variances for 2014 Idaho Senate: Risch vs. Mitchell is: 0.000355363009289\n",
        "The average of variances for 2014 Oregon Senate: Wehby vs. Merkley is: 0.00034951180347\n",
        "The average of variances for 2014 Tennessee Senate: Alexander vs. Ball is: 0.000258875166085\n",
        "The average of variances for 2014 Massachusetts Senate: Herr vs. Markey is: 0.000392177417343\n",
        "The average of variances for 2014 New Mexico Senate: Weh vs. Udall is: 0.000319606495698\n",
        "The average of variances for 2014 Minnesota Senate: McFadden vs. Franken is: 0.000290158463252"
       ]
      },
      {
       "output_type": "stream",
       "stream": "stdout",
       "text": [
        "\n",
        "The average of variances for 2014 Georgia Senate Runoff is: 0.00035728821007\n",
        "The average of variances for 2014 South Carolina Senate: Scott vs. Dickerson is: 0.000213383720556\n",
        "The average of variances for 2014 New Hampshire Senate: Brown vs. Shaheen is: 0.000355266092077\n",
        "The average of variances for 2014 North Carolina Senate: Tillis vs. Hagan is: 0.000349141569804\n",
        "The average of variances for 2014 Rhode Island Senate: Zaccaria vs. Reed is: 0.000277511318589\n",
        "The average of variances for 2014 Mississippi Senate: Cochran vs. Childers is: 0.000341610689653\n",
        "The average of variances for 2014 Michigan Senate: Land vs. Peters is: 0.00032893463888\n",
        "The average of variances for 2014 Oklahoma Senate: Inhofe vs. Silverstein is: 0.000233614647946\n",
        "The average of variances for 2014 Texas Senate: Cornyn vs. Alameel is: 0.000192678123568\n",
        "The average of variances for 2014 Colorado Senate: Gardner vs. Udall is: 0.000329467006231"
       ]
      },
      {
       "output_type": "stream",
       "stream": "stdout",
       "text": [
        "\n",
        "The average of variances for 2014 Arkansas Senate: Cotton vs. Pryor is: 0.000356054884262\n",
        "The average of variances for 2014 Georgia Senate: Perdue vs. Nunn is: 0.000304310090001\n",
        "The average of variances for 2014 South Dakota Senate: Rounds vs. Weiland is: 0.000409958886651\n",
        "The average of variances for 2014 Oklahoma Senate: Lankford vs. Johnson is: 0.000233836766211\n",
        "The average of variances for 2014 Louisiana Senate: Cassidy vs. Landrieu is: 0.000379497828505\n",
        "The average of variances for 2014 Nebraska Senate: Sasse vs. Domina is: 0.000304484391799\n"
       ]
      }
     ],
     "prompt_number": 9
    },
    {
     "cell_type": "markdown",
     "metadata": {},
     "source": [
      "#### Problem 2(b)\n",
      "\n",
      "Compute the square root of these values in Problem 2(b) for the republican candidates in each race. Then, compute the standard deviations of the observed poll results for each race. "
     ]
    },
    {
     "cell_type": "code",
     "collapsed": false,
     "input": [
      "for key in polls.keys():\n",
      "    print 'The average of variances for %s is: %s' %(key, np.mean(polls[key]['std']))"
     ],
     "language": "python",
     "metadata": {},
     "outputs": [
      {
       "output_type": "stream",
       "stream": "stdout",
       "text": [
        "The average of variances for 2014 Virginia Senate: Gillespie vs. Warner is: 0.0168618152114\n",
        "The average of variances for 2014 Delaware Senate: Wade vs. Coons is: 0.0197785055777\n",
        "The average of variances for 2014 Montana Senate: Daines vs. Curtis is: 0.0208229479705\n",
        "The average of variances for 2014 Iowa Senate: Ernst vs. Braley is: 0.0170070522484\n",
        "The average of variances for 2014 Wyoming Senate: Enzi vs. Hardy is: 0.0238237650793\n",
        "The average of variances for 2014 New Jersey Senate: Bell vs. Booker is: 0.0159291269756\n",
        "The average of variances for 2014 Hawaii Senate: Cavasso vs. Schatz is: 0.0148559825062\n",
        "The average of variances for 2014 Kansas Senate is: 0.0173732201282\n",
        "The average of variances for 2014 Alaska Senate: Sullivan vs. Begich is: 0.0196425082156\n",
        "The average of variances for 2014 West Virginia Senate: Capito vs. Tennant is: 0.0187839610439\n",
        "The average of variances for 2014 Maine Senate: Collins vs. Bellows is: 0.0177674323712\n",
        "The average of variances for 2014 Illinois Senate: Oberweis vs. Durbin is: 0.0149062788309\n",
        "The average of variances for 2014 South Carolina Senate: Graham vs. Hutto is: 0.0153930936162\n",
        "The average of variances for 2014 Kentucky Senate: McConnell vs. Grimes is: 0.0170267456486\n",
        "The average of variances for 2014 Idaho Senate: Risch vs. Mitchell is: 0.0187768967465\n",
        "The average of variances for 2014 Oregon Senate: Wehby vs. Merkley is: 0.0183626379777\n",
        "The average of variances for 2014 Tennessee Senate: Alexander vs. Ball is: 0.0160010906163\n",
        "The average of variances for 2014 Massachusetts Senate: Herr vs. Markey is: 0.0191392686951\n",
        "The average of variances for 2014 New Mexico Senate: Weh vs. Udall is: 0.0177651233185\n",
        "The average of variances for 2014 Minnesota Senate: McFadden vs. Franken is: 0.0165437035609\n",
        "The average of variances for 2014 Georgia Senate Runoff is: 0.0188006611639\n",
        "The average of variances for 2014 South Carolina Senate: Scott vs. Dickerson is: 0.0143228754571\n",
        "The average of variances for 2014 New Hampshire Senate: Brown vs. Shaheen is: 0.0184973623015\n",
        "The average of variances for 2014 North Carolina Senate: Tillis vs. Hagan is: 0.0183967228988\n",
        "The average of variances for 2014 Rhode Island Senate: Zaccaria vs. Reed is: 0.0166337015763\n",
        "The average of variances for 2014 Mississippi Senate: Cochran vs. Childers is: 0.0184091136274\n",
        "The average of variances for 2014 Michigan Senate: Land vs. Peters is: 0.0178568542761\n",
        "The average of variances for 2014 Oklahoma Senate: Inhofe vs. Silverstein is: 0.0151985338405\n",
        "The average of variances for 2014 Texas Senate: Cornyn vs. Alameel is: 0.0129526363007\n",
        "The average of variances for 2014 Colorado Senate: Gardner vs. Udall is: 0.0179072026911\n",
        "The average of variances for 2014 Arkansas Senate: Cotton vs. Pryor is: 0.0185273273526\n",
        "The average of variances for 2014 Georgia Senate: Perdue vs. Nunn is: 0.0171163897274\n",
        "The average of variances for 2014 South Dakota Senate: Rounds vs. Weiland is: 0.0199739328359\n",
        "The average of variances for 2014 Oklahoma Senate: Lankford vs. Johnson is: 0.0152087674176\n",
        "The average of variances for 2014 Louisiana Senate: Cassidy vs. Landrieu is: 0.0192344132186\n",
        "The average of variances for 2014 Nebraska Senate: Sasse vs. Domina is: 0.0174198121175\n"
       ]
      }
     ],
     "prompt_number": 10
    },
    {
     "cell_type": "markdown",
     "metadata": {},
     "source": [
      "#### Problem 2(c) \n",
      "\n",
      "Plot observed versus theoretical (average of the theoretical SDs) with the area of the point proportional to number of polls. How do these compare?"
     ]
    },
    {
     "cell_type": "code",
     "collapsed": false,
     "input": [
      "theoretical = [np.mean(pl['std']) for pl in polls.values()]\n",
      "observed = [np.std((pl[pl.columns[r_indeces1[ri]]] + (pl[pl.columns[9]]/2))/100) for ri, pl in enumerate(polls.values())]"
     ],
     "language": "python",
     "metadata": {},
     "outputs": [],
     "prompt_number": 11
    },
    {
     "cell_type": "code",
     "collapsed": false,
     "input": [
      "import seaborn as sns\n",
      "from matplotlib import pyplot as plt\n",
      "\n",
      "%matplotlib inline\n",
      "\n",
      "#nice defaults for matplotlib\n",
      "from matplotlib import rcParams\n",
      "\n",
      "dark2_colors = [(0.10588235294117647, 0.6196078431372549, 0.4666666666666667),\n",
      "                (0.8509803921568627, 0.37254901960784315, 0.00784313725490196),\n",
      "                (0.4588235294117647, 0.4392156862745098, 0.7019607843137254),\n",
      "                (0.9058823529411765, 0.1607843137254902, 0.5411764705882353),\n",
      "                (0.4, 0.6509803921568628, 0.11764705882352941),\n",
      "                (0.9019607843137255, 0.6705882352941176, 0.00784313725490196),\n",
      "                (0.6509803921568628, 0.4627450980392157, 0.11372549019607843),\n",
      "                (0.4, 0.4, 0.4)]\n",
      "\n",
      "rcParams['figure.figsize'] = (10, 6)\n",
      "rcParams['figure.dpi'] = 150\n",
      "rcParams['axes.color_cycle'] = dark2_colors\n",
      "rcParams['lines.linewidth'] = 2\n",
      "rcParams['axes.grid'] = True\n",
      "rcParams['axes.facecolor'] = '#eeeeee'\n",
      "rcParams['font.size'] = 14\n",
      "rcParams['patch.edgecolor'] = 'none'\n",
      "\n",
      "size = [np.sum(pl['Number of Observations'])/250 for pl in polls.values()]\n",
      "\n",
      "plt.scatter(theoretical, observed, s=size, alpha=0.6)\n",
      "plt.xlim(0,.1)\n",
      "plt.ylim(0,.1)\n",
      "plt.plot([0,.1], [0,.1], linewidth=1, color='black')\n",
      "\n",
      "plt.title(\"Republican SDs\")\n",
      "plt.xlabel(\"Theoretical\")\n",
      "plt.ylabel(\"Observed\")\n",
      "plt.gca().set_aspect('equal')"
     ],
     "language": "python",
     "metadata": {},
     "outputs": [
      {
       "metadata": {},
       "output_type": "display_data",
       "png": "[encoded data removed]",
       "text": [
        "<matplotlib.figure.Figure at 0x109ef2b50>"
       ]
      }
     ],
     "prompt_number": 12
    },
    {
     "cell_type": "markdown",
     "metadata": {},
     "source": [
      "** Your answer here: **"
     ]
    },
    {
     "cell_type": "code",
     "collapsed": false,
     "input": [
      "'TODO'"
     ],
     "language": "python",
     "metadata": {},
     "outputs": [
      {
       "metadata": {},
       "output_type": "pyout",
       "prompt_number": 13,
       "text": [
        "'TODO'"
       ]
      }
     ],
     "prompt_number": 13
    },
    {
     "cell_type": "markdown",
     "metadata": {},
     "source": [
      "#### Problem 2(d)\n",
      "\n",
      "Repeat Problem 2(c) but include only the most recent polls from the last two months. Do they match better or worse or the same? Can we just trust the theoretical values?"
     ]
    },
    {
     "cell_type": "code",
     "collapsed": false,
     "input": [
      "sub_polls = []\n",
      "sr_indeces = []\n",
      "for df in polls.values():\n",
      "    sub_poll = df[map(lambda x: (x.month > 8) and (x.year ==2014), df[\"Start Date\"])].copy()\n",
      "    spoll, sr_index, sd_index = calc_var(sub_poll, candidates.R)\n",
      "    sub_polls.append(spoll)\n",
      "    sr_indeces.append(sr_index)\n",
      "\n",
      "sub_theoretical = [np.mean(pl['std']) for pl in sub_polls]\n",
      "sub_observed = [np.std((pl[pl.columns[sr_indeces[inds]]] - (pl[pl.columns[9]]/2))/100) for inds, pl in enumerate(sub_polls)]\n",
      "\n",
      "sub_size = [np.sum(pl['Number of Observations'])/250 for pl in sub_polls]\n",
      "\n",
      "plt.scatter(sub_theoretical, sub_observed, s=size, alpha=0.7)\n",
      "plt.xlim(0,.1)\n",
      "plt.ylim(0,.1)\n",
      "plt.plot([0,.1], [0,.1], linewidth=1, color='black')\n",
      "\n",
      "plt.title(\"Last 2 Months Republican SDs\")\n",
      "plt.xlabel(\"Subset Theoretical\")\n",
      "plt.ylabel(\"Subset Observed\")\n",
      "plt.gca().set_aspect('equal')"
     ],
     "language": "python",
     "metadata": {},
     "outputs": [
      {
       "metadata": {},
       "output_type": "display_data",
       "png": "[encoded data removed]",
       "text": [
        "<matplotlib.figure.Figure at 0x104b53b90>"
       ]
      }
     ],
     "prompt_number": 14
    },
    {
     "cell_type": "markdown",
     "metadata": {},
     "source": [
      "** Your answer here: **"
     ]
    },
    {
     "cell_type": "code",
     "collapsed": false,
     "input": [
      "'''TODO'''"
     ],
     "language": "python",
     "metadata": {},
     "outputs": [
      {
       "metadata": {},
       "output_type": "pyout",
       "prompt_number": 15,
       "text": [
        "'TODO'"
       ]
      }
     ],
     "prompt_number": 15
    },
    {
     "cell_type": "markdown",
     "metadata": {},
     "source": [
      "#### Problem 2(e)\n",
      "\n",
      "Create a scatter plot with each point representing one state. Is there one or more races that are outlier in that it they have much larger variabilityes than expected ? Explore the original poll data and explain why the discrepancy?"
     ]
    },
    {
     "cell_type": "code",
     "collapsed": false,
     "input": [
      "def get_text_positions(x_data, y_data, txt_width, txt_height):\n",
      "    a = zip(y_data, x_data)\n",
      "    text_positions = y_data.copy()\n",
      "    for index, (y, x) in enumerate(a):\n",
      "        local_text_positions = [i for i in a if i[0] > (y - txt_height) \n",
      "                            and (abs(i[1] - x) < txt_width * 2) and i != (y,x)]\n",
      "        if local_text_positions:\n",
      "            sorted_ltp = sorted(local_text_positions)\n",
      "            if abs(sorted_ltp[0][0] - y) < txt_height: #True == collision\n",
      "                differ = np.diff(sorted_ltp, axis=0)\n",
      "                a[index] = (sorted_ltp[-1][0] + txt_height, a[index][1])\n",
      "                text_positions[index] = sorted_ltp[-1][0] + txt_height\n",
      "                for k, (j, m) in enumerate(differ):\n",
      "                    #j is the vertical distance between words\n",
      "                    if j > txt_height * 2: #if True then room to fit a word in\n",
      "                        a[index] = (sorted_ltp[k][0] + txt_height, a[index][1])\n",
      "                        text_positions[index] = sorted_ltp[k][0] + txt_height\n",
      "                        break\n",
      "    return text_positions\n",
      "\n",
      "def text_plotter(x_data, y_data, text_positions, axis,txt_width,txt_height):\n",
      "    for x,y,t in zip(x_data, y_data, text_positions):\n",
      "        axis.text(x - txt_width, 1.01*t, '%d'%int(y),rotation=0, color='blue')\n",
      "        if y != t:\n",
      "            axis.arrow(x, t,0,y-t, color='red',alpha=0.3, width=txt_width*0.1, \n",
      "                       head_width=txt_width, head_length=txt_height*0.5, \n",
      "                       zorder=0,length_includes_head=True)\n",
      "            \n",
      "\n",
      "'''N = 10\n",
      "data = np.random.random((N, 4))\n",
      "labels = ['point{0}'.format(i) for i in range(N)]\n",
      "plt.subplots_adjust(bottom = 0.1)\n",
      "plt.scatter(\n",
      "    data[:, 0], data[:, 1], marker = 'o', c = data[:, 2], s = data[:, 3]*1500,\n",
      "    cmap = plt.get_cmap('Spectral'))\n",
      "\n",
      "def annotate(x, y, label):\n",
      "    for label, x, y in zip(labels, data[:, 0], data[:, 1]):\n",
      "        plt.annotate(label, xy = (x, y), xytext = (-20, 20), textcoords = 'offset points', ha = 'right', va = 'bottom',\n",
      "                     bbox = dict(boxstyle = 'round,pad=0.5', fc = 'yellow', alpha = 0.5),\n",
      "                     arrowprops = dict(arrowstyle = '->', connectionstyle = 'arc3,rad=0'))\n",
      "\n",
      "plt.show()'''"
     ],
     "language": "python",
     "metadata": {},
     "outputs": [
      {
       "metadata": {},
       "output_type": "pyout",
       "prompt_number": 16,
       "text": [
        "\"N = 10\\ndata = np.random.random((N, 4))\\nlabels = ['point{0}'.format(i) for i in range(N)]\\nplt.subplots_adjust(bottom = 0.1)\\nplt.scatter(\\n    data[:, 0], data[:, 1], marker = 'o', c = data[:, 2], s = data[:, 3]*1500,\\n    cmap = plt.get_cmap('Spectral'))\\n\\ndef annotate(x, y, label):\\n    for label, x, y in zip(labels, data[:, 0], data[:, 1]):\\n        plt.annotate(label, xy = (x, y), xytext = (-20, 20), textcoords = 'offset points', ha = 'right', va = 'bottom',\\n                     bbox = dict(boxstyle = 'round,pad=0.5', fc = 'yellow', alpha = 0.5),\\n                     arrowprops = dict(arrowstyle = '->', connectionstyle = 'arc3,rad=0'))\\n\\nplt.show()\""
       ]
      }
     ],
     "prompt_number": 16
    },
    {
     "cell_type": "code",
     "collapsed": false,
     "input": [
      "plt.scatter(sub_theoretical, sub_observed, s=size, alpha=0.7)\n",
      "plt.xlim(0,.1)\n",
      "plt.ylim(0,.1)\n",
      "plt.plot([0,.1], [0,.1], linewidth=1, color='black')\n",
      "\n",
      "plt.title(\"Last 2 Months Republican SDs\")\n",
      "plt.xlabel(\"Subset Theoretical\")\n",
      "plt.ylabel(\"Subset Observed\")\n",
      "plt.gca().set_aspect('equal')\n",
      "\n",
      "\n",
      "\n",
      "for label, x, y in zip(candidates.state, sub_theoretical, sub_observed):\n",
      "    plt.annotate(label, xy = (x, y), xytext = (-5, 5), textcoords = 'offset points', ha = 'right', va = 'bottom',\n",
      "                 arrowprops = dict(arrowstyle = '->', connectionstyle = 'arc3,rad=0.1'))\n",
      "\n",
      "plt.show()\n",
      "#print candidates.state\n",
      "\n",
      "\"\"\"\n",
      "#random test data:\n",
      "'''x_data = random_sample(100)\n",
      "y_data = random_integers(10,50,(100))'''\n",
      "\n",
      "#GOOD PLOT:\n",
      "fig2 = plt.figure()\n",
      "ax2 = fig2.add_subplot(111)\n",
      "ax2.bar(np.array(sub_theoretical), np.array(sub_observed),width=0.00001)\n",
      "#set the bbox for the text. Increase txt_width for wider text.\n",
      "txt_height = 0.04*(plt.ylim()[1] - plt.ylim()[0])\n",
      "txt_width = 0.02*(plt.xlim()[1] - plt.xlim()[0])\n",
      "#Get the corrected text positions, then write the text.\n",
      "text_positions = get_text_positions(np.array(sub_theoretical), np.array(sub_observed), txt_width, txt_height)\n",
      "text_plotter(np.array(sub_theoretical), np.array(sub_observed), text_positions, ax2, txt_width, txt_height)\n",
      "\n",
      "plt.ylim(0,max(text_positions)+2*txt_height)\n",
      "plt.xlim(-0.1,1.1)\n",
      "#print np.ndarray([np.mean(pl['std']) for pl in sub_polls])\"\"\"\n",
      "\n",
      "'''TODO: fix labels to right state'''"
     ],
     "language": "python",
     "metadata": {},
     "outputs": [
      {
       "metadata": {},
       "output_type": "display_data",
       "png": "[encoded data removed]",
       "text": [
        "<matplotlib.figure.Figure at 0x10a30b910>"
       ]
      },
      {
       "metadata": {},
       "output_type": "pyout",
       "prompt_number": 17,
       "text": [
        "'TODO: fix labels to right state'"
       ]
      }
     ],
     "prompt_number": 17
    },
    {
     "cell_type": "markdown",
     "metadata": {},
     "source": [
      "** Your answer here: **"
     ]
    },
    {
     "cell_type": "code",
     "collapsed": false,
     "input": [
      "'TODO'"
     ],
     "language": "python",
     "metadata": {},
     "outputs": [
      {
       "metadata": {},
       "output_type": "pyout",
       "prompt_number": 18,
       "text": [
        "'TODO'"
       ]
      }
     ],
     "prompt_number": 18
    },
    {
     "cell_type": "markdown",
     "metadata": {},
     "source": [
      "#### Problem 2(f)\n",
      "\n",
      " Construct confidence intervals for the difference in each race. Use either theoretical or data driven estimates of the standard error depending on your answer to this question. Use the results in Problem 2(e), to justify your choice.\n"
     ]
    },
    {
     "cell_type": "code",
     "collapsed": false,
     "input": [
      "def calc_var_diff(df, cands):\n",
      "    # Get the column number of non consistent polls\n",
      "    rep_index2, dem_index2 = republican_index(df, cands)\n",
      "        \n",
      "    df.fillna(0, inplace=True)\n",
      "    N = df['Number of Observations']\n",
      "    \n",
      "    p1 = (df[df.columns[rep_index2]] + (df[df.columns[9]]/2))/100\n",
      "    df['variance_th'] = (p1 * (1-p1))/ N\n",
      "    # Compute the sqrt of variance\n",
      "    df['std_th'] = np.sqrt(df.variance_th)\n",
      "    \n",
      "    #p2 = 1-(((df[df.columns[rep_index2]] + (df[df.columns[9]]/2)))/100)\n",
      "    p2 = ((df[df.columns[rep_index2]] + (df[df.columns[9]]/2)) - (df[df.columns[dem_index2]] + (df[df.columns[9]]/2)))/100\n",
      "    df['diff'] = p2\n",
      "    df['variance_diff'] = (p2 * (1-p2))/ N\n",
      "    # Compute the sqrt of variance\n",
      "    #print np.sqrt((p2 * (1-p2))**2/ N**2)\n",
      "    df['std_diff'] = np.sqrt(abs(df.variance_diff))\n",
      "    \n",
      "    return df\n",
      "\n",
      "\n",
      "conf_polls = []\n",
      "for df in polls.values():    \n",
      "    conf_poll = df[map(lambda x: (x.month > 8) and (x.year ==2014), df[\"Start Date\"])].copy()\n",
      "    conf_polls.append(calc_var_diff(conf_poll, cands))\n",
      "diffs = [np.mean(pl['diff']) for pl in conf_polls]\n",
      "diff_std = [np.mean(pl['std_diff']) for pl in conf_polls]\n",
      "\n",
      "for ind, diff in enumerate(diffs):\n",
      "    print 'The difference between republicans and democrats in %s \\nis %s, with a condidence interval of: %s' %(polls.keys()[ind], diff, diff_std[ind]*2)"
     ],
     "language": "python",
     "metadata": {},
     "outputs": [
      {
       "output_type": "stream",
       "stream": "stdout",
       "text": [
        "The difference between republicans and democrats in 2014 Virginia Senate: Gillespie vs. Warner \n",
        "is -0.126, with a condidence interval of: 0.0269761675024\n",
        "The difference between republicans and democrats in 2014 Delaware Senate: Wade vs. Coons \n",
        "is -0.185, with a condidence interval of: 0.038320020191\n",
        "The difference between republicans and democrats in 2014 Montana Senate: Daines vs. Curtis \n",
        "is 0.164, with a condidence interval of: 0.0325521618068\n",
        "The difference between republicans and democrats in 2014 Iowa Senate: Ernst vs. Braley \n",
        "is 0.0160606060606, with a condidence interval of: 0.00835770367159\n",
        "The difference between republicans and democrats in 2014 Wyoming Senate: Enzi vs. Hardy \n",
        "is 0.49, with a condidence interval of: 0.0608761403331\n",
        "The difference between republicans and democrats in 2014 New Jersey Senate: Bell vs. Booker \n",
        "is -0.146666666667, with a condidence interval of: 0.0283380987722\n",
        "The difference between republicans and democrats in 2014 Hawaii Senate: Cavasso vs. Schatz \n",
        "is -0.42, with a condidence interval of: 0.0503014913549\n",
        "The difference between republicans and democrats in 2014 Kansas Senate \n",
        "is -0.0213636363636, with a condidence interval of: 0.0121361468197\n",
        "The difference between republicans and democrats in 2014 Alaska Senate: Sullivan vs. Begich \n",
        "is 0.0147058823529, with a condidence interval of: 0.0162716782706\n",
        "The difference between republicans and democrats in 2014 West Virginia Senate: Capito vs. Tennant \n",
        "is 0.186666666667, with a condidence interval of: 0.0255350414916\n",
        "The difference between republicans and democrats in 2014 Maine Senate: Collins vs. Bellows \n",
        "is 0.296, with a condidence interval of: 0.0360748978615\n",
        "The difference between republicans and democrats in 2014 Illinois Senate: Oberweis vs. Durbin \n",
        "is -0.1425, with a condidence interval of: 0.0248753233683\n",
        "The difference between republicans and democrats in 2014 South Carolina Senate: Graham vs. Hutto \n",
        "is 0.166666666667, with a condidence interval of: 0.0186546119892\n",
        "The difference between republicans and democrats in 2014 Kentucky Senate: McConnell vs. Grimes \n",
        "is 0.049, with a condidence interval of: 0.0149865678465\n",
        "The difference between republicans and democrats in 2014 Idaho Senate: Risch vs. Mitchell \n",
        "is 0.286666666667, with a condidence interval of: 0.0372749535284\n",
        "The difference between republicans and democrats in 2014 Oregon Senate: Wehby vs. Merkley \n",
        "is -0.15875, with a condidence interval of: 0.0331424967305\n",
        "The difference between republicans and democrats in 2014 Tennessee Senate: Alexander vs. Ball \n",
        "is 0.215, with a condidence interval of: 0.0261086796625\n",
        "The difference between republicans and democrats in 2014 Massachusetts Senate: Herr vs. Markey \n",
        "is -0.220833333333, with a condidence interval of: 0.0423609980547\n",
        "The difference between republicans and democrats in 2014 New Mexico Senate: Weh vs. Udall \n",
        "is -0.128571428571, with a condidence interval of: 0.0270013953237\n",
        "The difference between republicans and democrats in 2014 Minnesota Senate: McFadden vs. Franken \n",
        "is -0.10875, with a condidence interval of: 0.0239791238093\n",
        "The difference between republicans and democrats in 2014 Georgia Senate Runoff \n",
        "is 0.0185714285714, with a condidence interval of: 0.0118987523096\n",
        "The difference between republicans and democrats in 2014 South Carolina Senate: Scott vs. Dickerson \n",
        "is 0.24, with a condidence interval of: 0.0211879269605\n",
        "The difference between republicans and democrats in 2014 New Hampshire Senate: Brown vs. Shaheen \n",
        "is -0.0363636363636, with a condidence interval of: 0.0141856432575\n",
        "The difference between republicans and democrats in 2014 North Carolina Senate: Tillis vs. Hagan \n",
        "is -0.0207894736842, with a condidence interval of: 0.0114568864596\n",
        "The difference between republicans and democrats in 2014 Rhode Island Senate: Zaccaria vs. Reed \n",
        "is -0.406666666667, with a condidence interval of: 0.0541668458676\n",
        "The difference between republicans and democrats in 2014 Mississippi Senate: Cochran vs. Childers \n",
        "is 0.165, with a condidence interval of: 0.0270851393052\n",
        "The difference between republicans and democrats in 2014 Michigan Senate: Land vs. Peters \n",
        "is -0.0916129032258, with a condidence interval of: 0.0218865112434\n",
        "The difference between republicans and democrats in 2014 Oklahoma Senate: Inhofe vs. Silverstein \n",
        "is 0.376666666667, with a condidence interval of: 0.0297957860567\n",
        "The difference between republicans and democrats in 2014 Texas Senate: Cornyn vs. Alameel \n",
        "is 0.2225, with a condidence interval of: 0.0208127689393\n",
        "The difference between republicans and democrats in 2014 Colorado Senate: Gardner vs. Udall \n",
        "is 0.0172222222222, with a condidence interval of: 0.0117522160928\n",
        "The difference between republicans and democrats in 2014 Arkansas Senate: Cotton vs. Pryor \n",
        "is 0.0405882352941, with a condidence interval of: 0.0145536041606\n",
        "The difference between republicans and democrats in 2014 Georgia Senate: Perdue vs. Nunn \n",
        "is 0.0171428571429, with a condidence interval of: 0.0100166691341\n",
        "The difference between republicans and democrats in 2014 South Dakota Senate: Rounds vs. Weiland \n",
        "is 0.12, with a condidence interval of: 0.0262603409925\n",
        "The difference between republicans and democrats in 2014 Oklahoma Senate: Lankford vs. Johnson \n",
        "is 0.353333333333, with a condidence interval of: 0.0293169317727\n",
        "The difference between republicans and democrats in 2014 Louisiana Senate: Cassidy vs. Landrieu \n",
        "is 0.045, with a condidence interval of: 0.0133595161078\n",
        "The difference between republicans and democrats in 2014 Nebraska Senate: Sasse vs. Domina \n",
        "is 0.28, with a condidence interval of: 0.0339221138276\n"
       ]
      }
     ],
     "prompt_number": 19
    },
    {
     "cell_type": "markdown",
     "metadata": {},
     "source": [
      "# Problem 3: Prediction and Posterior Probabilities\n",
      "\n",
      "Perform a Bayesian analysis to predict the probability of Republicans winning in each state then provide a posterior distribution of the number of republicans in the senate."
     ]
    },
    {
     "cell_type": "markdown",
     "metadata": {},
     "source": [
      "#### Problem 3(a)\n",
      "\n",
      "First, we define a Bayesian model for each race. The prior for the difference $d$ between republicans and democtrats will be $N(\\mu,\\tau^2)$. Say before seeing poll data you have no idea who is going to win, what should $\\mu$ be? How about $\\tau$, should it be large or small? "
     ]
    },
    {
     "cell_type": "markdown",
     "metadata": {},
     "source": [
      "** Your answer here: **"
     ]
    },
    {
     "cell_type": "markdown",
     "metadata": {},
     "source": [
      "#### Problem 3(b)\n",
      "\n",
      "What is the distribution of $d$ conditioned on $\\theta$. What is the posterior distribution of $\\theta | d$? \n",
      "\n",
      "**Hint**: Use normal approximation. "
     ]
    },
    {
     "cell_type": "markdown",
     "metadata": {},
     "source": [
      "**Your answer here:**"
     ]
    },
    {
     "cell_type": "markdown",
     "metadata": {},
     "source": [
      "#### Problem 3(c)\n",
      "\n",
      "The prior represents what we think before hand. We do not know who is expected to win, so we assume $\\mu=0$. For this problem estimate $\\tau$ using the observed differences across states (Hint: $\\tau$ represents the standard deviation of a typical difference). Compute the posterior mean for each state and plot it against original average. Is there much change? Why or why not? "
     ]
    },
    {
     "cell_type": "code",
     "collapsed": false,
     "input": [
      "# given 2 arrays of sigmas and differences, calculates a posterior distribution\n",
      "def posterior_dist(diffs, sigmas):\n",
      "    mu = np.mean(diffs)\n",
      "    tau = np.std(diffs)\n",
      "\n",
      "    Bs = [(sigma**2)/((sigma**2) + (tau**2)) for sigma in sigmas]\n",
      "\n",
      "    p_distributions = [mu + (1-B) * (diffs[i] - mu) for i, B in enumerate(Bs)]\n",
      "    sd_pdist = [np.sqrt(1/((1/sigma**2)+(1/tau**2))) for sigma in sigmas]\n",
      "    \n",
      "    return p_distributions, sd_pdist\n",
      "\n",
      "for p in polls.values():\n",
      "    candids = candidates.R\n",
      "    \n",
      "    # Get the column number of non consistent polls\n",
      "    rep_index, dem_index = republican_index(p, cands)\n",
      "    \n",
      "    diffs = ((p[p.columns[rep_index]] + (p[p.columns[9]]/2)) - (p[p.columns[dem_index]] + (p['Undecided']/2)))/100\n",
      "    p['diff'] = diffs\n",
      "    \n",
      "diffs = [np.mean(p['diff']) for p in polls.values()]\n",
      "# conf_polls is a subset of the past 2 months of polls\n",
      "sigmas = [np.std(p['diff']) for p in conf_polls]\n",
      "\n",
      "p_distributions, sd_pdist = posterior_dist(diffs, sigmas)\n",
      "\n",
      "for i_p, pdist in enumerate(p_distributions):\n",
      "    print 'The Empirical Bayes credible interval for %s is: \\n%s +/- %s' %(polls.keys()[i_p], pdist, sd_pdist[i_p])"
     ],
     "language": "python",
     "metadata": {},
     "outputs": [
      {
       "output_type": "stream",
       "stream": "stdout",
       "text": [
        "The Empirical Bayes credible interval for 2014 Virginia Senate: Gillespie vs. Warner is: \n",
        "-0.145498482423 +/- 0.0423581889567\n",
        "The Empirical Bayes credible interval for 2014 Delaware Senate: Wade vs. Coons is: \n",
        "-0.165852500222 +/- 0.0382835995507\n",
        "The Empirical Bayes credible interval for 2014 Montana Senate: Daines vs. Curtis is: \n",
        "0.168512916003 +/- 0.0283963386055\n",
        "The Empirical Bayes credible interval for 2014 Iowa Senate: Ernst vs. Braley is: \n",
        "9.1909857164e-05 +/- 0.0294951525479\n",
        "The Empirical Bayes credible interval for 2014 Wyoming Senate: Enzi vs. Hardy is: \n",
        "0.374929677023 +/- 0.0816448494109\n",
        "The Empirical Bayes credible interval for 2014 New Jersey Senate: Bell vs. Booker is: \n",
        "-0.134888268745 +/- 0.0353019202639\n",
        "The Empirical Bayes credible interval for 2014 Hawaii Senate: Cavasso vs. Schatz is: \n",
        "-0.299207345992 +/- 0.0946829121037\n",
        "The Empirical Bayes credible interval for 2014 Kansas Senate is: \n",
        "-0.00510845202598 +/- 0.0381236961225\n",
        "The Empirical Bayes credible interval for 2014 Alaska Senate: Sullivan vs. Begich is: \n",
        "-0.00183093017478 +/- 0.046738390679\n",
        "The Empirical Bayes credible interval for 2014 West Virginia Senate: Capito vs. Tennant is: \n",
        "0.133040926019 +/- 0.0523490801504\n",
        "The Empirical Bayes credible interval for 2014 Maine Senate: Collins vs. Bellows is: \n",
        "0.285106355819 +/- 0.0710195432525\n",
        "The Empirical Bayes credible interval for 2014 Illinois Senate: Oberweis vs. Durbin is: \n",
        "-0.118708014227 +/- 0.0353662216034\n",
        "The Empirical Bayes credible interval for 2014 South Carolina Senate: Graham vs. Hutto is: \n",
        "0.149528019365 +/- 0.0124465052281\n",
        "The Empirical Bayes credible interval for 2014 Kentucky Senate: McConnell vs. Grimes is: \n",
        "0.0301712974069 +/- 0.034903598194\n",
        "The Empirical Bayes credible interval for 2014 Idaho Senate: Risch vs. Mitchell is: \n",
        "0.260684437896 +/- 0.0734081676717\n",
        "The Empirical Bayes credible interval for 2014 Oregon Senate: Wehby vs. Merkley is: \n",
        "-0.124014189238 +/- 0.0452066358365\n",
        "The Empirical Bayes credible interval for 2014 Tennessee Senate: Alexander vs. Ball is: \n",
        "0.189897339853 +/- 0.0049983407713\n",
        "The Empirical Bayes credible interval for 2014 Massachusetts Senate: Herr vs. Markey is: \n",
        "-0.214289557098 +/- 0.0386750058925\n",
        "The Empirical Bayes credible interval for 2014 New Mexico Senate: Weh vs. Udall is: \n",
        "-0.137016171897 +/- 0.0428106090483\n",
        "The Empirical Bayes credible interval for 2014 Minnesota Senate: McFadden vs. Franken is: \n",
        "-0.102735591513 +/- 0.0371911712591\n",
        "The Empirical Bayes credible interval for 2014 Georgia Senate Runoff is: \n",
        "0.0161135243424 +/- 0.0277072892536\n",
        "The Empirical Bayes credible interval for 2014 South Carolina Senate: Scott vs. Dickerson is: \n",
        "0.208557161954 +/- 0.0367397211488\n",
        "The Empirical Bayes credible interval for 2014 New Hampshire Senate: Brown vs. Shaheen is: \n",
        "-0.0526232984946 +/- 0.0364174707301\n",
        "The Empirical Bayes credible interval for 2014 North Carolina Senate: Tillis vs. Hagan is: \n",
        "-0.0580589622339 +/- 0.0267301722282\n",
        "The Empirical Bayes credible interval for 2014 Rhode Island Senate: Zaccaria vs. Reed is: \n",
        "-0.33761174966 +/- 0.0409553730402\n",
        "The Empirical Bayes credible interval for 2014 Mississippi Senate: Cochran vs. Childers is: \n",
        "0.146097308465 +/- 0.0529152829201\n",
        "The Empirical Bayes credible interval for 2014 Michigan Senate: Land vs. Peters is: \n",
        "-0.0516489143284 +/- 0.038183966961\n",
        "The Empirical Bayes credible interval for 2014 Oklahoma Senate: Inhofe vs. Silverstein is: \n",
        "0.325956206445 +/- 0.0305270941326\n",
        "The Empirical Bayes credible interval for 2014 Texas Senate: Cornyn vs. Alameel is: \n",
        "0.190089378177 +/- 0.0226207773922\n",
        "The Empirical Bayes credible interval for 2014 Colorado Senate: Gardner vs. Udall is: \n",
        "0.00648488388012 +/- 0.034300911459\n",
        "The Empirical Bayes credible interval for 2014 Arkansas Senate: Cotton vs. Pryor is: \n",
        "0.0160069021365 +/- 0.0415079667839\n",
        "The Empirical Bayes credible interval for 2014 Georgia Senate: Perdue vs. Nunn is: \n",
        "-0.00638827324076 +/- 0.0305359238491\n",
        "The Empirical Bayes credible interval for 2014 South Dakota Senate: Rounds vs. Weiland is: \n",
        "0.158074901624 +/- 0.0460401272801\n",
        "The Empirical Bayes credible interval for 2014 Oklahoma Senate: Lankford vs. Johnson is: \n",
        "0.305723442748 +/- 0.0409553730402\n",
        "The Empirical Bayes credible interval for 2014 Louisiana Senate: Cassidy vs. Landrieu is: \n",
        "0.0118935849306 +/- 0.0326404936408\n",
        "The Empirical Bayes credible interval for 2014 Nebraska Senate: Sasse vs. Domina is: \n",
        "0.244444477416 +/- 0.00998674595726\n"
       ]
      }
     ],
     "prompt_number": 20
    },
    {
     "cell_type": "code",
     "collapsed": false,
     "input": [
      "plt.scatter(diffs, p_distributions, s = 100, alpha=0.6) # s=size, \n",
      "#plt.xlim(-1,.03)\n",
      "#plt.ylim(-1,1)\n",
      "\n",
      "plt.title(\"Observed vs Posterior Differences Between Reps and Dems\")\n",
      "plt.xlabel(\"Observed Averages\")\n",
      "plt.ylabel(\"Posterior Averages\")\n",
      "plt.gca().set_aspect('equal')"
     ],
     "language": "python",
     "metadata": {},
     "outputs": [
      {
       "metadata": {},
       "output_type": "display_data",
       "png": "[encoded data removed]",
       "text": [
        "<matplotlib.figure.Figure at 0x105420510>"
       ]
      }
     ],
     "prompt_number": 21
    },
    {
     "cell_type": "markdown",
     "metadata": {},
     "source": [
      "**Your answer here:**"
     ]
    },
    {
     "cell_type": "code",
     "collapsed": false,
     "input": [
      "p_distributions_r"
     ],
     "language": "python",
     "metadata": {},
     "outputs": [
      {
       "metadata": {},
       "output_type": "pyout",
       "prompt_number": 30,
       "text": [
        "[0.41343421025751148,\n",
        " 0.41229558666466076,\n",
        " 0.58062116393157659,\n",
        " 0.48816364206709617,\n",
        " 0.67625628522446313,\n",
        " 0.42131137880293551,\n",
        " 0.33205226100305174,\n",
        " 0.44558770979834755,\n",
        " 0.47155397619249728,\n",
        " 0.55639963171947782,\n",
        " 0.62481633096904332,\n",
        " 0.4273418249952578,\n",
        " 0.52426212068518718,\n",
        " 0.50040443786482491,\n",
        " 0.62306585473960707,\n",
        " 0.42202482626594157,\n",
        " 0.55567648230915478,\n",
        " 0.38677903430957727,\n",
        " 0.4269755431175396,\n",
        " 0.43122680669531116,\n",
        " 0.50057230867484104,\n",
        " 0.59381056902821072,\n",
        " 0.4653667842397623,\n",
        " 0.43672254858109716,\n",
        " 0.31911707322345173,\n",
        " 0.53851133081005742,\n",
        " 0.45512570470072256,\n",
        " 0.63919116626321415,\n",
        " 0.57021468297289102,\n",
        " 0.48191055021829149,\n",
        " 0.48687997422997198,\n",
        " 0.46620834218634855,\n",
        " 0.5006652130649476,\n",
        " 0.63615585979200417,\n",
        " 0.4933358820429451,\n",
        " 0.61219151730528587]"
       ]
      }
     ],
     "prompt_number": 30
    },
    {
     "cell_type": "markdown",
     "metadata": {},
     "source": [
      "#### Problem 3(d)\n",
      "\n",
      "For each state, report a probabilty of Republicans winning. How does your answer here compare to the other aggregators?"
     ]
    },
    {
     "cell_type": "code",
     "collapsed": false,
     "input": [
      "# Get the indeces of the columns for Rep candidates\n",
      "rep_indeces = [republican_index(df, cands)[0] for df in polls.values()]\n",
      "\n",
      "# Get the values of the rep observed probs\n",
      "vals_r = [np.mean((p[p.columns[rep_indeces[i]]] + (p[p.columns[9]]/2))/100) for i, p in enumerate(polls.values())]\n",
      "\n",
      "# conf_polls is a subset of the past 2 months of polls\n",
      "sigmas_r = [np.std((p[p.columns[rep_indeces[i]]] + (p[p.columns[9]]/2))/100) for i, p in enumerate(conf_polls)]\n",
      "\n",
      "# Get the posterior distributions with the function defined above\n",
      "p_distributions_r, sd_pdist_r = posterior_dist(vals_r, sigmas_r)\n",
      "\n",
      "for i_p_r, pdist_r in enumerate(p_distributions_r):\n",
      "    print 'The Empirical Bayes credible interval for %s is: \\n%s +/- %s' %(polls.keys()[i_p_r], pdist_r, sd_pdist_r[i_p_r])"
     ],
     "language": "python",
     "metadata": {},
     "outputs": [
      {
       "output_type": "stream",
       "stream": "stdout",
       "text": [
        "The Empirical Bayes credible interval for 2014 Virginia Senate: Gillespie vs. Warner is: \n",
        "0.413434210258 +/- 0.025264750785\n",
        "The Empirical Bayes credible interval for 2014 Delaware Senate: Wade vs. Coons is: \n",
        "0.412295586665 +/- 0.0415354166215\n",
        "The Empirical Bayes credible interval for 2014 Montana Senate: Daines vs. Curtis is: \n",
        "0.580621163932 +/- 0.0129210675979\n",
        "The Empirical Bayes credible interval for 2014 Iowa Senate: Ernst vs. Braley is: \n",
        "0.488163642067 +/- 0.0235140035462\n",
        "The Empirical Bayes credible interval for 2014 Wyoming Senate: Enzi vs. Hardy is: \n",
        "0.676256285224 +/- 0.0369529545666\n",
        "The Empirical Bayes credible interval for 2014 New Jersey Senate: Bell vs. Booker is: \n",
        "0.421311378803 +/- 0.0228975001755\n",
        "The Empirical Bayes credible interval for 2014 Hawaii Senate: Cavasso vs. Schatz is: \n",
        "0.332052261003 +/- 0.0459172942208\n",
        "The Empirical Bayes credible interval for 2014 Kansas Senate is: \n",
        "0.445587709798 +/- 0.0287112055328\n",
        "The Empirical Bayes credible interval for 2014 Alaska Senate: Sullivan vs. Begich is: \n",
        "0.471553976192 +/- 0.0306507251022\n",
        "The Empirical Bayes credible interval for 2014 West Virginia Senate: Capito vs. Tennant is: \n",
        "0.556399631719 +/- 0.0302762431772\n",
        "The Empirical Bayes credible interval for 2014 Maine Senate: Collins vs. Bellows is: \n",
        "0.624816330969 +/- 0.0391902280824\n",
        "The Empirical Bayes credible interval for 2014 Illinois Senate: Oberweis vs. Durbin is: \n",
        "0.427341824995 +/- 0.0241731334979\n",
        "The Empirical Bayes credible interval for 2014 South Carolina Senate: Graham vs. Hutto is: \n",
        "0.524262120685 +/- 0.00622312273538\n",
        "The Empirical Bayes credible interval for 2014 Kentucky Senate: McConnell vs. Grimes is: \n",
        "0.500404437865 +/- 0.0185222303685\n",
        "The Empirical Bayes credible interval for 2014 Idaho Senate: Risch vs. Mitchell is: \n",
        "0.62306585474 +/- 0.0353045812709\n",
        "The Empirical Bayes credible interval for 2014 Oregon Senate: Wehby vs. Merkley is: \n",
        "0.422024826266 +/- 0.0296174989414\n",
        "The Empirical Bayes credible interval for 2014 Tennessee Senate: Alexander vs. Ball is: \n",
        "0.555676482309 +/- 0.00499330588636\n",
        "The Empirical Bayes credible interval for 2014 Massachusetts Senate: Herr vs. Markey is: \n",
        "0.38677903431 +/- 0.0266154333841\n",
        "The Empirical Bayes credible interval for 2014 New Mexico Senate: Weh vs. Udall is: \n",
        "0.426975543118 +/- 0.0246317239085\n",
        "The Empirical Bayes credible interval for 2014 Minnesota Senate: McFadden vs. Franken is: \n",
        "0.431226806695 +/- 0.0255627089236\n",
        "The Empirical Bayes credible interval for 2014 Georgia Senate Runoff is: \n",
        "0.500572308675 +/- 0.0347320476735\n",
        "The Empirical Bayes credible interval for 2014 South Carolina Senate: Scott vs. Dickerson is: \n",
        "0.593810569028 +/- 0.0221251654056\n",
        "The Empirical Bayes credible interval for 2014 New Hampshire Senate: Brown vs. Shaheen is: \n",
        "0.46536678424 +/- 0.0253875589984\n",
        "The Empirical Bayes credible interval for 2014 North Carolina Senate: Tillis vs. Hagan is: \n",
        "0.436722548581 +/- 0.0272444977318\n",
        "The Empirical Bayes credible interval for 2014 Rhode Island Senate: Zaccaria vs. Reed is: \n",
        "0.319117073223 +/- 0.0121500422939\n",
        "The Empirical Bayes credible interval for 2014 Mississippi Senate: Cochran vs. Childers is: \n",
        "0.53851133081 +/- 0.0286483279203\n",
        "The Empirical Bayes credible interval for 2014 Michigan Senate: Land vs. Peters is: \n",
        "0.455125704701 +/- 0.0252070344093\n",
        "The Empirical Bayes credible interval for 2014 Oklahoma Senate: Inhofe vs. Silverstein is: \n",
        "0.639191166263 +/- 0.0237424026328\n",
        "The Empirical Bayes credible interval for 2014 Texas Senate: Cornyn vs. Alameel is: \n",
        "0.570214682973 +/- 0.0157921330043\n",
        "The Empirical Bayes credible interval for 2014 Colorado Senate: Gardner vs. Udall is: \n",
        "0.481910550218 +/- 0.0141575234315\n",
        "The Empirical Bayes credible interval for 2014 Arkansas Senate: Cotton vs. Pryor is: \n",
        "0.48687997423 +/- 0.0187341591272\n",
        "The Empirical Bayes credible interval for 2014 Georgia Senate: Perdue vs. Nunn is: \n",
        "0.466208342186 +/- 0.0186945639674\n",
        "The Empirical Bayes credible interval for 2014 South Dakota Senate: Rounds vs. Weiland is: \n",
        "0.500665213065 +/- 0.0287126383798\n",
        "The Empirical Bayes credible interval for 2014 Oklahoma Senate: Lankford vs. Johnson is: \n",
        "0.636155859792 +/- 0.0274017743818\n",
        "The Empirical Bayes credible interval for 2014 Louisiana Senate: Cassidy vs. Landrieu is: \n",
        "0.493335882043 +/- 0.026081241033\n",
        "The Empirical Bayes credible interval for 2014 Nebraska Senate: Sasse vs. Domina is: \n",
        "0.612191517305 +/- 0.00499330588636\n"
       ]
      }
     ],
     "prompt_number": 23
    },
    {
     "cell_type": "markdown",
     "metadata": {},
     "source": [
      "**Your answer here:**"
     ]
    },
    {
     "cell_type": "code",
     "collapsed": false,
     "input": [
      "p_distributions"
     ],
     "language": "python",
     "metadata": {},
     "outputs": [
      {
       "metadata": {},
       "output_type": "pyout",
       "prompt_number": 29,
       "text": [
        "[-0.14549848242299845,\n",
        " -0.16585250022155118,\n",
        " 0.16851291600335019,\n",
        " 9.1909857163952058e-05,\n",
        " 0.37492967702322955,\n",
        " -0.13488826874521803,\n",
        " -0.29920734599249882,\n",
        " -0.0051084520259827224,\n",
        " -0.001830930174779935,\n",
        " 0.13304092601941489,\n",
        " 0.28510635581860128,\n",
        " -0.11870801422651861,\n",
        " 0.1495280193652849,\n",
        " 0.030171297406881497,\n",
        " 0.26068443789564477,\n",
        " -0.1240141892380229,\n",
        " 0.18989733985283241,\n",
        " -0.21428955709835318,\n",
        " -0.13701617189721316,\n",
        " -0.10273559151346731,\n",
        " 0.016113524342383743,\n",
        " 0.20855716195353294,\n",
        " -0.052623298494550476,\n",
        " -0.058058962233902882,\n",
        " -0.33761174965987828,\n",
        " 0.14609730846549976,\n",
        " -0.051648914328432015,\n",
        " 0.32595620644489104,\n",
        " 0.19008937817683466,\n",
        " 0.0064848838801207995,\n",
        " 0.016006902136487533,\n",
        " -0.0063882732407626458,\n",
        " 0.15807490162439639,\n",
        " 0.30572344274815477,\n",
        " 0.01189358493062042,\n",
        " 0.24444447741565456]"
       ]
      }
     ],
     "prompt_number": 29
    },
    {
     "cell_type": "markdown",
     "metadata": {},
     "source": [
      "#### Problem 3(e)\n",
      "\n",
      "Use the posterior distributions in a Monte Carlo simulation to generate election results. In each simulation compute the total number of seats the Republican control. Show a histogram of these results."
     ]
    },
    {
     "cell_type": "code",
     "collapsed": false,
     "input": [
      "'''N = np.median(filtered[\"Number of Observations\"])\n",
      "p_distributions_r\n",
      "p = 0.53\n",
      "B = 1000\n",
      "obs = np.random.binomial(N, p, size = B) / N\n",
      "\n",
      "p = 0.53\n",
      "B = 1000\n",
      "obs = map(lambda x: np.mean(np.random.binomial(1, p, size = N)), xrange(B))\n",
      "\n",
      "# Represents the percentage of Obama votes from M polls\n",
      "def simulatePolls(p, N, M):\n",
      "    \"\"\" Function to simulate the results \n",
      "    of M polls each measuring the percent\n",
      "    of Obama votes out of a sample size of N\n",
      "    with probability p of voting for Obama\n",
      "    \n",
      "    M = Number of polls to simulate\n",
      "    N = Sample size of each poll\n",
      "    p = Probability of voting for Obama \"\"\"\n",
      "    \n",
      "    return map(lambda x: np.mean(np.random.binomial(1, p, size = N)), xrange(M))\n",
      "\n",
      "#simulatePolls(p, N, M) '''\n",
      "\n",
      "### Your code here ###\n",
      "#in 1000 simulation, how many republicans win \n",
      "simulation_results = []\n",
      "for j in range(1000):\n",
      "    rep = 0\n",
      "    for i in range(len(p_distributions_r)):  \n",
      "        s = np.random.normal(p_distributions_r[i], sd_pdist_r[i], 1000) \n",
      "        \n",
      "        if np.mean(s) > .5:#len(s[s>.5]) > 500:\n",
      "            rep += 1\n",
      "\n",
      "    simulation_results.append(rep)\n",
      "    \n",
      "plt.hist(simulation_results)\n",
      "plt.show()"
     ],
     "language": "python",
     "metadata": {},
     "outputs": [
      {
       "metadata": {},
       "output_type": "display_data",
       "png": "[encoded data removed]",
       "text": [
        "<matplotlib.figure.Figure at 0x10a054110>"
       ]
      }
     ],
     "prompt_number": 25
    },
    {
     "cell_type": "markdown",
     "metadata": {},
     "source": [
      "## Problem 4\n",
      "\n",
      "Predict the results for the 2014 Midterm Elections. We will have a three competitions with the terms for scoring entries described above. For both questions below, **explain** or provide commentary on how you arrived at your predictions including code. \n",
      "\n",
      "**Hint**: Use election results from 2010, 2012 to build and test models."
     ]
    },
    {
     "cell_type": "markdown",
     "metadata": {},
     "source": [
      "#### Problem 4(a)\n",
      "\n",
      "Predict the number of Republican senators. You may provide an interval. Smallest interval that includes the election day result wins. \n",
      "\n",
      "**Note**: we want the total so add the numbers of those that are not up for election."
     ]
    },
    {
     "cell_type": "code",
     "collapsed": false,
     "input": [
      "### Your code here ###"
     ],
     "language": "python",
     "metadata": {},
     "outputs": [],
     "prompt_number": 26
    },
    {
     "cell_type": "markdown",
     "metadata": {},
     "source": [
      "**Provide an explanation of methodology here**:"
     ]
    },
    {
     "cell_type": "markdown",
     "metadata": {},
     "source": [
      "#### Problem 4(b)\n",
      "\n",
      "Predict the R-D difference in each state. The predictions that minimize the residual sum of squares between predicted and observed differences wins."
     ]
    },
    {
     "cell_type": "code",
     "collapsed": false,
     "input": [
      "### Your code here ###"
     ],
     "language": "python",
     "metadata": {},
     "outputs": [],
     "prompt_number": 27
    },
    {
     "cell_type": "markdown",
     "metadata": {},
     "source": [
      "**Provide an explanation of methodology here**:"
     ]
    },
    {
     "cell_type": "markdown",
     "metadata": {},
     "source": [
      "#### Problem 4(c)\n",
      "\n",
      "Report a confidence interval for the R-D difference in each state. If the election day result falls outside your confidence interval in more than two states you are eliminated. For those surviving this cutoff, we will add up the size of all confidence intervals and sum. The smallest total length of confidence interval wins. \n",
      "\n",
      "**Note**: you can use Bayesian credible intervals or whatever else you want. "
     ]
    },
    {
     "cell_type": "code",
     "collapsed": false,
     "input": [
      "### Your code here ###"
     ],
     "language": "python",
     "metadata": {},
     "outputs": [],
     "prompt_number": 28
    },
    {
     "cell_type": "markdown",
     "metadata": {},
     "source": [
      "**Provide an explanation of methodology here**:"
     ]
    },
    {
     "cell_type": "markdown",
     "metadata": {},
     "source": [
      "# Submission Instructions\n",
      "\n",
      "To submit your homework, create a folder named **lastname_firstinitial_hw#** and place your IPython notebooks, data files, and any other files in this folder. Your IPython Notebooks should be completely executed with the results visible in the notebook. We should not have to run any code.  Compress the folder (please use .zip compression) and submit to the CS109 dropbox in the appropriate folder. *If we cannot access your work because these directions are not followed correctly, we will not grade your work.*\n"
     ]
    }
   ],
   "metadata": {}
  }
 ]
}