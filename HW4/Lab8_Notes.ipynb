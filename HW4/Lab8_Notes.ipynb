{
 "metadata": {
  "name": "",
  "signature": "sha256:568dafc6d05db862891775402e72e4cc7fc4a7174d12859bf583ac8c7c2d5417"
 },
 "nbformat": 3,
 "nbformat_minor": 0,
 "worksheets": [
  {
   "cells": [
    {
     "cell_type": "code",
     "collapsed": false,
     "input": [
      "import numpy as np\n",
      "import scipy as sp\n",
      "import pandas as pd\n",
      "import sklearn\n",
      "import seaborn as sns\n",
      "from matplotlib import pyplot as plt\n",
      "import bs4\n",
      "import statsmodels.formula.api as smf\n",
      "\n",
      "%matplotlib inline\n",
      "\n",
      "#nice defaults for matplotlib\n",
      "from matplotlib import rcParams\n",
      "\n",
      "dark2_colors = [(0.10588235294117647, 0.6196078431372549, 0.4666666666666667),\n",
      "                (0.8509803921568627, 0.37254901960784315, 0.00784313725490196),\n",
      "                (0.4588235294117647, 0.4392156862745098, 0.7019607843137254),\n",
      "                (0.9058823529411765, 0.1607843137254902, 0.5411764705882353),\n",
      "                (0.4, 0.6509803921568628, 0.11764705882352941),\n",
      "                (0.9019607843137255, 0.6705882352941176, 0.00784313725490196),\n",
      "                (0.6509803921568628, 0.4627450980392157, 0.11372549019607843),\n",
      "                (0.4, 0.4, 0.4)]\n",
      "\n",
      "rcParams['figure.figsize'] = (10, 6)\n",
      "rcParams['figure.dpi'] = 150\n",
      "rcParams['axes.color_cycle'] = dark2_colors\n",
      "rcParams['lines.linewidth'] = 2\n",
      "rcParams['axes.grid'] = True\n",
      "rcParams['axes.facecolor'] = '#eeeeee'\n",
      "rcParams['font.size'] = 14\n",
      "rcParams['patch.edgecolor'] = 'none'"
     ],
     "language": "python",
     "metadata": {},
     "outputs": [],
     "prompt_number": 27
    },
    {
     "cell_type": "markdown",
     "metadata": {},
     "source": [
      "#Lab 8: Election Prediction\n",
      "\n"
     ]
    },
    {
     "cell_type": "markdown",
     "metadata": {},
     "source": [
      "##Election scraping\n",
      "\n",
      "When was the election?"
     ]
    },
    {
     "cell_type": "code",
     "collapsed": false,
     "input": [
      "#Wikipedia page with table of election dates\n",
      "theurl = \"http://en.wikipedia.org/wiki/Election_Day_(United_States)\"\n",
      "\n",
      "#Grab table from page. Use \"Midterm\" as a unique identifier of the table\n",
      "#we want. Grab the first returned dataframe.\n",
      "wikitable = pd.read_html(theurl, match=\"Midterm\", header=0)[0]\n",
      "#Bingo. But note that the dates are automatically set to 2014.\n",
      "print wikitable.head()"
     ],
     "language": "python",
     "metadata": {},
     "outputs": [
      {
       "output_type": "stream",
       "stream": "stdout",
       "text": [
        "   Year        Day                        Details          Type\n",
        "0  2000 2014-11-07  United States elections, 2000  Presidential\n",
        "1  2001 2014-11-06  United States elections, 2001      Off-year\n",
        "2  2002 2014-11-05  United States elections, 2002       Midterm\n",
        "3  2003 2014-11-04  United States elections, 2003      Off-year\n",
        "4  2004 2014-11-02  United States elections, 2004  Presidential\n"
       ]
      }
     ],
     "prompt_number": 28
    },
    {
     "cell_type": "code",
     "collapsed": false,
     "input": [
      "def set_year(dateobj, year):\n",
      "    d2 = dateobj.replace(year = year)\n",
      "    return d2\n",
      "\n",
      "wikitable['electionday'] = wikitable.apply(lambda r: set_year(r.values[1], r.values[0]), axis=1)\n",
      "wikitable.head()"
     ],
     "language": "python",
     "metadata": {},
     "outputs": [
      {
       "html": [
        "<div style=\"max-height:1000px;max-width:1500px;overflow:auto;\">\n",
        "<table border=\"1\" class=\"dataframe\">\n",
        "  <thead>\n",
        "    <tr style=\"text-align: right;\">\n",
        "      <th></th>\n",
        "      <th>Year</th>\n",
        "      <th>Day</th>\n",
        "      <th>Details</th>\n",
        "      <th>Type</th>\n",
        "      <th>electionday</th>\n",
        "    </tr>\n",
        "  </thead>\n",
        "  <tbody>\n",
        "    <tr>\n",
        "      <th>0</th>\n",
        "      <td> 2000</td>\n",
        "      <td>2014-11-07</td>\n",
        "      <td> United States elections, 2000</td>\n",
        "      <td> Presidential</td>\n",
        "      <td>2000-11-07</td>\n",
        "    </tr>\n",
        "    <tr>\n",
        "      <th>1</th>\n",
        "      <td> 2001</td>\n",
        "      <td>2014-11-06</td>\n",
        "      <td> United States elections, 2001</td>\n",
        "      <td>     Off-year</td>\n",
        "      <td>2001-11-06</td>\n",
        "    </tr>\n",
        "    <tr>\n",
        "      <th>2</th>\n",
        "      <td> 2002</td>\n",
        "      <td>2014-11-05</td>\n",
        "      <td> United States elections, 2002</td>\n",
        "      <td>      Midterm</td>\n",
        "      <td>2002-11-05</td>\n",
        "    </tr>\n",
        "    <tr>\n",
        "      <th>3</th>\n",
        "      <td> 2003</td>\n",
        "      <td>2014-11-04</td>\n",
        "      <td> United States elections, 2003</td>\n",
        "      <td>     Off-year</td>\n",
        "      <td>2003-11-04</td>\n",
        "    </tr>\n",
        "    <tr>\n",
        "      <th>4</th>\n",
        "      <td> 2004</td>\n",
        "      <td>2014-11-02</td>\n",
        "      <td> United States elections, 2004</td>\n",
        "      <td> Presidential</td>\n",
        "      <td>2004-11-02</td>\n",
        "    </tr>\n",
        "  </tbody>\n",
        "</table>\n",
        "</div>"
       ],
       "metadata": {},
       "output_type": "pyout",
       "prompt_number": 29,
       "text": [
        "   Year        Day                        Details          Type electionday\n",
        "0  2000 2014-11-07  United States elections, 2000  Presidential  2000-11-07\n",
        "1  2001 2014-11-06  United States elections, 2001      Off-year  2001-11-06\n",
        "2  2002 2014-11-05  United States elections, 2002       Midterm  2002-11-05\n",
        "3  2003 2014-11-04  United States elections, 2003      Off-year  2003-11-04\n",
        "4  2004 2014-11-02  United States elections, 2004  Presidential  2004-11-02"
       ]
      }
     ],
     "prompt_number": 29
    },
    {
     "cell_type": "code",
     "collapsed": false,
     "input": [
      "#Grab all data\n",
      "filedates = [\"2002_2008\", \"2010\", \"2012\"]\n",
      "pollstercsvs = [pd.read_csv(\"pollster_cleaned_%s.csv\"%fname, parse_dates=['end.date']) \n",
      "                for fname in filedates]\n",
      "#Paste them together\n",
      "oldpolls = pd.concat(pollstercsvs)\n",
      "oldpolls['end.date']\n",
      "\n",
      "oldpolls = pd.merge(oldpolls, wikitable, how=\"inner\", left_on=\"year\", right_on=\"Year\")\n",
      "\n",
      "#Filter to senate races\n",
      "oldpolls = oldpolls.ix[oldpolls.race.str.contains(\"Sen\"),:]\n",
      "\n",
      "#Compute number of days between poll's end date and election day.\n",
      "oldpolls['day'] = oldpolls.apply(lambda x: (x['end.date']-x['electionday']).days, axis=1)\n",
      "#Filter down to polls taken within a year of the election.\n",
      "oldpolls = oldpolls.ix[(oldpolls.day <= 0) & (oldpolls.day >= -365),:]"
     ],
     "language": "python",
     "metadata": {},
     "outputs": [],
     "prompt_number": 67
    },
    {
     "cell_type": "markdown",
     "metadata": {},
     "source": [
      "Deal with independents. Make them dems or republicans depending on who the best competitor is."
     ]
    },
    {
     "cell_type": "code",
     "collapsed": false,
     "input": [
      "def grab_greater(df, focus, champ, chal):\n",
      "    return np.where((df[chal] > df[focus]) & (df[champ] > df[focus]),\n",
      "                    df[chal], df[focus])\n",
      "\n",
      "oldpolls['real.dem2'] = grab_greater(oldpolls, 'real.dem', 'real.rep', 'real.oth')\n",
      "oldpolls['real.rep2'] = grab_greater(oldpolls, 'real.rep', 'real.dem', 'real.oth')\n",
      "\n",
      "oldpolls['vote.dem2'] = grab_greater(oldpolls, 'vote.dem', 'vote.rep', 'vote.oth')\n",
      "oldpolls['vote.rep2'] = grab_greater(oldpolls, 'vote.rep', 'vote.dem', 'vote.oth')"
     ],
     "language": "python",
     "metadata": {},
     "outputs": [],
     "prompt_number": 68
    },
    {
     "cell_type": "markdown",
     "metadata": {},
     "source": [
      "Now compute differences and bias. Here \"bias\" is a poll's prediction of the Republican's advantage minus the Republican's actual win margin. "
     ]
    },
    {
     "cell_type": "code",
     "collapsed": false,
     "input": [
      "oldpolls['diff'] = oldpolls['vote.rep2']-oldpolls['vote.dem2']\n",
      "oldpolls['reald'] = oldpolls['real.rep2']-oldpolls['real.dem2']\n",
      "oldpolls['bias'] = oldpolls['diff']-oldpolls['reald']"
     ],
     "language": "python",
     "metadata": {},
     "outputs": [],
     "prompt_number": 69
    },
    {
     "cell_type": "markdown",
     "metadata": {},
     "source": [
      "Note that there are some flipped values."
     ]
    },
    {
     "cell_type": "code",
     "collapsed": false,
     "input": [
      "print oldpolls.ix[oldpolls.bias.abs() >= 50,[\"vote.rep2\", \"vote.dem2\", \"real.rep2\", \"real.dem2\"]]"
     ],
     "language": "python",
     "metadata": {},
     "outputs": [
      {
       "output_type": "stream",
       "stream": "stdout",
       "text": [
        "      vote.rep2  vote.dem2  real.rep2  real.dem2\n",
        "4651         32         65      63.36      36.52\n"
       ]
      }
     ],
     "prompt_number": 70
    },
    {
     "cell_type": "markdown",
     "metadata": {},
     "source": [
      "Drop these polls."
     ]
    },
    {
     "cell_type": "code",
     "collapsed": false,
     "input": [
      "oldpolls = oldpolls.ix[oldpolls.bias.abs() < 50,:]"
     ],
     "language": "python",
     "metadata": {},
     "outputs": [],
     "prompt_number": 64
    },
    {
     "cell_type": "markdown",
     "metadata": {},
     "source": [
      "Now make some exploratory plots. First, plot the number of polls per week per race."
     ]
    },
    {
     "cell_type": "code",
     "collapsed": false,
     "input": [
      "#`value_counts` counts the number of times each value is repeated in a series.\n",
      "day_table = (oldpolls['day']/7).round().value_counts()\n",
      "#`nunique` counts the number of unique values in a series.\n",
      "num_races = oldpolls['race'].nunique()\n",
      "plt.bar(day_table.index, day_table/num_races)\n",
      "plt.axhline(y=0.5, color='black', linestyle='--')\n",
      "plt.axhline(y=1, color='black', linestyle='--')\n",
      "plt.show()"
     ],
     "language": "python",
     "metadata": {},
     "outputs": [
      {
       "metadata": {},
       "output_type": "display_data",
       "png": "[encoded data removed]",
       "text": [
        "<matplotlib.figure.Figure at 0x10a894910>"
       ]
      }
     ],
     "prompt_number": 65
    },
    {
     "cell_type": "code",
     "collapsed": false,
     "input": [
      "cutoff = -60\n",
      "oldpolls = oldpolls.ix[oldpolls.day > cutoff,:]\n",
      "oldpolls['state']"
     ],
     "language": "python",
     "metadata": {},
     "outputs": [
      {
       "metadata": {},
       "output_type": "pyout",
       "prompt_number": 73,
       "text": [
        "18     AL\n",
        "19     AL\n",
        "20     AL\n",
        "21     AL\n",
        "39     AR\n",
        "42     AR\n",
        "47     AR\n",
        "48     AR\n",
        "51     AR\n",
        "52     AR\n",
        "55     AR\n",
        "114    CO\n",
        "115    CO\n",
        "117    CO\n",
        "119    CO\n",
        "...\n",
        "10358    WI\n",
        "10359    WI\n",
        "10360    WI\n",
        "10361    WI\n",
        "10362    WI\n",
        "10363    WI\n",
        "10364    WI\n",
        "10365    WI\n",
        "10366    WI\n",
        "10367    WI\n",
        "10368    WI\n",
        "10369    WI\n",
        "10370    WI\n",
        "10371    WI\n",
        "10372    WI\n",
        "Name: state, Length: 2246, dtype: object"
       ]
      }
     ],
     "prompt_number": 73
    },
    {
     "cell_type": "code",
     "collapsed": false,
     "input": [
      "plt.scatter(tmppolls['npolls'], tmppolls['mean_bias'])\n",
      "#plt.xlim(-.6,0.6)\n",
      "#plt.ylim(-.6,0.6)\n",
      "#plt.plot([0,.1], [0,.1], linewidth=1, color='black')\n",
      "\n",
      "plt.title(\"Senate Race 2002-2012 Poll Biases\")\n",
      "plt.ylabel(\"Mean Bias\")\n",
      "plt.xlabel(\"Number of Polls per Pollster\")\n",
      "plt.gca().set_aspect('equal')"
     ],
     "language": "python",
     "metadata": {},
     "outputs": [
      {
       "metadata": {},
       "output_type": "display_data",
       "png": "[encoded data removed]",
       "text": [
        "<matplotlib.figure.Figure at 0x10bc8b350>"
       ]
      }
     ],
     "prompt_number": 71
    },
    {
     "cell_type": "markdown",
     "metadata": {},
     "source": [
      "##Which polls should we keep?\n",
      "\n",
      "We might want to filter out certain unreliable polls. Explore different groupings of polls (for example, by polling company, party affiliation of the pollster, or sampled population) to see if any stick out in terms of prediction bias."
     ]
    },
    {
     "cell_type": "markdown",
     "metadata": {},
     "source": [
      "###Grouping by pollster.\n",
      "\n",
      "Boxplots give a good graphical exploration."
     ]
    },
    {
     "cell_type": "code",
     "collapsed": true,
     "input": [
      "#For this analysis, consider only polls within a week of the election.\n",
      "tmppolls = oldpolls.ix[oldpolls.day >= -7,]\n",
      "\n",
      "#Compute number of polls taken by each pollster, in a format that lets you save this\n",
      "#back to the original dataframe. Every poll corresponding to a given pollster will\n",
      "#have the same value for 'npolls' -- `transform` creates these repeats for you.\n",
      "tmppolls['npolls'] = tmppolls.groupby(\"pollster\")['pollster'].transform(len)\n",
      "#Only analyze pollsters with more than 2 polls.\n",
      "tmppolls = tmppolls.ix[tmppolls.npolls >= 2,]\n",
      "\n",
      "#Compute mean bias of each pollster. Save this back to the original dataframe.\n",
      "tmppolls['mean_bias'] = tmppolls.groupby(\"pollster\")['bias'].transform(np.mean)\n",
      "#Make boxplot grouped by and sorted by mean bias.\n",
      "tmppolls.boxplot(\"bias\", by=\"mean_bias\", rot=90)\n",
      "\n",
      "#To get the right labels on the boxplot, recompute bias, but this time in a way\n",
      "#that only returns one number per poll. `aggregate` only returns one number per\n",
      "#pollster group.\n",
      "pollster_bias = tmppolls.groupby(\"pollster\")['bias'].aggregate(np.mean)\n",
      "#Sort the pollster biases, then plot their indices to label the boxplot.\n",
      "pollster_bias.sort()\n",
      "plt.xticks(np.arange(len(pollster_bias)), pollster_bias.index, fontsize=10)\n",
      "plt.ylim((-25,25))\n",
      "plt.show()"
     ],
     "language": "python",
     "metadata": {},
     "outputs": [
      {
       "metadata": {},
       "output_type": "display_data",
       "png": "[encoded data removed]",
       "text": [
        "<matplotlib.figure.Figure at 0x10a99da10>"
       ]
      }
     ],
     "prompt_number": 36
    },
    {
     "cell_type": "markdown",
     "metadata": {},
     "source": [
      "We can also explore these biases using a linear regression to explain `bias in terms of the categorical variable `pollster`."
     ]
    },
    {
     "cell_type": "code",
     "collapsed": false,
     "input": [
      "#For this analysis, consider only polls within a week of the election.\n",
      "tmppolls = oldpolls.ix[oldpolls.day >= -14,]\n",
      "\n",
      "#Compute number of polls taken by each pollster, in a format that lets you save this\n",
      "#back to the original dataframe. Every poll corresponding to a given pollster will\n",
      "#have the same value for 'npolls' -- `transform` creates these repeats for you.\n",
      "tmppolls['npolls'] = tmppolls.groupby(\"pollster\")['pollster'].transform(len)\n",
      "#Only analyze pollsters with more than 2 polls.\n",
      "tmppolls = tmppolls.ix[tmppolls.npolls >= 4,]\n",
      "\n",
      "#Compute mean bias of each pollster. Save this back to the original dataframe.\n",
      "tmppolls['mean_bias'] = tmppolls.groupby(\"pollster\")['bias'].transform(np.mean)\n",
      "#Make boxplot grouped by and sorted by mean bias.\n",
      "tmppolls.boxplot(\"bias\", by=\"mean_bias\", rot=90)\n",
      "\n",
      "#To get the right labels on the boxplot, recompute bias, but this time in a way\n",
      "#that only returns one number per poll. `aggregate` only returns one number per\n",
      "#pollster group.\n",
      "pollster_bias = tmppolls.groupby(\"state\")['bias'].aggregate(np.mean)\n",
      "#Sort the pollster biases, then plot their indices to label the boxplot.\n",
      "pollster_bias.sort()\n",
      "plt.xticks(np.arange(len(pollster_bias)), pollster_bias.index, fontsize=10)\n",
      "plt.ylim((-25,25))\n",
      "plt.show()"
     ],
     "language": "python",
     "metadata": {},
     "outputs": [
      {
       "metadata": {},
       "output_type": "display_data",
       "png": "[encoded data removed]",
       "text": [
        "<matplotlib.figure.Figure at 0x10a89a090>"
       ]
      }
     ],
     "prompt_number": 79
    },
    {
     "cell_type": "code",
     "collapsed": false,
     "input": [
      "import statsmodels.formula.api as smf\n",
      "\n",
      "pollster_anova = smf.ols(formula=\"bias ~ pollster - 1\", data=tmppolls).fit()\n",
      "pollster_anova.summary()"
     ],
     "language": "python",
     "metadata": {},
     "outputs": [
      {
       "html": [
        "<table class=\"simpletable\">\n",
        "<caption>OLS Regression Results</caption>\n",
        "<tr>\n",
        "  <th>Dep. Variable:</th>          <td>bias</td>       <th>  R-squared:         </th> <td>   0.188</td>\n",
        "</tr>\n",
        "<tr>\n",
        "  <th>Model:</th>                   <td>OLS</td>       <th>  Adj. R-squared:    </th> <td>   0.094</td>\n",
        "</tr>\n",
        "<tr>\n",
        "  <th>Method:</th>             <td>Least Squares</td>  <th>  F-statistic:       </th> <td>   2.009</td>\n",
        "</tr>\n",
        "<tr>\n",
        "  <th>Date:</th>             <td>Sun, 02 Nov 2014</td> <th>  Prob (F-statistic):</th> <td>9.19e-05</td>\n",
        "</tr>\n",
        "<tr>\n",
        "  <th>Time:</th>                 <td>20:49:24</td>     <th>  Log-Likelihood:    </th> <td> -1539.3</td>\n",
        "</tr>\n",
        "<tr>\n",
        "  <th>No. Observations:</th>      <td>   503</td>      <th>  AIC:               </th> <td>   3183.</td>\n",
        "</tr>\n",
        "<tr>\n",
        "  <th>Df Residuals:</th>          <td>   451</td>      <th>  BIC:               </th> <td>   3402.</td>\n",
        "</tr>\n",
        "<tr>\n",
        "  <th>Df Model:</th>              <td>    52</td>      <th>                     </th>     <td> </td>   \n",
        "</tr>\n",
        "</table>\n",
        "<table class=\"simpletable\">\n",
        "<tr>\n",
        "                            <td></td>                               <th>coef</th>     <th>std err</th>      <th>t</th>      <th>P>|t|</th> <th>[95.0% Conf. Int.]</th> \n",
        "</tr>\n",
        "<tr>\n",
        "  <th>pollster[ARG]</th>                                         <td>   -4.0400</td> <td>    3.855</td> <td>   -1.048</td> <td> 0.295</td> <td>  -11.616     3.536</td>\n",
        "</tr>\n",
        "<tr>\n",
        "  <th>pollster[Angus-Reid]</th>                                  <td>    3.6800</td> <td>    2.438</td> <td>    1.509</td> <td> 0.132</td> <td>   -1.111     8.471</td>\n",
        "</tr>\n",
        "<tr>\n",
        "  <th>pollster[BlumWeprin]</th>                                  <td>    2.5167</td> <td>    3.148</td> <td>    0.800</td> <td> 0.424</td> <td>   -3.669     8.702</td>\n",
        "</tr>\n",
        "<tr>\n",
        "  <th>pollster[CNN]</th>                                         <td>    2.2875</td> <td>    2.726</td> <td>    0.839</td> <td> 0.402</td> <td>   -3.069     7.644</td>\n",
        "</tr>\n",
        "<tr>\n",
        "  <th>pollster[CNN/Time]</th>                                    <td>    2.7400</td> <td>    2.438</td> <td>    1.124</td> <td> 0.262</td> <td>   -2.051     7.531</td>\n",
        "</tr>\n",
        "<tr>\n",
        "  <th>pollster[Columbus Dispatch]</th>                           <td>   -1.1500</td> <td>    3.855</td> <td>   -0.298</td> <td> 0.766</td> <td>   -8.726     6.426</td>\n",
        "</tr>\n",
        "<tr>\n",
        "  <th>pollster[ColumbusDispatch]</th>                            <td>   -4.3450</td> <td>    3.855</td> <td>   -1.127</td> <td> 0.260</td> <td>  -11.921     3.231</td>\n",
        "</tr>\n",
        "<tr>\n",
        "  <th>pollster[Dan Jones & Associates]</th>                      <td>   -0.0500</td> <td>    3.855</td> <td>   -0.013</td> <td> 0.990</td> <td>   -7.626     7.526</td>\n",
        "</tr>\n",
        "<tr>\n",
        "  <th>pollster[EPIC]</th>                                        <td>   -0.2750</td> <td>    2.726</td> <td>   -0.101</td> <td> 0.920</td> <td>   -5.632     5.082</td>\n",
        "</tr>\n",
        "<tr>\n",
        "  <th>pollster[FOX]</th>                                         <td>    4.4500</td> <td>    2.726</td> <td>    1.633</td> <td> 0.103</td> <td>   -0.907     9.807</td>\n",
        "</tr>\n",
        "<tr>\n",
        "  <th>pollster[FairleighDickinsonUniv]</th>                      <td>   -3.4450</td> <td>    3.855</td> <td>   -0.894</td> <td> 0.372</td> <td>  -11.021     4.131</td>\n",
        "</tr>\n",
        "<tr>\n",
        "  <th>pollster[Field]</th>                                       <td>    0.5250</td> <td>    3.855</td> <td>    0.136</td> <td> 0.892</td> <td>   -7.051     8.101</td>\n",
        "</tr>\n",
        "<tr>\n",
        "  <th>pollster[Gallup]</th>                                      <td>   -0.0250</td> <td>    1.724</td> <td>   -0.015</td> <td> 0.988</td> <td>   -3.413     3.363</td>\n",
        "</tr>\n",
        "<tr>\n",
        "  <th>pollster[Ipsos/Reuters (Web)]</th>                         <td>    0.6111</td> <td>    1.285</td> <td>    0.476</td> <td> 0.635</td> <td>   -1.914     3.136</td>\n",
        "</tr>\n",
        "<tr>\n",
        "  <th>pollster[JZ Analytics/Newsmax]</th>                        <td>   -0.4444</td> <td>    1.817</td> <td>   -0.245</td> <td> 0.807</td> <td>   -4.016     3.127</td>\n",
        "</tr>\n",
        "<tr>\n",
        "  <th>pollster[Marist/McClatchy]</th>                            <td>    3.8000</td> <td>    2.726</td> <td>    1.394</td> <td> 0.164</td> <td>   -1.557     9.157</td>\n",
        "</tr>\n",
        "<tr>\n",
        "  <th>pollster[MaristCollege]</th>                               <td>    4.0933</td> <td>    3.148</td> <td>    1.300</td> <td> 0.194</td> <td>   -2.092    10.279</td>\n",
        "</tr>\n",
        "<tr>\n",
        "  <th>pollster[MarketingWorkshop]</th>                           <td>   -7.2900</td> <td>    3.855</td> <td>   -1.891</td> <td> 0.059</td> <td>  -14.866     0.286</td>\n",
        "</tr>\n",
        "<tr>\n",
        "  <th>pollster[Mason-Dixon]</th>                                 <td>    0.7250</td> <td>    2.726</td> <td>    0.266</td> <td> 0.790</td> <td>   -4.632     6.082</td>\n",
        "</tr>\n",
        "<tr>\n",
        "  <th>pollster[MasonDixon]</th>                                  <td>    4.0093</td> <td>    1.012</td> <td>    3.960</td> <td> 0.000</td> <td>    2.020     5.999</td>\n",
        "</tr>\n",
        "<tr>\n",
        "  <th>pollster[McLaughlin (R-Mourdock)]</th>                     <td>    7.2000</td> <td>    3.855</td> <td>    1.868</td> <td> 0.062</td> <td>   -0.376    14.776</td>\n",
        "</tr>\n",
        "<tr>\n",
        "  <th>pollster[MinneapolistStarTribune]</th>                     <td>   -3.0820</td> <td>    2.438</td> <td>   -1.264</td> <td> 0.207</td> <td>   -7.873     1.709</td>\n",
        "</tr>\n",
        "<tr>\n",
        "  <th>pollster[Mitchell]</th>                                    <td>    3.6100</td> <td>    3.148</td> <td>    1.147</td> <td> 0.252</td> <td>   -2.576     9.796</td>\n",
        "</tr>\n",
        "<tr>\n",
        "  <th>pollster[MonmouthUniv]</th>                                <td>    0.5550</td> <td>    3.855</td> <td>    0.144</td> <td> 0.886</td> <td>   -7.021     8.131</td>\n",
        "</tr>\n",
        "<tr>\n",
        "  <th>pollster[Muhlenberg]</th>                                  <td>    2.3333</td> <td>    2.226</td> <td>    1.048</td> <td> 0.295</td> <td>   -2.041     6.707</td>\n",
        "</tr>\n",
        "<tr>\n",
        "  <th>pollster[NBC/WSJ/Marist]</th>                              <td>    2.6667</td> <td>    3.148</td> <td>    0.847</td> <td> 0.397</td> <td>   -3.519     8.852</td>\n",
        "</tr>\n",
        "<tr>\n",
        "  <th>pollster[OnPoint]</th>                                     <td>   -1.6375</td> <td>    2.726</td> <td>   -0.601</td> <td> 0.548</td> <td>   -6.994     3.719</td>\n",
        "</tr>\n",
        "<tr>\n",
        "  <th>pollster[POS]</th>                                         <td>    5.4167</td> <td>    3.148</td> <td>    1.721</td> <td> 0.086</td> <td>   -0.769    11.602</td>\n",
        "</tr>\n",
        "<tr>\n",
        "  <th>pollster[PPP]</th>                                         <td>    1.2230</td> <td>    1.724</td> <td>    0.709</td> <td> 0.478</td> <td>   -2.165     4.611</td>\n",
        "</tr>\n",
        "<tr>\n",
        "  <th>pollster[PPP (D)]</th>                                     <td>    3.1200</td> <td>    0.995</td> <td>    3.135</td> <td> 0.002</td> <td>    1.164     5.076</td>\n",
        "</tr>\n",
        "<tr>\n",
        "  <th>pollster[Pulse Opinion Research/Let Freedom Ring (R)]</th> <td>    6.8667</td> <td>    3.148</td> <td>    2.182</td> <td> 0.030</td> <td>    0.681    13.052</td>\n",
        "</tr>\n",
        "<tr>\n",
        "  <th>pollster[Quinnipiac]</th>                                  <td>   -0.1333</td> <td>    3.148</td> <td>   -0.042</td> <td> 0.966</td> <td>   -6.319     6.052</td>\n",
        "</tr>\n",
        "<tr>\n",
        "  <th>pollster[QuinnipiacUniv]</th>                              <td>    1.7900</td> <td>    3.148</td> <td>    0.569</td> <td> 0.570</td> <td>   -4.396     7.976</td>\n",
        "</tr>\n",
        "<tr>\n",
        "  <th>pollster[Rasmussen]</th>                                   <td>    1.9411</td> <td>    0.909</td> <td>    2.136</td> <td> 0.033</td> <td>    0.155     3.727</td>\n",
        "</tr>\n",
        "<tr>\n",
        "  <th>pollster[Research2000]</th>                                <td>   -3.0276</td> <td>    1.190</td> <td>   -2.545</td> <td> 0.011</td> <td>   -5.366    -0.690</td>\n",
        "</tr>\n",
        "<tr>\n",
        "  <th>pollster[RutgersUniv]</th>                                 <td>    1.4800</td> <td>    3.855</td> <td>    0.384</td> <td> 0.701</td> <td>   -6.096     9.056</td>\n",
        "</tr>\n",
        "<tr>\n",
        "  <th>pollster[ScrippsDataCenter]</th>                           <td>    1.1700</td> <td>    3.855</td> <td>    0.304</td> <td> 0.762</td> <td>   -6.406     8.746</td>\n",
        "</tr>\n",
        "<tr>\n",
        "  <th>pollster[Selzer]</th>                                      <td>    1.3150</td> <td>    2.726</td> <td>    0.482</td> <td> 0.630</td> <td>   -4.042     6.672</td>\n",
        "</tr>\n",
        "<tr>\n",
        "  <th>pollster[Siena]</th>                                       <td>    3.3000</td> <td>    3.855</td> <td>    0.856</td> <td> 0.392</td> <td>   -4.276    10.876</td>\n",
        "</tr>\n",
        "<tr>\n",
        "  <th>pollster[StrategicVision]</th>                             <td>    3.0444</td> <td>    1.817</td> <td>    1.675</td> <td> 0.095</td> <td>   -0.527     6.616</td>\n",
        "</tr>\n",
        "<tr>\n",
        "  <th>pollster[SurveyUSA]</th>                                   <td>    0.9203</td> <td>    0.896</td> <td>    1.027</td> <td> 0.305</td> <td>   -0.841     2.682</td>\n",
        "</tr>\n",
        "<tr>\n",
        "  <th>pollster[Susquehanna]</th>                                 <td>    0.4000</td> <td>    3.148</td> <td>    0.127</td> <td> 0.899</td> <td>   -5.786     6.586</td>\n",
        "</tr>\n",
        "<tr>\n",
        "  <th>pollster[TalmeyDrake]</th>                                 <td>   -7.9300</td> <td>    3.855</td> <td>   -2.057</td> <td> 0.040</td> <td>  -15.506    -0.354</td>\n",
        "</tr>\n",
        "<tr>\n",
        "  <th>pollster[Tarrance]</th>                                    <td>    2.8050</td> <td>    3.855</td> <td>    0.728</td> <td> 0.467</td> <td>   -4.771    10.381</td>\n",
        "</tr>\n",
        "<tr>\n",
        "  <th>pollster[The Ohio Poll/University of Cincinnati]</th>      <td>    1.5000</td> <td>    3.855</td> <td>    0.389</td> <td> 0.697</td> <td>   -6.076     9.076</td>\n",
        "</tr>\n",
        "<tr>\n",
        "  <th>pollster[UNH]</th>                                         <td>   -3.1320</td> <td>    2.438</td> <td>   -1.285</td> <td> 0.200</td> <td>   -7.923     1.659</td>\n",
        "</tr>\n",
        "<tr>\n",
        "  <th>pollster[UnivCincinnati]</th>                              <td>    2.6550</td> <td>    3.855</td> <td>    0.689</td> <td> 0.491</td> <td>   -4.921    10.231</td>\n",
        "</tr>\n",
        "<tr>\n",
        "  <th>pollster[We Ask America]</th>                              <td>    4.4000</td> <td>    2.726</td> <td>    1.614</td> <td> 0.107</td> <td>   -0.957     9.757</td>\n",
        "</tr>\n",
        "<tr>\n",
        "  <th>pollster[Wenzel Strategies (R-Citizens United)]</th>       <td>    9.2500</td> <td>    3.855</td> <td>    2.400</td> <td> 0.017</td> <td>    1.674    16.826</td>\n",
        "</tr>\n",
        "<tr>\n",
        "  <th>pollster[YouGov]</th>                                      <td>    1.8127</td> <td>    0.598</td> <td>    3.029</td> <td> 0.003</td> <td>    0.637     2.989</td>\n",
        "</tr>\n",
        "<tr>\n",
        "  <th>pollster[YouGov/Polimetrix]</th>                           <td>    0.3000</td> <td>    1.927</td> <td>    0.156</td> <td> 0.876</td> <td>   -3.488     4.088</td>\n",
        "</tr>\n",
        "<tr>\n",
        "  <th>pollster[Zogby]</th>                                       <td>    0.9743</td> <td>    0.595</td> <td>    1.638</td> <td> 0.102</td> <td>   -0.195     2.143</td>\n",
        "</tr>\n",
        "</table>\n",
        "<table class=\"simpletable\">\n",
        "<tr>\n",
        "  <th>Omnibus:</th>       <td>29.210</td> <th>  Durbin-Watson:     </th> <td>   1.448</td>\n",
        "</tr>\n",
        "<tr>\n",
        "  <th>Prob(Omnibus):</th> <td> 0.000</td> <th>  Jarque-Bera (JB):  </th> <td>  96.760</td>\n",
        "</tr>\n",
        "<tr>\n",
        "  <th>Skew:</th>          <td> 0.062</td> <th>  Prob(JB):          </th> <td>9.75e-22</td>\n",
        "</tr>\n",
        "<tr>\n",
        "  <th>Kurtosis:</th>      <td> 5.145</td> <th>  Cond. No.          </th> <td>    6.48</td>\n",
        "</tr>\n",
        "</table>"
       ],
       "metadata": {},
       "output_type": "pyout",
       "prompt_number": 38,
       "text": [
        "<class 'statsmodels.iolib.summary.Summary'>\n",
        "\"\"\"\n",
        "                            OLS Regression Results                            \n",
        "==============================================================================\n",
        "Dep. Variable:                   bias   R-squared:                       0.188\n",
        "Model:                            OLS   Adj. R-squared:                  0.094\n",
        "Method:                 Least Squares   F-statistic:                     2.009\n",
        "Date:                Sun, 02 Nov 2014   Prob (F-statistic):           9.19e-05\n",
        "Time:                        20:49:24   Log-Likelihood:                -1539.3\n",
        "No. Observations:                 503   AIC:                             3183.\n",
        "Df Residuals:                     451   BIC:                             3402.\n",
        "Df Model:                          52                                         \n",
        "=========================================================================================================================\n",
        "                                                            coef    std err          t      P>|t|      [95.0% Conf. Int.]\n",
        "-------------------------------------------------------------------------------------------------------------------------\n",
        "pollster[ARG]                                            -4.0400      3.855     -1.048      0.295       -11.616     3.536\n",
        "pollster[Angus-Reid]                                      3.6800      2.438      1.509      0.132        -1.111     8.471\n",
        "pollster[BlumWeprin]                                      2.5167      3.148      0.800      0.424        -3.669     8.702\n",
        "pollster[CNN]                                             2.2875      2.726      0.839      0.402        -3.069     7.644\n",
        "pollster[CNN/Time]                                        2.7400      2.438      1.124      0.262        -2.051     7.531\n",
        "pollster[Columbus Dispatch]                              -1.1500      3.855     -0.298      0.766        -8.726     6.426\n",
        "pollster[ColumbusDispatch]                               -4.3450      3.855     -1.127      0.260       -11.921     3.231\n",
        "pollster[Dan Jones & Associates]                         -0.0500      3.855     -0.013      0.990        -7.626     7.526\n",
        "pollster[EPIC]                                           -0.2750      2.726     -0.101      0.920        -5.632     5.082\n",
        "pollster[FOX]                                             4.4500      2.726      1.633      0.103        -0.907     9.807\n",
        "pollster[FairleighDickinsonUniv]                         -3.4450      3.855     -0.894      0.372       -11.021     4.131\n",
        "pollster[Field]                                           0.5250      3.855      0.136      0.892        -7.051     8.101\n",
        "pollster[Gallup]                                         -0.0250      1.724     -0.015      0.988        -3.413     3.363\n",
        "pollster[Ipsos/Reuters (Web)]                             0.6111      1.285      0.476      0.635        -1.914     3.136\n",
        "pollster[JZ Analytics/Newsmax]                           -0.4444      1.817     -0.245      0.807        -4.016     3.127\n",
        "pollster[Marist/McClatchy]                                3.8000      2.726      1.394      0.164        -1.557     9.157\n",
        "pollster[MaristCollege]                                   4.0933      3.148      1.300      0.194        -2.092    10.279\n",
        "pollster[MarketingWorkshop]                              -7.2900      3.855     -1.891      0.059       -14.866     0.286\n",
        "pollster[Mason-Dixon]                                     0.7250      2.726      0.266      0.790        -4.632     6.082\n",
        "pollster[MasonDixon]                                      4.0093      1.012      3.960      0.000         2.020     5.999\n",
        "pollster[McLaughlin (R-Mourdock)]                         7.2000      3.855      1.868      0.062        -0.376    14.776\n",
        "pollster[MinneapolistStarTribune]                        -3.0820      2.438     -1.264      0.207        -7.873     1.709\n",
        "pollster[Mitchell]                                        3.6100      3.148      1.147      0.252        -2.576     9.796\n",
        "pollster[MonmouthUniv]                                    0.5550      3.855      0.144      0.886        -7.021     8.131\n",
        "pollster[Muhlenberg]                                      2.3333      2.226      1.048      0.295        -2.041     6.707\n",
        "pollster[NBC/WSJ/Marist]                                  2.6667      3.148      0.847      0.397        -3.519     8.852\n",
        "pollster[OnPoint]                                        -1.6375      2.726     -0.601      0.548        -6.994     3.719\n",
        "pollster[POS]                                             5.4167      3.148      1.721      0.086        -0.769    11.602\n",
        "pollster[PPP]                                             1.2230      1.724      0.709      0.478        -2.165     4.611\n",
        "pollster[PPP (D)]                                         3.1200      0.995      3.135      0.002         1.164     5.076\n",
        "pollster[Pulse Opinion Research/Let Freedom Ring (R)]     6.8667      3.148      2.182      0.030         0.681    13.052\n",
        "pollster[Quinnipiac]                                     -0.1333      3.148     -0.042      0.966        -6.319     6.052\n",
        "pollster[QuinnipiacUniv]                                  1.7900      3.148      0.569      0.570        -4.396     7.976\n",
        "pollster[Rasmussen]                                       1.9411      0.909      2.136      0.033         0.155     3.727\n",
        "pollster[Research2000]                                   -3.0276      1.190     -2.545      0.011        -5.366    -0.690\n",
        "pollster[RutgersUniv]                                     1.4800      3.855      0.384      0.701        -6.096     9.056\n",
        "pollster[ScrippsDataCenter]                               1.1700      3.855      0.304      0.762        -6.406     8.746\n",
        "pollster[Selzer]                                          1.3150      2.726      0.482      0.630        -4.042     6.672\n",
        "pollster[Siena]                                           3.3000      3.855      0.856      0.392        -4.276    10.876\n",
        "pollster[StrategicVision]                                 3.0444      1.817      1.675      0.095        -0.527     6.616\n",
        "pollster[SurveyUSA]                                       0.9203      0.896      1.027      0.305        -0.841     2.682\n",
        "pollster[Susquehanna]                                     0.4000      3.148      0.127      0.899        -5.786     6.586\n",
        "pollster[TalmeyDrake]                                    -7.9300      3.855     -2.057      0.040       -15.506    -0.354\n",
        "pollster[Tarrance]                                        2.8050      3.855      0.728      0.467        -4.771    10.381\n",
        "pollster[The Ohio Poll/University of Cincinnati]          1.5000      3.855      0.389      0.697        -6.076     9.076\n",
        "pollster[UNH]                                            -3.1320      2.438     -1.285      0.200        -7.923     1.659\n",
        "pollster[UnivCincinnati]                                  2.6550      3.855      0.689      0.491        -4.921    10.231\n",
        "pollster[We Ask America]                                  4.4000      2.726      1.614      0.107        -0.957     9.757\n",
        "pollster[Wenzel Strategies (R-Citizens United)]           9.2500      3.855      2.400      0.017         1.674    16.826\n",
        "pollster[YouGov]                                          1.8127      0.598      3.029      0.003         0.637     2.989\n",
        "pollster[YouGov/Polimetrix]                               0.3000      1.927      0.156      0.876        -3.488     4.088\n",
        "pollster[Zogby]                                           0.9743      0.595      1.638      0.102        -0.195     2.143\n",
        "==============================================================================\n",
        "Omnibus:                       29.210   Durbin-Watson:                   1.448\n",
        "Prob(Omnibus):                  0.000   Jarque-Bera (JB):               96.760\n",
        "Skew:                           0.062   Prob(JB):                     9.75e-22\n",
        "Kurtosis:                       5.145   Cond. No.                         6.48\n",
        "==============================================================================\n",
        "\"\"\""
       ]
      }
     ],
     "prompt_number": 38
    },
    {
     "cell_type": "markdown",
     "metadata": {},
     "source": [
      "###Group by Party Affiliation"
     ]
    },
    {
     "cell_type": "code",
     "collapsed": false,
     "input": [
      "tmppolls.boxplot(\"bias\", by=\"party\")\n",
      "plt.show()"
     ],
     "language": "python",
     "metadata": {},
     "outputs": [
      {
       "metadata": {},
       "output_type": "display_data",
       "png": "[encoded data removed]",
       "text": [
        "<matplotlib.figure.Figure at 0x10ac1a810>"
       ]
      }
     ],
     "prompt_number": 40
    },
    {
     "cell_type": "code",
     "collapsed": false,
     "input": [
      "party_anova = smf.ols(formula=\"bias ~ party - 1\", data=tmppolls).fit()\n",
      "party_anova.summary()\n",
      "tmppolls.boxplot(\"bias\", by=\"pop\")\n",
      "plt.show()"
     ],
     "language": "python",
     "metadata": {},
     "outputs": [
      {
       "metadata": {},
       "output_type": "display_data",
       "png": "[encoded data removed]",
       "text": [
        "<matplotlib.figure.Figure at 0x10a892d10>"
       ]
      }
     ],
     "prompt_number": 41
    },
    {
     "cell_type": "markdown",
     "metadata": {},
     "source": [
      "###Group by sampled population"
     ]
    },
    {
     "cell_type": "code",
     "collapsed": false,
     "input": [
      "tmppolls.boxplot(\"bias\", by=\"pop\")\n",
      "plt.show()"
     ],
     "language": "python",
     "metadata": {},
     "outputs": [
      {
       "metadata": {},
       "output_type": "display_data",
       "png": "[encoded data removed]",
       "text": [
        "<matplotlib.figure.Figure at 0x10a783050>"
       ]
      }
     ],
     "prompt_number": 42
    },
    {
     "cell_type": "code",
     "collapsed": false,
     "input": [
      "pop_anova = smf.ols(formula=\"bias ~ pop - 1\", data=tmppolls).fit()\n",
      "pop_anova.summary()"
     ],
     "language": "python",
     "metadata": {},
     "outputs": [
      {
       "html": [
        "<table class=\"simpletable\">\n",
        "<caption>OLS Regression Results</caption>\n",
        "<tr>\n",
        "  <th>Dep. Variable:</th>          <td>bias</td>       <th>  R-squared:         </th> <td>   0.059</td>\n",
        "</tr>\n",
        "<tr>\n",
        "  <th>Model:</th>                   <td>OLS</td>       <th>  Adj. R-squared:    </th> <td>   0.053</td>\n",
        "</tr>\n",
        "<tr>\n",
        "  <th>Method:</th>             <td>Least Squares</td>  <th>  F-statistic:       </th> <td>   10.44</td>\n",
        "</tr>\n",
        "<tr>\n",
        "  <th>Date:</th>             <td>Sun, 02 Nov 2014</td> <th>  Prob (F-statistic):</th> <td>1.13e-06</td>\n",
        "</tr>\n",
        "<tr>\n",
        "  <th>Time:</th>                 <td>20:49:38</td>     <th>  Log-Likelihood:    </th> <td> -1573.5</td>\n",
        "</tr>\n",
        "<tr>\n",
        "  <th>No. Observations:</th>      <td>   502</td>      <th>  AIC:               </th> <td>   3153.</td>\n",
        "</tr>\n",
        "<tr>\n",
        "  <th>Df Residuals:</th>          <td>   499</td>      <th>  BIC:               </th> <td>   3166.</td>\n",
        "</tr>\n",
        "<tr>\n",
        "  <th>Df Model:</th>              <td>     3</td>      <th>                     </th>     <td> </td>   \n",
        "</tr>\n",
        "</table>\n",
        "<table class=\"simpletable\">\n",
        "<tr>\n",
        "             <td></td>                <th>coef</th>     <th>std err</th>      <th>t</th>      <th>P>|t|</th> <th>[95.0% Conf. Int.]</th> \n",
        "</tr>\n",
        "<tr>\n",
        "  <th>pop[General.Population]</th> <td>    5.3100</td> <td>    5.577</td> <td>    0.952</td> <td> 0.341</td> <td>   -5.647    16.267</td>\n",
        "</tr>\n",
        "<tr>\n",
        "  <th>pop[Likely.Voters]</th>      <td>    1.3089</td> <td>    0.262</td> <td>    4.990</td> <td> 0.000</td> <td>    0.794     1.824</td>\n",
        "</tr>\n",
        "<tr>\n",
        "  <th>pop[Registered.Voters]</th>  <td>    1.8731</td> <td>    0.797</td> <td>    2.351</td> <td> 0.019</td> <td>    0.308     3.438</td>\n",
        "</tr>\n",
        "</table>\n",
        "<table class=\"simpletable\">\n",
        "<tr>\n",
        "  <th>Omnibus:</th>       <td>35.247</td> <th>  Durbin-Watson:     </th> <td>   1.416</td>\n",
        "</tr>\n",
        "<tr>\n",
        "  <th>Prob(Omnibus):</th> <td> 0.000</td> <th>  Jarque-Bera (JB):  </th> <td> 122.184</td>\n",
        "</tr>\n",
        "<tr>\n",
        "  <th>Skew:</th>          <td>-0.187</td> <th>  Prob(JB):          </th> <td>2.94e-27</td>\n",
        "</tr>\n",
        "<tr>\n",
        "  <th>Kurtosis:</th>      <td> 5.388</td> <th>  Cond. No.          </th> <td>    21.3</td>\n",
        "</tr>\n",
        "</table>"
       ],
       "metadata": {},
       "output_type": "pyout",
       "prompt_number": 43,
       "text": [
        "<class 'statsmodels.iolib.summary.Summary'>\n",
        "\"\"\"\n",
        "                            OLS Regression Results                            \n",
        "==============================================================================\n",
        "Dep. Variable:                   bias   R-squared:                       0.059\n",
        "Model:                            OLS   Adj. R-squared:                  0.053\n",
        "Method:                 Least Squares   F-statistic:                     10.44\n",
        "Date:                Sun, 02 Nov 2014   Prob (F-statistic):           1.13e-06\n",
        "Time:                        20:49:38   Log-Likelihood:                -1573.5\n",
        "No. Observations:                 502   AIC:                             3153.\n",
        "Df Residuals:                     499   BIC:                             3166.\n",
        "Df Model:                           3                                         \n",
        "===========================================================================================\n",
        "                              coef    std err          t      P>|t|      [95.0% Conf. Int.]\n",
        "-------------------------------------------------------------------------------------------\n",
        "pop[General.Population]     5.3100      5.577      0.952      0.341        -5.647    16.267\n",
        "pop[Likely.Voters]          1.3089      0.262      4.990      0.000         0.794     1.824\n",
        "pop[Registered.Voters]      1.8731      0.797      2.351      0.019         0.308     3.438\n",
        "==============================================================================\n",
        "Omnibus:                       35.247   Durbin-Watson:                   1.416\n",
        "Prob(Omnibus):                  0.000   Jarque-Bera (JB):              122.184\n",
        "Skew:                          -0.187   Prob(JB):                     2.94e-27\n",
        "Kurtosis:                       5.388   Cond. No.                         21.3\n",
        "==============================================================================\n",
        "\"\"\""
       ]
      }
     ],
     "prompt_number": 43
    },
    {
     "cell_type": "markdown",
     "metadata": {},
     "source": [
      "Subset down to likely voters."
     ]
    },
    {
     "cell_type": "code",
     "collapsed": false,
     "input": [
      "oldpolls = oldpolls.ix[(~oldpolls['pop'].isnull()) & (oldpolls['pop'].str.contains(\"Likely\")),:]"
     ],
     "language": "python",
     "metadata": {},
     "outputs": [],
     "prompt_number": 44
    },
    {
     "cell_type": "code",
     "collapsed": false,
     "input": [
      "party_anova = smf.ols(formula=\"bias ~ party - 1\", data=tmppolls).fit()\n",
      "party_anova.summary()\n",
      "tmppolls.boxplot(\"bias\", by=\"pop\")\n",
      "plt.show()"
     ],
     "language": "python",
     "metadata": {},
     "outputs": [
      {
       "metadata": {},
       "output_type": "display_data",
       "png": "[encoded data removed]",
       "text": [
        "<matplotlib.figure.Figure at 0x10a8928d0>"
       ]
      }
     ],
     "prompt_number": 46
    },
    {
     "cell_type": "markdown",
     "metadata": {},
     "source": [
      "##A (Not Great) Predictive Model\n",
      "\n",
      "The following code implements a prediction strategy that takes all of the polls for given races and generates a point prediction and predicted standard error. The model itself is fairly basic and does not take into account any of the poll aggregation concerns covered in lab. Hint: Set the `plotme` variable to `True` if you'd like to see the model fit for each race."
     ]
    },
    {
     "cell_type": "code",
     "collapsed": false,
     "input": [
      "import patsy\n",
      "import statsmodels.api as sm\n",
      "from statsmodels.sandbox.regression.predstd import wls_prediction_std\n",
      "\n",
      "#Cutoff for number of polls to perform \"complex\" prediction\n",
      "#If fewer than minN polls, just average all polls together\n",
      "#If more, use a spline fit to try to detect a trend.\n",
      "minN = 15\n",
      "#Plot the poll history, model fit, and error bar for each race, or not.\n",
      "plotme= False\n",
      "results = []\n",
      "\n",
      "#Group the polls by race.\n",
      "oldpolls_groups = oldpolls.groupby(\"race\")\n",
      "\n",
      "#Step through, group by group. For each loop iteration:\n",
      "#race is assigned the name of the current group's race\n",
      "#oldpolls_small is assigned the dataframe corresponding to that group.\n",
      "for race, oldpolls_small in oldpolls_groups:\n",
      "    #Check whether to do the simple or spline fit\n",
      "    do_spline = oldpolls_small.shape[0] > minN\n",
      "   \n",
      "    #Simple fit first\n",
      "    if not do_spline:\n",
      "        data = oldpolls_small['diff']\n",
      "        #Estimate is mean of all polls.\n",
      "        #Note that this ignores sample sizes, pollster quality, etc.\n",
      "        pred = np.mean(data)\n",
      "        #Standard error is the standard deviation of the sample mean\n",
      "        pred_se = np.sqrt(np.var(data)*(1/float(oldpolls_small.shape[0])))\n",
      "    \n",
      "    #More complex fit does a spline regression\n",
      "    #Despite being \"fancier\", this approach also ignores samples sizes, pollster quality, etc.\n",
      "    else:\n",
      "        #Build a bunch of smooth functions of time. Throw these into a regression.\n",
      "        spline_mat = patsy.dmatrix(\"cr(day-1, df=4)\", data=oldpolls_small)\n",
      "        pollfit = sm.OLS(oldpolls_small['diff'], spline_mat).fit()\n",
      "\n",
      "        #Use the same function generator to create a representation of election day.\n",
      "        #We will throw this into the regression model to get an estimate for election day.\n",
      "        predmat = patsy.build_design_matrices([spline_mat.design_info.builder],\n",
      "                                        pd.DataFrame({'day': [0]}))[0]\n",
      "\n",
      "        #Get the prediction\n",
      "        pred = pollfit.predict(predmat)[0]\n",
      "        #Predicted standard error formula for regressions, when you expect the future datapoint to have\n",
      "        #no sampling noise.\n",
      "        pred_se =  np.sqrt(np.dot(predmat, np.dot(pollfit.cov_params(), predmat.T)).diagonal())[0]\n",
      "    \n",
      "    #Compare to the true result\n",
      "    result = oldpolls_small['reald'].iloc[0]\n",
      "    \n",
      "    #Construct a 99% predictive interval. Check whether it contains the true result.\n",
      "    pred_interval = pred+pred_se*np.array([-2.54, 2.54])\n",
      "    covers = result > pred_interval[0] and result < pred_interval[1]\n",
      "\n",
      "    #Optional plotting functionality\n",
      "    if plotme:\n",
      "        #Plot the polling data.\n",
      "        plt.scatter(oldpolls_small['day'], oldpolls_small['diff'])\n",
      "        #Draw a line representing the outcome.\n",
      "        plt.axhline(result, color='black', linestyle='--')\n",
      "        \n",
      "        #Draw the model fit.\n",
      "        if do_spline:\n",
      "            order = np.array(oldpolls_small['day'].values.argsort())\n",
      "            plt.plot(oldpolls_small['day'].values[order], np.array(pollfit.predict())[order], color='orange')\n",
      "        else:\n",
      "            plt.plot([oldpolls['day'].min(), oldpolls['day'].max()], [pred, pred], color='orange')\n",
      "        \n",
      "        #Plot the model prediction\n",
      "        plt.scatter(0, pred)\n",
      "        #Draw the 99% confidence interval\n",
      "        plt.plot([0,0], pred_interval)\n",
      "        plt.title(race)\n",
      "        plt.show()\n",
      "    \n",
      "    #Save all of the results of the computation.\n",
      "    results.append((race, oldpolls_small['year'].iloc[0], pred, pred_se, covers, result, do_spline))\n",
      "    \n",
      "#Turn results into a dataframe for further analysis.\n",
      "results_df = pd.DataFrame(results, columns=[\"Race\", \"Year\", \"Pred\", \"PredSE\", \"Covers99\", \"Result\", \"Spline\"])\n",
      "results_df.ix[results_df['PredSE']<0.001, 'PredSE'] = np.median(results_df['PredSE'])"
     ],
     "language": "python",
     "metadata": {},
     "outputs": [
      {
       "ename": "NameError",
       "evalue": "name 'cr' is not defined",
       "output_type": "pyerr",
       "traceback": [
        "\u001b[0;31m---------------------------------------------------------------------------\u001b[0m\n\u001b[0;31mNameError\u001b[0m                                 Traceback (most recent call last)",
        "\u001b[0;32m<ipython-input-47-afd388324001>\u001b[0m in \u001b[0;36m<module>\u001b[0;34m()\u001b[0m\n\u001b[1;32m     34\u001b[0m     \u001b[0;32melse\u001b[0m\u001b[0;34m:\u001b[0m\u001b[0;34m\u001b[0m\u001b[0m\n\u001b[1;32m     35\u001b[0m         \u001b[0;31m#Build a bunch of smooth functions of time. Throw these into a regression.\u001b[0m\u001b[0;34m\u001b[0m\u001b[0;34m\u001b[0m\u001b[0m\n\u001b[0;32m---> 36\u001b[0;31m         \u001b[0mspline_mat\u001b[0m \u001b[0;34m=\u001b[0m \u001b[0mpatsy\u001b[0m\u001b[0;34m.\u001b[0m\u001b[0mdmatrix\u001b[0m\u001b[0;34m(\u001b[0m\u001b[0;34m\"cr(day-1, df=4)\"\u001b[0m\u001b[0;34m,\u001b[0m \u001b[0mdata\u001b[0m\u001b[0;34m=\u001b[0m\u001b[0moldpolls_small\u001b[0m\u001b[0;34m)\u001b[0m\u001b[0;34m\u001b[0m\u001b[0m\n\u001b[0m\u001b[1;32m     37\u001b[0m         \u001b[0mpollfit\u001b[0m \u001b[0;34m=\u001b[0m \u001b[0msm\u001b[0m\u001b[0;34m.\u001b[0m\u001b[0mOLS\u001b[0m\u001b[0;34m(\u001b[0m\u001b[0moldpolls_small\u001b[0m\u001b[0;34m[\u001b[0m\u001b[0;34m'diff'\u001b[0m\u001b[0;34m]\u001b[0m\u001b[0;34m,\u001b[0m \u001b[0mspline_mat\u001b[0m\u001b[0;34m)\u001b[0m\u001b[0;34m.\u001b[0m\u001b[0mfit\u001b[0m\u001b[0;34m(\u001b[0m\u001b[0;34m)\u001b[0m\u001b[0;34m\u001b[0m\u001b[0m\n\u001b[1;32m     38\u001b[0m \u001b[0;34m\u001b[0m\u001b[0m\n",
        "\u001b[0;32m/Users/philtinn/anaconda/lib/python2.7/site-packages/patsy/highlevel.pyc\u001b[0m in \u001b[0;36mdmatrix\u001b[0;34m(formula_like, data, eval_env, NA_action, return_type)\u001b[0m\n\u001b[1;32m    276\u001b[0m     \u001b[0meval_env\u001b[0m \u001b[0;34m=\u001b[0m \u001b[0mEvalEnvironment\u001b[0m\u001b[0;34m.\u001b[0m\u001b[0mcapture\u001b[0m\u001b[0;34m(\u001b[0m\u001b[0meval_env\u001b[0m\u001b[0;34m,\u001b[0m \u001b[0mreference\u001b[0m\u001b[0;34m=\u001b[0m\u001b[0;36m1\u001b[0m\u001b[0;34m)\u001b[0m\u001b[0;34m\u001b[0m\u001b[0m\n\u001b[1;32m    277\u001b[0m     (lhs, rhs) = _do_highlevel_design(formula_like, data, eval_env,\n\u001b[0;32m--> 278\u001b[0;31m                                       NA_action, return_type)\n\u001b[0m\u001b[1;32m    279\u001b[0m     \u001b[0;32mif\u001b[0m \u001b[0mlhs\u001b[0m\u001b[0;34m.\u001b[0m\u001b[0mshape\u001b[0m\u001b[0;34m[\u001b[0m\u001b[0;36m1\u001b[0m\u001b[0;34m]\u001b[0m \u001b[0;34m!=\u001b[0m \u001b[0;36m0\u001b[0m\u001b[0;34m:\u001b[0m\u001b[0;34m\u001b[0m\u001b[0m\n\u001b[1;32m    280\u001b[0m         raise PatsyError(\"encountered outcome variables for a model \"\n",
        "\u001b[0;32m/Users/philtinn/anaconda/lib/python2.7/site-packages/patsy/highlevel.pyc\u001b[0m in \u001b[0;36m_do_highlevel_design\u001b[0;34m(formula_like, data, eval_env, NA_action, return_type)\u001b[0m\n\u001b[1;32m    150\u001b[0m         \u001b[0;32mreturn\u001b[0m \u001b[0miter\u001b[0m\u001b[0;34m(\u001b[0m\u001b[0;34m[\u001b[0m\u001b[0mdata\u001b[0m\u001b[0;34m]\u001b[0m\u001b[0;34m)\u001b[0m\u001b[0;34m\u001b[0m\u001b[0m\n\u001b[1;32m    151\u001b[0m     builders = _try_incr_builders(formula_like, data_iter_maker, eval_env,\n\u001b[0;32m--> 152\u001b[0;31m                                   NA_action)\n\u001b[0m\u001b[1;32m    153\u001b[0m     \u001b[0;32mif\u001b[0m \u001b[0mbuilders\u001b[0m \u001b[0;32mis\u001b[0m \u001b[0;32mnot\u001b[0m \u001b[0mNone\u001b[0m\u001b[0;34m:\u001b[0m\u001b[0;34m\u001b[0m\u001b[0m\n\u001b[1;32m    154\u001b[0m         return build_design_matrices(builders, data,\n",
        "\u001b[0;32m/Users/philtinn/anaconda/lib/python2.7/site-packages/patsy/highlevel.pyc\u001b[0m in \u001b[0;36m_try_incr_builders\u001b[0;34m(formula_like, data_iter_maker, eval_env, NA_action)\u001b[0m\n\u001b[1;32m     55\u001b[0m                                        formula_like.rhs_termlist],\n\u001b[1;32m     56\u001b[0m                                       \u001b[0mdata_iter_maker\u001b[0m\u001b[0;34m,\u001b[0m\u001b[0;34m\u001b[0m\u001b[0m\n\u001b[0;32m---> 57\u001b[0;31m                                       NA_action)\n\u001b[0m\u001b[1;32m     58\u001b[0m     \u001b[0;32melse\u001b[0m\u001b[0;34m:\u001b[0m\u001b[0;34m\u001b[0m\u001b[0m\n\u001b[1;32m     59\u001b[0m         \u001b[0;32mreturn\u001b[0m \u001b[0mNone\u001b[0m\u001b[0;34m\u001b[0m\u001b[0m\n",
        "\u001b[0;32m/Users/philtinn/anaconda/lib/python2.7/site-packages/patsy/build.pyc\u001b[0m in \u001b[0;36mdesign_matrix_builders\u001b[0;34m(termlists, data_iter_maker, NA_action)\u001b[0m\n\u001b[1;32m    655\u001b[0m                                                    \u001b[0mfactor_states\u001b[0m\u001b[0;34m,\u001b[0m\u001b[0;34m\u001b[0m\u001b[0m\n\u001b[1;32m    656\u001b[0m                                                    \u001b[0mdata_iter_maker\u001b[0m\u001b[0;34m,\u001b[0m\u001b[0;34m\u001b[0m\u001b[0m\n\u001b[0;32m--> 657\u001b[0;31m                                                    NA_action)\n\u001b[0m\u001b[1;32m    658\u001b[0m     \u001b[0;31m# Now we need the factor evaluators, which encapsulate the knowledge of\u001b[0m\u001b[0;34m\u001b[0m\u001b[0;34m\u001b[0m\u001b[0m\n\u001b[1;32m    659\u001b[0m     \u001b[0;31m# how to turn any given factor into a chunk of data:\u001b[0m\u001b[0;34m\u001b[0m\u001b[0;34m\u001b[0m\u001b[0m\n",
        "\u001b[0;32m/Users/philtinn/anaconda/lib/python2.7/site-packages/patsy/build.pyc\u001b[0m in \u001b[0;36m_examine_factor_types\u001b[0;34m(factors, factor_states, data_iter_maker, NA_action)\u001b[0m\n\u001b[1;32m    419\u001b[0m     \u001b[0;32mfor\u001b[0m \u001b[0mdata\u001b[0m \u001b[0;32min\u001b[0m \u001b[0mdata_iter_maker\u001b[0m\u001b[0;34m(\u001b[0m\u001b[0;34m)\u001b[0m\u001b[0;34m:\u001b[0m\u001b[0;34m\u001b[0m\u001b[0m\n\u001b[1;32m    420\u001b[0m         \u001b[0;32mfor\u001b[0m \u001b[0mfactor\u001b[0m \u001b[0;32min\u001b[0m \u001b[0mlist\u001b[0m\u001b[0;34m(\u001b[0m\u001b[0mexamine_needed\u001b[0m\u001b[0;34m)\u001b[0m\u001b[0;34m:\u001b[0m\u001b[0;34m\u001b[0m\u001b[0m\n\u001b[0;32m--> 421\u001b[0;31m             \u001b[0mvalue\u001b[0m \u001b[0;34m=\u001b[0m \u001b[0mfactor\u001b[0m\u001b[0;34m.\u001b[0m\u001b[0meval\u001b[0m\u001b[0;34m(\u001b[0m\u001b[0mfactor_states\u001b[0m\u001b[0;34m[\u001b[0m\u001b[0mfactor\u001b[0m\u001b[0;34m]\u001b[0m\u001b[0;34m,\u001b[0m \u001b[0mdata\u001b[0m\u001b[0;34m)\u001b[0m\u001b[0;34m\u001b[0m\u001b[0m\n\u001b[0m\u001b[1;32m    422\u001b[0m             \u001b[0;32mif\u001b[0m \u001b[0mfactor\u001b[0m \u001b[0;32min\u001b[0m \u001b[0mcat_sniffers\u001b[0m \u001b[0;32mor\u001b[0m \u001b[0mguess_categorical\u001b[0m\u001b[0;34m(\u001b[0m\u001b[0mvalue\u001b[0m\u001b[0;34m)\u001b[0m\u001b[0;34m:\u001b[0m\u001b[0;34m\u001b[0m\u001b[0m\n\u001b[1;32m    423\u001b[0m                 \u001b[0;32mif\u001b[0m \u001b[0mfactor\u001b[0m \u001b[0;32mnot\u001b[0m \u001b[0;32min\u001b[0m \u001b[0mcat_sniffers\u001b[0m\u001b[0;34m:\u001b[0m\u001b[0;34m\u001b[0m\u001b[0m\n",
        "\u001b[0;32m/Users/philtinn/anaconda/lib/python2.7/site-packages/patsy/eval.pyc\u001b[0m in \u001b[0;36meval\u001b[0;34m(self, memorize_state, data)\u001b[0m\n\u001b[1;32m    478\u001b[0m     \u001b[0;31m#    http://nedbatchelder.com/blog/200711/rethrowing_exceptions_in_python.html\u001b[0m\u001b[0;34m\u001b[0m\u001b[0;34m\u001b[0m\u001b[0m\n\u001b[1;32m    479\u001b[0m     \u001b[0;32mdef\u001b[0m \u001b[0meval\u001b[0m\u001b[0;34m(\u001b[0m\u001b[0mself\u001b[0m\u001b[0;34m,\u001b[0m \u001b[0mmemorize_state\u001b[0m\u001b[0;34m,\u001b[0m \u001b[0mdata\u001b[0m\u001b[0;34m)\u001b[0m\u001b[0;34m:\u001b[0m\u001b[0;34m\u001b[0m\u001b[0m\n\u001b[0;32m--> 480\u001b[0;31m         \u001b[0;32mreturn\u001b[0m \u001b[0mself\u001b[0m\u001b[0;34m.\u001b[0m\u001b[0m_eval\u001b[0m\u001b[0;34m(\u001b[0m\u001b[0mmemorize_state\u001b[0m\u001b[0;34m[\u001b[0m\u001b[0;34m\"eval_code\"\u001b[0m\u001b[0;34m]\u001b[0m\u001b[0;34m,\u001b[0m \u001b[0mmemorize_state\u001b[0m\u001b[0;34m,\u001b[0m \u001b[0mdata\u001b[0m\u001b[0;34m)\u001b[0m\u001b[0;34m\u001b[0m\u001b[0m\n\u001b[0m\u001b[1;32m    481\u001b[0m \u001b[0;34m\u001b[0m\u001b[0m\n\u001b[1;32m    482\u001b[0m \u001b[0;32mdef\u001b[0m \u001b[0mtest_EvalFactor_basics\u001b[0m\u001b[0;34m(\u001b[0m\u001b[0;34m)\u001b[0m\u001b[0;34m:\u001b[0m\u001b[0;34m\u001b[0m\u001b[0m\n",
        "\u001b[0;32m/Users/philtinn/anaconda/lib/python2.7/site-packages/patsy/eval.pyc\u001b[0m in \u001b[0;36m_eval\u001b[0;34m(self, code, memorize_state, data)\u001b[0m\n\u001b[1;32m    461\u001b[0m                                  \u001b[0mself\u001b[0m\u001b[0;34m,\u001b[0m\u001b[0;34m\u001b[0m\u001b[0m\n\u001b[1;32m    462\u001b[0m                                  \u001b[0mself\u001b[0m\u001b[0;34m.\u001b[0m\u001b[0m_eval_env\u001b[0m\u001b[0;34m.\u001b[0m\u001b[0meval\u001b[0m\u001b[0;34m,\u001b[0m\u001b[0;34m\u001b[0m\u001b[0m\n\u001b[0;32m--> 463\u001b[0;31m                                  code, inner_namespace=inner_namespace)\n\u001b[0m\u001b[1;32m    464\u001b[0m \u001b[0;34m\u001b[0m\u001b[0m\n\u001b[1;32m    465\u001b[0m     \u001b[0;32mdef\u001b[0m \u001b[0mmemorize_chunk\u001b[0m\u001b[0;34m(\u001b[0m\u001b[0mself\u001b[0m\u001b[0;34m,\u001b[0m \u001b[0mstate\u001b[0m\u001b[0;34m,\u001b[0m \u001b[0mwhich_pass\u001b[0m\u001b[0;34m,\u001b[0m \u001b[0mdata\u001b[0m\u001b[0;34m)\u001b[0m\u001b[0;34m:\u001b[0m\u001b[0;34m\u001b[0m\u001b[0m\n",
        "\u001b[0;32m/Users/philtinn/anaconda/lib/python2.7/site-packages/patsy/compat.pyc\u001b[0m in \u001b[0;36mcall_and_wrap_exc\u001b[0;34m(msg, origin, f, *args, **kwargs)\u001b[0m\n\u001b[1;32m    131\u001b[0m \u001b[0;32mdef\u001b[0m \u001b[0mcall_and_wrap_exc\u001b[0m\u001b[0;34m(\u001b[0m\u001b[0mmsg\u001b[0m\u001b[0;34m,\u001b[0m \u001b[0morigin\u001b[0m\u001b[0;34m,\u001b[0m \u001b[0mf\u001b[0m\u001b[0;34m,\u001b[0m \u001b[0;34m*\u001b[0m\u001b[0margs\u001b[0m\u001b[0;34m,\u001b[0m \u001b[0;34m**\u001b[0m\u001b[0mkwargs\u001b[0m\u001b[0;34m)\u001b[0m\u001b[0;34m:\u001b[0m\u001b[0;34m\u001b[0m\u001b[0m\n\u001b[1;32m    132\u001b[0m     \u001b[0;32mtry\u001b[0m\u001b[0;34m:\u001b[0m\u001b[0;34m\u001b[0m\u001b[0m\n\u001b[0;32m--> 133\u001b[0;31m         \u001b[0;32mreturn\u001b[0m \u001b[0mf\u001b[0m\u001b[0;34m(\u001b[0m\u001b[0;34m*\u001b[0m\u001b[0margs\u001b[0m\u001b[0;34m,\u001b[0m \u001b[0;34m**\u001b[0m\u001b[0mkwargs\u001b[0m\u001b[0;34m)\u001b[0m\u001b[0;34m\u001b[0m\u001b[0m\n\u001b[0m\u001b[1;32m    134\u001b[0m     \u001b[0;32mexcept\u001b[0m \u001b[0mException\u001b[0m\u001b[0;34m,\u001b[0m \u001b[0me\u001b[0m\u001b[0;34m:\u001b[0m\u001b[0;34m\u001b[0m\u001b[0m\n\u001b[1;32m    135\u001b[0m         \u001b[0;32mif\u001b[0m \u001b[0msys\u001b[0m\u001b[0;34m.\u001b[0m\u001b[0mversion_info\u001b[0m\u001b[0;34m[\u001b[0m\u001b[0;36m0\u001b[0m\u001b[0;34m]\u001b[0m \u001b[0;34m>=\u001b[0m \u001b[0;36m3\u001b[0m\u001b[0;34m:\u001b[0m\u001b[0;34m\u001b[0m\u001b[0m\n",
        "\u001b[0;32m/Users/philtinn/anaconda/lib/python2.7/site-packages/patsy/eval.pyc\u001b[0m in \u001b[0;36meval\u001b[0;34m(self, expr, source_name, inner_namespace)\u001b[0m\n\u001b[1;32m    120\u001b[0m         \u001b[0mcode\u001b[0m \u001b[0;34m=\u001b[0m \u001b[0mcompile\u001b[0m\u001b[0;34m(\u001b[0m\u001b[0mexpr\u001b[0m\u001b[0;34m,\u001b[0m \u001b[0msource_name\u001b[0m\u001b[0;34m,\u001b[0m \u001b[0;34m\"eval\"\u001b[0m\u001b[0;34m,\u001b[0m \u001b[0mself\u001b[0m\u001b[0;34m.\u001b[0m\u001b[0mflags\u001b[0m\u001b[0;34m,\u001b[0m \u001b[0mFalse\u001b[0m\u001b[0;34m)\u001b[0m\u001b[0;34m\u001b[0m\u001b[0m\n\u001b[1;32m    121\u001b[0m         return eval(code, {}, VarLookupDict([inner_namespace]\n\u001b[0;32m--> 122\u001b[0;31m                                             + self._namespaces))\n\u001b[0m\u001b[1;32m    123\u001b[0m \u001b[0;34m\u001b[0m\u001b[0m\n\u001b[1;32m    124\u001b[0m     \u001b[0;34m@\u001b[0m\u001b[0mclassmethod\u001b[0m\u001b[0;34m\u001b[0m\u001b[0m\n",
        "\u001b[0;32m<string>\u001b[0m in \u001b[0;36m<module>\u001b[0;34m()\u001b[0m\n",
        "\u001b[0;31mNameError\u001b[0m: name 'cr' is not defined"
       ]
      }
     ],
     "prompt_number": 47
    },
    {
     "cell_type": "markdown",
     "metadata": {},
     "source": [
      "##Checking Historical Performance\n",
      "\n",
      "Plot the performance of the predictions against the true outcomes. Break these out by year.\n",
      "\n",
      "First, look at predicted versus actual **vote share**. Green points/error bars have 99% error bars that contain the actual result; orange points/error bars do not have 99% intervals that contain the result. If the model were **well-calibrated**, each year would have 99% **coverage** (percentage of predictions with 99% intervals that cover the truth). The actual coverage is in the title of each plot."
     ]
    },
    {
     "cell_type": "code",
     "collapsed": false,
     "input": [
      "results_year = results_df.groupby(\"Year\")\n",
      "\n",
      "fignum = 0\n",
      "for yr, year_df in results_year:\n",
      "    covers = year_df['Covers99']\n",
      "    err99 = year_df['PredSE']*2.54\n",
      "    \n",
      "    #Colors for predictions that cover or miss the truth.\n",
      "    cover_color = dark2_colors[0]\n",
      "    miss_color = \"darkorange\"\n",
      "    \n",
      "    fignum += 1    \n",
      "    plt.subplot(2, 3, fignum)\n",
      "    #Plot predictions that cover the truth.\n",
      "    plt.errorbar(year_df.ix[covers, 'Result'],\n",
      "                 year_df.ix[covers, 'Pred'],\n",
      "                 yerr=err99[covers], fmt='o', c=cover_color, ecolor=cover_color)\n",
      "    #Plot predictions that miss.\n",
      "    plt.errorbar(year_df.ix[~covers, 'Result'],\n",
      "                 year_df.ix[~covers, 'Pred'],\n",
      "                 yerr=err99[~covers], fmt='o', c=miss_color, ecolor=miss_color)\n",
      "        \n",
      "    plt.xlim((-60,60))\n",
      "    plt.ylim((-60,60))\n",
      "    plt.plot([-60,60], [-60,60], linewidth=1, color='black')\n",
      "    \n",
      "    plt.title(\"%d: %d%%\"%(yr, (np.mean(covers)*100).round()))\n",
      "    plt.xlabel(\"Actual\")\n",
      "    plt.ylabel(\"Predicted + Interval\")\n",
      "    \n",
      "plt.tight_layout()\n",
      "plt.show()"
     ],
     "language": "python",
     "metadata": {},
     "outputs": [
      {
       "ename": "NameError",
       "evalue": "name 'results_df' is not defined",
       "output_type": "pyerr",
       "traceback": [
        "\u001b[0;31m---------------------------------------------------------------------------\u001b[0m\n\u001b[0;31mNameError\u001b[0m                                 Traceback (most recent call last)",
        "\u001b[0;32m<ipython-input-48-abd1109f7ebb>\u001b[0m in \u001b[0;36m<module>\u001b[0;34m()\u001b[0m\n\u001b[0;32m----> 1\u001b[0;31m \u001b[0mresults_year\u001b[0m \u001b[0;34m=\u001b[0m \u001b[0mresults_df\u001b[0m\u001b[0;34m.\u001b[0m\u001b[0mgroupby\u001b[0m\u001b[0;34m(\u001b[0m\u001b[0;34m\"Year\"\u001b[0m\u001b[0;34m)\u001b[0m\u001b[0;34m\u001b[0m\u001b[0m\n\u001b[0m\u001b[1;32m      2\u001b[0m \u001b[0;34m\u001b[0m\u001b[0m\n\u001b[1;32m      3\u001b[0m \u001b[0mfignum\u001b[0m \u001b[0;34m=\u001b[0m \u001b[0;36m0\u001b[0m\u001b[0;34m\u001b[0m\u001b[0m\n\u001b[1;32m      4\u001b[0m \u001b[0;32mfor\u001b[0m \u001b[0myr\u001b[0m\u001b[0;34m,\u001b[0m \u001b[0myear_df\u001b[0m \u001b[0;32min\u001b[0m \u001b[0mresults_year\u001b[0m\u001b[0;34m:\u001b[0m\u001b[0;34m\u001b[0m\u001b[0m\n\u001b[1;32m      5\u001b[0m     \u001b[0mcovers\u001b[0m \u001b[0;34m=\u001b[0m \u001b[0myear_df\u001b[0m\u001b[0;34m[\u001b[0m\u001b[0;34m'Covers99'\u001b[0m\u001b[0;34m]\u001b[0m\u001b[0;34m\u001b[0m\u001b[0m\n",
        "\u001b[0;31mNameError\u001b[0m: name 'results_df' is not defined"
       ]
      }
     ],
     "prompt_number": 48
    },
    {
     "cell_type": "markdown",
     "metadata": {},
     "source": [
      "The model is not very well-calibrated since the 99% prediction intervals contain the truth far less than 99% of the time. However, the predictions seem to track well with the truth, suggesting that our current model is **overconfident** and is giving predictive intervals that are too short. If we made the predictive intervals larger, then they would contain the truth closer to 99% of time time. But these intervals (ostensibly) take into account all of the variation *between* polls. Where is the extra variation coming from? That's what you should think about on your homework."
     ]
    },
    {
     "cell_type": "markdown",
     "metadata": {},
     "source": [
      "We can do the same sort of performance check with the binary \"Dem or Republican\" outcome. Compute the predictied probability of a Republican win using the normal approximation to our predictive distribution. Look at the probability that a vote percentage difference drawn from this distribution is greater than zero.\n",
      "\n",
      "Since we saw that our predictive distributions were too narrow (resulting in low coverage) in the last part, try adding some additional variance to the predictive distribution."
     ]
    },
    {
     "cell_type": "code",
     "collapsed": false,
     "input": [
      "from scipy.stats import norm\n",
      "\n",
      "#`norm.cdf` returns the probability that a normal random variable is less than\n",
      "#a particular value.\n",
      "#Here we add 2 to the predicted distribution's standard deviation.\n",
      "#What might this extra variation represent?\n",
      "results_df['prob_rep_win'] = 1-norm.cdf(0, loc=results_df['Pred'], scale=results_df['PredSE']+2)"
     ],
     "language": "python",
     "metadata": {},
     "outputs": [
      {
       "ename": "NameError",
       "evalue": "name 'results_df' is not defined",
       "output_type": "pyerr",
       "traceback": [
        "\u001b[0;31m---------------------------------------------------------------------------\u001b[0m\n\u001b[0;31mNameError\u001b[0m                                 Traceback (most recent call last)",
        "\u001b[0;32m<ipython-input-49-e2fd4a8c96c6>\u001b[0m in \u001b[0;36m<module>\u001b[0;34m()\u001b[0m\n\u001b[1;32m      5\u001b[0m \u001b[0;31m#Here we add 2 to the predicted distribution's standard deviation.\u001b[0m\u001b[0;34m\u001b[0m\u001b[0;34m\u001b[0m\u001b[0m\n\u001b[1;32m      6\u001b[0m \u001b[0;31m#What might this extra variation represent?\u001b[0m\u001b[0;34m\u001b[0m\u001b[0;34m\u001b[0m\u001b[0m\n\u001b[0;32m----> 7\u001b[0;31m \u001b[0mresults_df\u001b[0m\u001b[0;34m[\u001b[0m\u001b[0;34m'prob_rep_win'\u001b[0m\u001b[0;34m]\u001b[0m \u001b[0;34m=\u001b[0m \u001b[0;36m1\u001b[0m\u001b[0;34m-\u001b[0m\u001b[0mnorm\u001b[0m\u001b[0;34m.\u001b[0m\u001b[0mcdf\u001b[0m\u001b[0;34m(\u001b[0m\u001b[0;36m0\u001b[0m\u001b[0;34m,\u001b[0m \u001b[0mloc\u001b[0m\u001b[0;34m=\u001b[0m\u001b[0mresults_df\u001b[0m\u001b[0;34m[\u001b[0m\u001b[0;34m'Pred'\u001b[0m\u001b[0;34m]\u001b[0m\u001b[0;34m,\u001b[0m \u001b[0mscale\u001b[0m\u001b[0;34m=\u001b[0m\u001b[0mresults_df\u001b[0m\u001b[0;34m[\u001b[0m\u001b[0;34m'PredSE'\u001b[0m\u001b[0;34m]\u001b[0m\u001b[0;34m+\u001b[0m\u001b[0;36m2\u001b[0m\u001b[0;34m)\u001b[0m\u001b[0;34m\u001b[0m\u001b[0m\n\u001b[0m",
        "\u001b[0;31mNameError\u001b[0m: name 'results_df' is not defined"
       ]
      }
     ],
     "prompt_number": 49
    },
    {
     "cell_type": "markdown",
     "metadata": {},
     "source": [
      "To see whether these probabilities look better calibrated, group the data by the predicted probability of a Republican win. See whether the empirical win percentage in each group seems to track with the predicted win percentage."
     ]
    },
    {
     "cell_type": "code",
     "collapsed": false,
     "input": [
      "results_df['pred_group'] = pd.cut(results_df['prob_rep_win'], 10)\n",
      "pred_groups = results_df.groupby(\"pred_group\")\n",
      "pred_prob = pred_groups['prob_rep_win'].aggregate(np.mean)\n",
      "real_prob = pred_groups['Result'].aggregate(lambda x: np.mean(x > 0))\n",
      "\n",
      "plt.scatter(pred_prob, real_prob)\n",
      "plt.xlim(0,1)\n",
      "plt.ylim(0,1)\n",
      "plt.plot([0,1], [0,1], linewidth=1, color='black')\n",
      "\n",
      "plt.title(\"Republican Win Probability\")\n",
      "plt.xlabel(\"Actual\")\n",
      "plt.ylabel(\"Predicted\")\n",
      "plt.gca().set_aspect('equal')"
     ],
     "language": "python",
     "metadata": {},
     "outputs": [
      {
       "ename": "NameError",
       "evalue": "name 'results_df' is not defined",
       "output_type": "pyerr",
       "traceback": [
        "\u001b[0;31m---------------------------------------------------------------------------\u001b[0m\n\u001b[0;31mNameError\u001b[0m                                 Traceback (most recent call last)",
        "\u001b[0;32m<ipython-input-50-253be29b95a8>\u001b[0m in \u001b[0;36m<module>\u001b[0;34m()\u001b[0m\n\u001b[0;32m----> 1\u001b[0;31m \u001b[0mresults_df\u001b[0m\u001b[0;34m[\u001b[0m\u001b[0;34m'pred_group'\u001b[0m\u001b[0;34m]\u001b[0m \u001b[0;34m=\u001b[0m \u001b[0mpd\u001b[0m\u001b[0;34m.\u001b[0m\u001b[0mcut\u001b[0m\u001b[0;34m(\u001b[0m\u001b[0mresults_df\u001b[0m\u001b[0;34m[\u001b[0m\u001b[0;34m'prob_rep_win'\u001b[0m\u001b[0;34m]\u001b[0m\u001b[0;34m,\u001b[0m \u001b[0;36m10\u001b[0m\u001b[0;34m)\u001b[0m\u001b[0;34m\u001b[0m\u001b[0m\n\u001b[0m\u001b[1;32m      2\u001b[0m \u001b[0mpred_groups\u001b[0m \u001b[0;34m=\u001b[0m \u001b[0mresults_df\u001b[0m\u001b[0;34m.\u001b[0m\u001b[0mgroupby\u001b[0m\u001b[0;34m(\u001b[0m\u001b[0;34m\"pred_group\"\u001b[0m\u001b[0;34m)\u001b[0m\u001b[0;34m\u001b[0m\u001b[0m\n\u001b[1;32m      3\u001b[0m \u001b[0mpred_prob\u001b[0m \u001b[0;34m=\u001b[0m \u001b[0mpred_groups\u001b[0m\u001b[0;34m[\u001b[0m\u001b[0;34m'prob_rep_win'\u001b[0m\u001b[0;34m]\u001b[0m\u001b[0;34m.\u001b[0m\u001b[0maggregate\u001b[0m\u001b[0;34m(\u001b[0m\u001b[0mnp\u001b[0m\u001b[0;34m.\u001b[0m\u001b[0mmean\u001b[0m\u001b[0;34m)\u001b[0m\u001b[0;34m\u001b[0m\u001b[0m\n\u001b[1;32m      4\u001b[0m \u001b[0mreal_prob\u001b[0m \u001b[0;34m=\u001b[0m \u001b[0mpred_groups\u001b[0m\u001b[0;34m[\u001b[0m\u001b[0;34m'Result'\u001b[0m\u001b[0;34m]\u001b[0m\u001b[0;34m.\u001b[0m\u001b[0maggregate\u001b[0m\u001b[0;34m(\u001b[0m\u001b[0;32mlambda\u001b[0m \u001b[0mx\u001b[0m\u001b[0;34m:\u001b[0m \u001b[0mnp\u001b[0m\u001b[0;34m.\u001b[0m\u001b[0mmean\u001b[0m\u001b[0;34m(\u001b[0m\u001b[0mx\u001b[0m \u001b[0;34m>\u001b[0m \u001b[0;36m0\u001b[0m\u001b[0;34m)\u001b[0m\u001b[0;34m)\u001b[0m\u001b[0;34m\u001b[0m\u001b[0m\n\u001b[1;32m      5\u001b[0m \u001b[0;34m\u001b[0m\u001b[0m\n",
        "\u001b[0;31mNameError\u001b[0m: name 'results_df' is not defined"
       ]
      }
     ],
     "prompt_number": 50
    },
    {
     "cell_type": "markdown",
     "metadata": {},
     "source": [
      "Adding some variation does seem to help in predicting win percentages. There are still some real issues for the close races near 50%. Those are also the most interesting ones for a forecaster's perspective, so this is a problem. Hopefully, you can do better on the homework!"
     ]
    }
   ],
   "metadata": {}
  }
 ]
}